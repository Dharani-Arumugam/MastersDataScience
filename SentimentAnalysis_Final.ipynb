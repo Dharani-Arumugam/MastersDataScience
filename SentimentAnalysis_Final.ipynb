{
 "cells": [
  {
   "cell_type": "code",
   "execution_count": 20,
   "metadata": {},
   "outputs": [
    {
     "data": {
      "application/vnd.jupyter.widget-view+json": {
       "model_id": "68534c361d2d42a191457a0dddcde82d",
       "version_major": 2,
       "version_minor": 0
      },
      "text/plain": [
       "VBox()"
      ]
     },
     "metadata": {},
     "output_type": "display_data"
    },
    {
     "data": {
      "application/vnd.jupyter.widget-view+json": {
       "model_id": "",
       "version_major": 2,
       "version_minor": 0
      },
      "text/plain": [
       "FloatProgress(value=0.0, bar_style='info', description='Progress:', layout=Layout(height='25px', width='50%'),…"
      ]
     },
     "metadata": {},
     "output_type": "display_data"
    }
   ],
   "source": [
    "import sparknlp"
   ]
  },
  {
   "cell_type": "code",
   "execution_count": 21,
   "metadata": {},
   "outputs": [
    {
     "data": {
      "application/vnd.jupyter.widget-view+json": {
       "model_id": "e6fef5b57a204b1a91dd5db4478d4102",
       "version_major": 2,
       "version_minor": 0
      },
      "text/plain": [
       "VBox()"
      ]
     },
     "metadata": {},
     "output_type": "display_data"
    },
    {
     "data": {
      "application/vnd.jupyter.widget-view+json": {
       "model_id": "",
       "version_major": 2,
       "version_minor": 0
      },
      "text/plain": [
       "FloatProgress(value=0.0, bar_style='info', description='Progress:', layout=Layout(height='25px', width='50%'),…"
      ]
     },
     "metadata": {},
     "output_type": "display_data"
    }
   ],
   "source": [
    "import nltk"
   ]
  },
  {
   "cell_type": "code",
   "execution_count": 22,
   "metadata": {},
   "outputs": [
    {
     "data": {
      "application/vnd.jupyter.widget-view+json": {
       "model_id": "db78e4891b444fb0830eb4e1f3ef4160",
       "version_major": 2,
       "version_minor": 0
      },
      "text/plain": [
       "VBox()"
      ]
     },
     "metadata": {},
     "output_type": "display_data"
    },
    {
     "data": {
      "application/vnd.jupyter.widget-view+json": {
       "model_id": "",
       "version_major": 2,
       "version_minor": 0
      },
      "text/plain": [
       "FloatProgress(value=0.0, bar_style='info', description='Progress:', layout=Layout(height='25px', width='50%'),…"
      ]
     },
     "metadata": {},
     "output_type": "display_data"
    }
   ],
   "source": [
    "import string\n",
    "import re\n",
    "\n",
    "#Import required pyspark libraries\n",
    "import pyspark\n",
    "from pyspark.sql import SparkSession\n",
    "from pyspark.sql.functions import concat, col, lit\n",
    "from pyspark.sql.functions import udf\n",
    "from pyspark.sql.functions import col,isnan, when, count\n",
    "from pyspark.sql.functions import regexp_replace, trim, col, lower\n",
    "\n",
    "from pyspark.ml import Pipeline\n",
    "\n",
    "#Import required sparknlp libraries\n",
    "import sparknlp\n",
    "\n",
    "from sparknlp.annotator import *\n",
    "from sparknlp.common import *\n",
    "from sparknlp.base import *\n",
    "from sparknlp.pretrained import PretrainedPipeline\n",
    "\n"
   ]
  },
  {
   "cell_type": "code",
   "execution_count": 23,
   "metadata": {},
   "outputs": [
    {
     "data": {
      "application/vnd.jupyter.widget-view+json": {
       "model_id": "71cc8648ca2f4136a4a3449b5b7a6c7b",
       "version_major": 2,
       "version_minor": 0
      },
      "text/plain": [
       "VBox()"
      ]
     },
     "metadata": {},
     "output_type": "display_data"
    },
    {
     "data": {
      "application/vnd.jupyter.widget-view+json": {
       "model_id": "",
       "version_major": 2,
       "version_minor": 0
      },
      "text/plain": [
       "FloatProgress(value=0.0, bar_style='info', description='Progress:', layout=Layout(height='25px', width='50%'),…"
      ]
     },
     "metadata": {},
     "output_type": "display_data"
    }
   ],
   "source": [
    "import os\n",
    "import sys"
   ]
  },
  {
   "cell_type": "code",
   "execution_count": 24,
   "metadata": {},
   "outputs": [
    {
     "data": {
      "text/html": [
       "Current session configs: <tt>{'proxyUser': 'assumed-role_voclabs_user2016745_ardharani2604_gmail_com', 'conf': {'spark.pyspark.python': 'python3', 'spark.pyspark.virtualenv.enabled': 'true', 'spark.pyspark.virtualenv.type': 'native', 'spark.pyspark.virtualenv.bin.path': '/usr/bin/virtualenv'}, 'kind': 'pyspark'}</tt><br>"
      ],
      "text/plain": [
       "<IPython.core.display.HTML object>"
      ]
     },
     "metadata": {},
     "output_type": "display_data"
    },
    {
     "data": {
      "text/html": [
       "<table>\n",
       "<tr><th>ID</th><th>YARN Application ID</th><th>Kind</th><th>State</th><th>Spark UI</th><th>Driver log</th><th>User</th><th>Current session?</th></tr><tr><td>0</td><td>application_1660508703299_0001</td><td>pyspark</td><td>idle</td><td><a target=\"_blank\" href=\"http://ip-172-31-32-197.ec2.internal:20888/proxy/application_1660508703299_0001/\" class=\"emr-proxy-link\" emr-resource=\"j-ICV4G4GT7P4S\n",
       "\" application-id=\"application_1660508703299_0001\">Link</a></td><td><a target=\"_blank\" href=\"http://ip-172-31-32-129.ec2.internal:8042/node/containerlogs/container_1660508703299_0001_01_000001/livy\" >Link</a></td><td>None</td><td>✔</td></tr></table>"
      ],
      "text/plain": [
       "<IPython.core.display.HTML object>"
      ]
     },
     "metadata": {},
     "output_type": "display_data"
    }
   ],
   "source": [
    "%%info"
   ]
  },
  {
   "cell_type": "code",
   "execution_count": 25,
   "metadata": {},
   "outputs": [
    {
     "data": {
      "application/vnd.jupyter.widget-view+json": {
       "model_id": "149a32059f6a47f9bfbb6f45a0b999de",
       "version_major": 2,
       "version_minor": 0
      },
      "text/plain": [
       "VBox()"
      ]
     },
     "metadata": {},
     "output_type": "display_data"
    },
    {
     "data": {
      "application/vnd.jupyter.widget-view+json": {
       "model_id": "",
       "version_major": 2,
       "version_minor": 0
      },
      "text/plain": [
       "FloatProgress(value=0.0, bar_style='info', description='Progress:', layout=Layout(height='25px', width='50%'),…"
      ]
     },
     "metadata": {},
     "output_type": "display_data"
    }
   ],
   "source": [
    "import nltk\n",
    "from nltk.corpus import stopwords"
   ]
  },
  {
   "cell_type": "code",
   "execution_count": 26,
   "metadata": {},
   "outputs": [
    {
     "data": {
      "application/vnd.jupyter.widget-view+json": {
       "model_id": "c6e1483f40004725b1d2201d157277c7",
       "version_major": 2,
       "version_minor": 0
      },
      "text/plain": [
       "VBox()"
      ]
     },
     "metadata": {},
     "output_type": "display_data"
    },
    {
     "data": {
      "application/vnd.jupyter.widget-view+json": {
       "model_id": "",
       "version_major": 2,
       "version_minor": 0
      },
      "text/plain": [
       "FloatProgress(value=0.0, bar_style='info', description='Progress:', layout=Layout(height='25px', width='50%'),…"
      ]
     },
     "metadata": {},
     "output_type": "display_data"
    }
   ],
   "source": [
    "stop_wrd = list( stopwords.words('english'))"
   ]
  },
  {
   "cell_type": "code",
   "execution_count": 27,
   "metadata": {},
   "outputs": [
    {
     "data": {
      "application/vnd.jupyter.widget-view+json": {
       "model_id": "24fb475cf1c84457b1784a81b8848f5c",
       "version_major": 2,
       "version_minor": 0
      },
      "text/plain": [
       "VBox()"
      ]
     },
     "metadata": {},
     "output_type": "display_data"
    },
    {
     "data": {
      "application/vnd.jupyter.widget-view+json": {
       "model_id": "",
       "version_major": 2,
       "version_minor": 0
      },
      "text/plain": [
       "FloatProgress(value=0.0, bar_style='info', description='Progress:', layout=Layout(height='25px', width='50%'),…"
      ]
     },
     "metadata": {},
     "output_type": "display_data"
    },
    {
     "name": "stdout",
     "output_type": "stream",
     "text": [
      "Spark NLP version:  4.0.2\n",
      "Apache Spark version:  3.2.0-amzn-0"
     ]
    }
   ],
   "source": [
    "spark = sparknlp.start()\n",
    "\n",
    "print(\"Spark NLP version: \", sparknlp.version())\n",
    "print(\"Apache Spark version: \", spark.version)"
   ]
  },
  {
   "cell_type": "code",
   "execution_count": 28,
   "metadata": {},
   "outputs": [
    {
     "data": {
      "application/vnd.jupyter.widget-view+json": {
       "model_id": "d8be308c13cc4a6892f0773d690ebb23",
       "version_major": 2,
       "version_minor": 0
      },
      "text/plain": [
       "VBox()"
      ]
     },
     "metadata": {},
     "output_type": "display_data"
    },
    {
     "data": {
      "application/vnd.jupyter.widget-view+json": {
       "model_id": "",
       "version_major": 2,
       "version_minor": 0
      },
      "text/plain": [
       "FloatProgress(value=0.0, bar_style='info', description='Progress:', layout=Layout(height='25px', width='50%'),…"
      ]
     },
     "metadata": {},
     "output_type": "display_data"
    }
   ],
   "source": [
    "spark = SparkSession.builder.appName('sentiment_analysis').getOrCreate()"
   ]
  },
  {
   "cell_type": "code",
   "execution_count": 29,
   "metadata": {},
   "outputs": [
    {
     "data": {
      "application/vnd.jupyter.widget-view+json": {
       "model_id": "bd062354d3b04f0cbaf70121033cf2fa",
       "version_major": 2,
       "version_minor": 0
      },
      "text/plain": [
       "VBox()"
      ]
     },
     "metadata": {},
     "output_type": "display_data"
    },
    {
     "data": {
      "application/vnd.jupyter.widget-view+json": {
       "model_id": "",
       "version_major": 2,
       "version_minor": 0
      },
      "text/plain": [
       "FloatProgress(value=0.0, bar_style='info', description='Progress:', layout=Layout(height='25px', width='50%'),…"
      ]
     },
     "metadata": {},
     "output_type": "display_data"
    },
    {
     "name": "stdout",
     "output_type": "stream",
     "text": [
      "+----------+-----+-------+-------------------------------------------------------------------------------------------------------------------------------------------------------------------------------------------------------------------------------------------+-----------+--------------+-------------------+-----------------+-----------------+--------------+--------+----+\n",
      "|asin      |image|overall|reviewText                                                                                                                                                                                                                                 |reviewTime |reviewerID    |reviewerName       |style            |summary          |unixReviewTime|verified|vote|\n",
      "+----------+-----+-------+-------------------------------------------------------------------------------------------------------------------------------------------------------------------------------------------------------------------------------------------+-----------+--------------+-------------------+-----------------+-----------------+--------------+--------+----+\n",
      "|B000FA5KK0|null |4.0    |pretty good story, a little exaggerated, but I liked it pretty well.  liked the characters, the plot..it had mystery, action, love, all of the main things. I think most western lovers would injoy this book                              |07 3, 2014 |A2LSKD2H9U8N0J|sandra sue marsolek|{ Kindle Edition}|pretty good story|1404345600    |true    |null|\n",
      "|B000FA5KK0|null |5.0    |If you've read other max brand westerns, you know what to expect, if not, you,'re in for a treat. Let's strap on our six guns! We gotta ride!                                                                                              |05 26, 2014|A2QP13XTJND1QS|Tpl                |{ Kindle Edition}|A very good book |1401062400    |true    |null|\n",
      "|B000FA5KK0|null |5.0    |Love Max, always a fun twist                                                                                                                                                                                                               |09 16, 2016|A8WQ7MAG3HFOZ |Alverne F. Anderson|{ Kindle Edition}|Five Stars       |1473984000    |true    |null|\n",
      "|B000FA5KK0|null |5.0    |As usual for him, a good book                                                                                                                                                                                                              |03 3, 2016 |A1E0MODSRYP7O |Jeff               |{ Kindle Edition}|a good           |1456963200    |true    |null|\n",
      "|B000FA5KK0|null |5.0    |MB is one of the original western writers and after so many years and so many retreads the man is in a class all his own. Just like Zane Grey and Bret Harrell. This is an excellent read, from a time of real cowmen, for the genre.....ER|09 10, 2015|AYUTCGVSM1H7T |DEHS - EddyRapcon  |{ Kindle Edition}|A Western        |1441843200    |true    |2   |\n",
      "+----------+-----+-------+-------------------------------------------------------------------------------------------------------------------------------------------------------------------------------------------------------------------------------------------+-----------+--------------+-------------------+-----------------+-----------------+--------------+--------+----+\n",
      "only showing top 5 rows"
     ]
    }
   ],
   "source": [
    "# Reading data from S3 to a DataFrame\n",
    "reviews_df = spark.read.json('s3://mskindledata/Kindle_Store_5.json')\n",
    "reviews_df.show(5,truncate=False)"
   ]
  },
  {
   "cell_type": "code",
   "execution_count": 30,
   "metadata": {},
   "outputs": [
    {
     "data": {
      "application/vnd.jupyter.widget-view+json": {
       "model_id": "ac91012e859343e89574f63c0f012a14",
       "version_major": 2,
       "version_minor": 0
      },
      "text/plain": [
       "VBox()"
      ]
     },
     "metadata": {},
     "output_type": "display_data"
    },
    {
     "data": {
      "application/vnd.jupyter.widget-view+json": {
       "model_id": "",
       "version_major": 2,
       "version_minor": 0
      },
      "text/plain": [
       "FloatProgress(value=0.0, bar_style='info', description='Progress:', layout=Layout(height='25px', width='50%'),…"
      ]
     },
     "metadata": {},
     "output_type": "display_data"
    },
    {
     "name": "stdout",
     "output_type": "stream",
     "text": [
      "DataFrame[asin: string, image: array<string>, overall: double, reviewText: string, reviewTime: string, reviewerID: string, reviewerName: string, style: struct<Format::string>, summary: string, unixReviewTime: bigint, verified: boolean, vote: string]"
     ]
    }
   ],
   "source": [
    "reviews_df.cache()"
   ]
  },
  {
   "cell_type": "code",
   "execution_count": 31,
   "metadata": {},
   "outputs": [
    {
     "data": {
      "application/vnd.jupyter.widget-view+json": {
       "model_id": "27c6b343710e4de482934deab2c21c27",
       "version_major": 2,
       "version_minor": 0
      },
      "text/plain": [
       "VBox()"
      ]
     },
     "metadata": {},
     "output_type": "display_data"
    },
    {
     "data": {
      "application/vnd.jupyter.widget-view+json": {
       "model_id": "",
       "version_major": 2,
       "version_minor": 0
      },
      "text/plain": [
       "FloatProgress(value=0.0, bar_style='info', description='Progress:', layout=Layout(height='25px', width='50%'),…"
      ]
     },
     "metadata": {},
     "output_type": "display_data"
    },
    {
     "name": "stdout",
     "output_type": "stream",
     "text": [
      "root\n",
      " |-- asin: string (nullable = true)\n",
      " |-- image: array (nullable = true)\n",
      " |    |-- element: string (containsNull = true)\n",
      " |-- overall: double (nullable = true)\n",
      " |-- reviewText: string (nullable = true)\n",
      " |-- reviewTime: string (nullable = true)\n",
      " |-- reviewerID: string (nullable = true)\n",
      " |-- reviewerName: string (nullable = true)\n",
      " |-- style: struct (nullable = true)\n",
      " |    |-- Format:: string (nullable = true)\n",
      " |-- summary: string (nullable = true)\n",
      " |-- unixReviewTime: long (nullable = true)\n",
      " |-- verified: boolean (nullable = true)\n",
      " |-- vote: string (nullable = true)"
     ]
    }
   ],
   "source": [
    "reviews_df.printSchema()"
   ]
  },
  {
   "cell_type": "code",
   "execution_count": 32,
   "metadata": {},
   "outputs": [
    {
     "data": {
      "application/vnd.jupyter.widget-view+json": {
       "model_id": "267a5c95f8634c45807c2b2c49861ccf",
       "version_major": 2,
       "version_minor": 0
      },
      "text/plain": [
       "VBox()"
      ]
     },
     "metadata": {},
     "output_type": "display_data"
    },
    {
     "data": {
      "application/vnd.jupyter.widget-view+json": {
       "model_id": "",
       "version_major": 2,
       "version_minor": 0
      },
      "text/plain": [
       "FloatProgress(value=0.0, bar_style='info', description='Progress:', layout=Layout(height='25px', width='50%'),…"
      ]
     },
     "metadata": {},
     "output_type": "display_data"
    },
    {
     "name": "stdout",
     "output_type": "stream",
     "text": [
      "2222983"
     ]
    }
   ],
   "source": [
    "reviews_df.count()"
   ]
  },
  {
   "cell_type": "code",
   "execution_count": 33,
   "metadata": {},
   "outputs": [
    {
     "data": {
      "application/vnd.jupyter.widget-view+json": {
       "model_id": "c83d074517a54e7eb2ba53032fe56971",
       "version_major": 2,
       "version_minor": 0
      },
      "text/plain": [
       "VBox()"
      ]
     },
     "metadata": {},
     "output_type": "display_data"
    },
    {
     "data": {
      "application/vnd.jupyter.widget-view+json": {
       "model_id": "",
       "version_major": 2,
       "version_minor": 0
      },
      "text/plain": [
       "FloatProgress(value=0.0, bar_style='info', description='Progress:', layout=Layout(height='25px', width='50%'),…"
      ]
     },
     "metadata": {},
     "output_type": "display_data"
    }
   ],
   "source": [
    "reviews_df = reviews_df.dropDuplicates(['reviewTime','reviewerID','asin', 'reviewerName', 'reviewText', 'summary'])"
   ]
  },
  {
   "cell_type": "code",
   "execution_count": 34,
   "metadata": {},
   "outputs": [
    {
     "data": {
      "application/vnd.jupyter.widget-view+json": {
       "model_id": "c3e7b31b6fe743ac94b3a42f7433c166",
       "version_major": 2,
       "version_minor": 0
      },
      "text/plain": [
       "VBox()"
      ]
     },
     "metadata": {},
     "output_type": "display_data"
    },
    {
     "data": {
      "application/vnd.jupyter.widget-view+json": {
       "model_id": "",
       "version_major": 2,
       "version_minor": 0
      },
      "text/plain": [
       "FloatProgress(value=0.0, bar_style='info', description='Progress:', layout=Layout(height='25px', width='50%'),…"
      ]
     },
     "metadata": {},
     "output_type": "display_data"
    },
    {
     "name": "stdout",
     "output_type": "stream",
     "text": [
      "2220617"
     ]
    }
   ],
   "source": [
    "reviews_df.count()"
   ]
  },
  {
   "cell_type": "code",
   "execution_count": 35,
   "metadata": {},
   "outputs": [
    {
     "data": {
      "application/vnd.jupyter.widget-view+json": {
       "model_id": "9f6ee035ea574ac99b19970576f319b4",
       "version_major": 2,
       "version_minor": 0
      },
      "text/plain": [
       "VBox()"
      ]
     },
     "metadata": {},
     "output_type": "display_data"
    },
    {
     "data": {
      "application/vnd.jupyter.widget-view+json": {
       "model_id": "",
       "version_major": 2,
       "version_minor": 0
      },
      "text/plain": [
       "FloatProgress(value=0.0, bar_style='info', description='Progress:', layout=Layout(height='25px', width='50%'),…"
      ]
     },
     "metadata": {},
     "output_type": "display_data"
    }
   ],
   "source": [
    "## Dropping null values in columns reviewtext, summary\n",
    "df = reviews_df.dropna(subset=['reviewText', 'summary'])"
   ]
  },
  {
   "cell_type": "code",
   "execution_count": 36,
   "metadata": {},
   "outputs": [
    {
     "data": {
      "application/vnd.jupyter.widget-view+json": {
       "model_id": "5f2827b7e22448b6b3ee7181cdf5c40b",
       "version_major": 2,
       "version_minor": 0
      },
      "text/plain": [
       "VBox()"
      ]
     },
     "metadata": {},
     "output_type": "display_data"
    },
    {
     "data": {
      "application/vnd.jupyter.widget-view+json": {
       "model_id": "",
       "version_major": 2,
       "version_minor": 0
      },
      "text/plain": [
       "FloatProgress(value=0.0, bar_style='info', description='Progress:', layout=Layout(height='25px', width='50%'),…"
      ]
     },
     "metadata": {},
     "output_type": "display_data"
    },
    {
     "name": "stdout",
     "output_type": "stream",
     "text": [
      "2218487"
     ]
    }
   ],
   "source": [
    "df.count()"
   ]
  },
  {
   "cell_type": "code",
   "execution_count": 37,
   "metadata": {},
   "outputs": [
    {
     "data": {
      "application/vnd.jupyter.widget-view+json": {
       "model_id": "be832dc4c23b4c328cbe97da4d3d0111",
       "version_major": 2,
       "version_minor": 0
      },
      "text/plain": [
       "VBox()"
      ]
     },
     "metadata": {},
     "output_type": "display_data"
    },
    {
     "data": {
      "application/vnd.jupyter.widget-view+json": {
       "model_id": "",
       "version_major": 2,
       "version_minor": 0
      },
      "text/plain": [
       "FloatProgress(value=0.0, bar_style='info', description='Progress:', layout=Layout(height='25px', width='50%'),…"
      ]
     },
     "metadata": {},
     "output_type": "display_data"
    }
   ],
   "source": [
    "columns_to_drop = ['asin','image', 'reviewerID', 'reviewerName', 'unixReviewTime', 'vote', 'verified', 'unixReviewTime', 'style', 'reviewTime']\n",
    "df = df.drop(*columns_to_drop)"
   ]
  },
  {
   "cell_type": "code",
   "execution_count": 38,
   "metadata": {},
   "outputs": [
    {
     "data": {
      "application/vnd.jupyter.widget-view+json": {
       "model_id": "e78c42b0c68b4aa3810f8d2df1382c62",
       "version_major": 2,
       "version_minor": 0
      },
      "text/plain": [
       "VBox()"
      ]
     },
     "metadata": {},
     "output_type": "display_data"
    },
    {
     "data": {
      "application/vnd.jupyter.widget-view+json": {
       "model_id": "",
       "version_major": 2,
       "version_minor": 0
      },
      "text/plain": [
       "FloatProgress(value=0.0, bar_style='info', description='Progress:', layout=Layout(height='25px', width='50%'),…"
      ]
     },
     "metadata": {},
     "output_type": "display_data"
    },
    {
     "name": "stdout",
     "output_type": "stream",
     "text": [
      "root\n",
      " |-- overall: double (nullable = true)\n",
      " |-- reviewText: string (nullable = true)\n",
      " |-- summary: string (nullable = true)"
     ]
    }
   ],
   "source": [
    "df.printSchema()\n",
    "#find number of null values"
   ]
  },
  {
   "cell_type": "code",
   "execution_count": 39,
   "metadata": {},
   "outputs": [
    {
     "data": {
      "application/vnd.jupyter.widget-view+json": {
       "model_id": "44a1dd9ceb6549e4b43014d4e0405e4f",
       "version_major": 2,
       "version_minor": 0
      },
      "text/plain": [
       "VBox()"
      ]
     },
     "metadata": {},
     "output_type": "display_data"
    },
    {
     "data": {
      "application/vnd.jupyter.widget-view+json": {
       "model_id": "",
       "version_major": 2,
       "version_minor": 0
      },
      "text/plain": [
       "FloatProgress(value=0.0, bar_style='info', description='Progress:', layout=Layout(height='25px', width='50%'),…"
      ]
     },
     "metadata": {},
     "output_type": "display_data"
    },
    {
     "name": "stdout",
     "output_type": "stream",
     "text": [
      "+-------+----------------------------------------------------------------------------------------------------------------------------------------------------------------------------------------------------------------------------------------------------------------------------------------------------------------------------------------------------------------------------------------------------------------------------------------------------------------------------------------------------------------------------------------------------------------------------------------------------------------------------------------------------------------------------------------------------------------------------------------------------------------------------------------------------------------------------------------------------------------------------------------------------------------------------------------------------------------------------------------------------------------------------------------------------------+-------------------------------------------------------+\n",
      "|overall|reviewText                                                                                                                                                                                                                                                                                                                                                                                                                                                                                                                                                                                                                                                                                                                                                                                                                                                                                                                                                                                                                                                |summary                                                |\n",
      "+-------+----------------------------------------------------------------------------------------------------------------------------------------------------------------------------------------------------------------------------------------------------------------------------------------------------------------------------------------------------------------------------------------------------------------------------------------------------------------------------------------------------------------------------------------------------------------------------------------------------------------------------------------------------------------------------------------------------------------------------------------------------------------------------------------------------------------------------------------------------------------------------------------------------------------------------------------------------------------------------------------------------------------------------------------------------------+-------------------------------------------------------+\n",
      "|5.0    |Got hooked from the beginning and couldn't put it down. Has a cliffhanger at the end that will leave you itching to read the next book!                                                                                                                                                                                                                                                                                                                                                                                                                                                                                                                                                                                                                                                                                                                                                                                                                                                                                                                   |Loved it                                               |\n",
      "|5.0    |Awesome read!                                                                                                                                                                                                                                                                                                                                                                                                                                                                                                                                                                                                                                                                                                                                                                                                                                                                                                                                                                                                                                             |Fog of war.                                            |\n",
      "|1.0    |*****POSSIBLE SPOILERS*****\\n\\nI really dislike stories where women make themselves the victims.  The woman in this story takes a horrific beating and rape from her husband after she is caught cheating.  He breaks her ribs and I think her cheekbone from punching her during this rape.  She refuses to press charges because it would be too hard on her adult children.  Are you serious???  I don't get this reasoning, and I never will.  Men who attack women should be in jail or prison...or dead.                                                                                                                                                                                                                                                                                                                                                                                                                                                                                                                                            |So, it wasn't the best...                              |\n",
      "|4.0    |For a YA/NA this was both written well and maturely.  The gods meddle with no forethought for consequences. I have alwsys liked Greek mythology and this book cemented that feeling.                                                                                                                                                                                                                                                                                                                                                                                                                                                                                                                                                                                                                                                                                                                                                                                                                                                                      |A Good Introduction To The Pantheon                    |\n",
      "|5.0    |This is a truly beautiful story of young love leading into true love as the men grow older and finally are able to face their feelings for each other. Mark James has always known he loved his brother's best friend, Jason Tanner. But the gap between them, both in years and in maturity, seemed too wide to bridge.\\n\\nWhen Jase and Mark's brother, Eric, leave for Afghanistan, Mark keeps in constant touch with the two men, sending hope and love across the miles and willing the two men he loves back home safely. Then tragedy strikes and Jase and Mark find they need each other more than ever.\\n\\nThis is a haunting, emotional roller coaster of a story, which deserves its recognition as a wonderful, heart wrenching tale of love, hope and acceptance. It's one that will bring tears to your eyes, a clench to your heart and above all, a smile to your face as these two men face their journey together.\\n\\nA definite recommended read to anyone who has a heart and wants it to swell with emotion. PS You may need tissues.|Beautiful evocative, wonderful work from a debut author|\n",
      "+-------+----------------------------------------------------------------------------------------------------------------------------------------------------------------------------------------------------------------------------------------------------------------------------------------------------------------------------------------------------------------------------------------------------------------------------------------------------------------------------------------------------------------------------------------------------------------------------------------------------------------------------------------------------------------------------------------------------------------------------------------------------------------------------------------------------------------------------------------------------------------------------------------------------------------------------------------------------------------------------------------------------------------------------------------------------------+-------------------------------------------------------+\n",
      "only showing top 5 rows"
     ]
    }
   ],
   "source": [
    "df.show(5,truncate=False)"
   ]
  },
  {
   "cell_type": "code",
   "execution_count": 40,
   "metadata": {},
   "outputs": [
    {
     "data": {
      "application/vnd.jupyter.widget-view+json": {
       "model_id": "289ad2737da242cd8b126075776285e9",
       "version_major": 2,
       "version_minor": 0
      },
      "text/plain": [
       "VBox()"
      ]
     },
     "metadata": {},
     "output_type": "display_data"
    },
    {
     "data": {
      "application/vnd.jupyter.widget-view+json": {
       "model_id": "",
       "version_major": 2,
       "version_minor": 0
      },
      "text/plain": [
       "FloatProgress(value=0.0, bar_style='info', description='Progress:', layout=Layout(height='25px', width='50%'),…"
      ]
     },
     "metadata": {},
     "output_type": "display_data"
    },
    {
     "name": "stdout",
     "output_type": "stream",
     "text": [
      "2218487"
     ]
    }
   ],
   "source": [
    "df.count()"
   ]
  },
  {
   "cell_type": "code",
   "execution_count": 41,
   "metadata": {},
   "outputs": [
    {
     "data": {
      "application/vnd.jupyter.widget-view+json": {
       "model_id": "9cb4ee3c996a41f0bad05a3a9e5e9d51",
       "version_major": 2,
       "version_minor": 0
      },
      "text/plain": [
       "VBox()"
      ]
     },
     "metadata": {},
     "output_type": "display_data"
    },
    {
     "data": {
      "application/vnd.jupyter.widget-view+json": {
       "model_id": "",
       "version_major": 2,
       "version_minor": 0
      },
      "text/plain": [
       "FloatProgress(value=0.0, bar_style='info', description='Progress:', layout=Layout(height='25px', width='50%'),…"
      ]
     },
     "metadata": {},
     "output_type": "display_data"
    }
   ],
   "source": [
    "df = df.select(\"*\",concat(col(\"reviewText\"), lit(\" \"), col(\"summary\")).alias(\"reviewtext_summary\"))\n",
    "columns_drop =['reviewText', 'summary']\n",
    "df = df.drop(*columns_drop)"
   ]
  },
  {
   "cell_type": "code",
   "execution_count": 42,
   "metadata": {},
   "outputs": [
    {
     "data": {
      "application/vnd.jupyter.widget-view+json": {
       "model_id": "6c888027b39b4493a4cbba8dbe2d285d",
       "version_major": 2,
       "version_minor": 0
      },
      "text/plain": [
       "VBox()"
      ]
     },
     "metadata": {},
     "output_type": "display_data"
    },
    {
     "data": {
      "application/vnd.jupyter.widget-view+json": {
       "model_id": "",
       "version_major": 2,
       "version_minor": 0
      },
      "text/plain": [
       "FloatProgress(value=0.0, bar_style='info', description='Progress:', layout=Layout(height='25px', width='50%'),…"
      ]
     },
     "metadata": {},
     "output_type": "display_data"
    },
    {
     "name": "stdout",
     "output_type": "stream",
     "text": [
      "+-------+-------------------------------------------------------------------------------------------------------------------------------------------------------------------------------------------------------------------------------------------------------------------------------------------------------------------------------------------------------------------------------------------------------------------------------------------------------------------------------------------------------------------------------------------------------------------------------------------------------------------------------------------------------------------------------------------------------------------------------------------------------------------------------------------------------------------------------------------------------------------------------------------------------------------------------------------------------------------------------------------------------------------------------------------------------------------------------------------------------------------------------------------------------------------------------------------------------------------------------------------------------------------------------------------------------------------------------------------------------------------------------------------------------+\n",
      "|overall|reviewtext_summary                                                                                                                                                                                                                                                                                                                                                                                                                                                                                                                                                                                                                                                                                                                                                                                                                                                                                                                                                                                                                                                                                                                                                                                                                                                                                                                                                                                     |\n",
      "+-------+-------------------------------------------------------------------------------------------------------------------------------------------------------------------------------------------------------------------------------------------------------------------------------------------------------------------------------------------------------------------------------------------------------------------------------------------------------------------------------------------------------------------------------------------------------------------------------------------------------------------------------------------------------------------------------------------------------------------------------------------------------------------------------------------------------------------------------------------------------------------------------------------------------------------------------------------------------------------------------------------------------------------------------------------------------------------------------------------------------------------------------------------------------------------------------------------------------------------------------------------------------------------------------------------------------------------------------------------------------------------------------------------------------+\n",
      "|5.0    |Words cannot describe how I felt while reading this book. It was such an emotional read, so glad to have come across this book! Breathtaking!                                                                                                                                                                                                                                                                                                                                                                                                                                                                                                                                                                                                                                                                                                                                                                                                                                                                                                                                                                                                                                                                                                                                                                                                                                                          |\n",
      "|4.0    |Very enjoyable reading. Good character development and growth. Nicely expressed perspectives on a relevant issue fit nicely into the storyline. My only criticism is that I wish the book was longer! Condemn me not                                                                                                                                                                                                                                                                                                                                                                                                                                                                                                                                                                                                                                                                                                                                                                                                                                                                                                                                                                                                                                                                                                                                                                                   |\n",
      "|2.0    |This book had good intentions but fell way short to me.  The characters didn't feel developed to me and Although I read it, I didn't feel the physical attraction she had for either suitor.  She seemed wishy washy with her indecisions and stubborness.  I still don't know how a 22 year old can know Eden was the one he wanted for the rest of his life with just meeting her.  The story didn't jive to me, and even though the ending left me hanging, I don't feel like I want to buy the next book to find out whats going to happen. Didn't Like it                                                                                                                                                                                                                                                                                                                                                                                                                                                                                                                                                                                                                                                                                                                                                                                                                                         |\n",
      "|5.0    |I know that others who have expressed their opinions have not given this book such a high rating but let us be fair. It does do what it set out to do and that is a summary of the trends and incidents of what is termed the medieval period.  Even that may be a misnomer since some would argue quite convincingly that there are two period, the \"dark ages\" and the \"medieval ages.\"\\n\\nThis book is a tool, albeit, a tool over 100 years old, to help the reader approach that period with some comprehension.  If you think medieval, and think of Ivanhoe, this tome will correct that.  One reviewer complained that it is western European centric in it approach and geographically speaking he would be correct. But to assuage the reader's pique, if you look at the time line for this, it may have to do with the fact that the medieval development began 200 to 300 years later in the east than the west. (see \"Medieval Cities\" by Henri Pirenne, 1925 Princeton University Press).\\n\\nEnough said, for 99 cents, you also get an active TOC which is indispensable for a work such as this. If you disagree with a particular opinion, remember that a lot of scholarly water has gone under the bridge since this was first published.  Remember that this was written to accompany lectures so it rather dry reading but an exciting period. Through A Glass Darkly And Happily|\n",
      "|5.0    |As always Shane takes you thru the range of emotions and leaves you wanting more.... Yrs yes yes                                                                                                                                                                                                                                                                                                                                                                                                                                                                                                                                                                                                                                                                                                                                                                                                                                                                                                                                                                                                                                                                                                                                                                                                                                                                                                       |\n",
      "+-------+-------------------------------------------------------------------------------------------------------------------------------------------------------------------------------------------------------------------------------------------------------------------------------------------------------------------------------------------------------------------------------------------------------------------------------------------------------------------------------------------------------------------------------------------------------------------------------------------------------------------------------------------------------------------------------------------------------------------------------------------------------------------------------------------------------------------------------------------------------------------------------------------------------------------------------------------------------------------------------------------------------------------------------------------------------------------------------------------------------------------------------------------------------------------------------------------------------------------------------------------------------------------------------------------------------------------------------------------------------------------------------------------------------+\n",
      "only showing top 5 rows"
     ]
    }
   ],
   "source": [
    "df.show(5,truncate=False)"
   ]
  },
  {
   "cell_type": "code",
   "execution_count": 43,
   "metadata": {},
   "outputs": [
    {
     "data": {
      "application/vnd.jupyter.widget-view+json": {
       "model_id": "bbbe6a73583e4e5885602866c1a575db",
       "version_major": 2,
       "version_minor": 0
      },
      "text/plain": [
       "VBox()"
      ]
     },
     "metadata": {},
     "output_type": "display_data"
    },
    {
     "data": {
      "application/vnd.jupyter.widget-view+json": {
       "model_id": "",
       "version_major": 2,
       "version_minor": 0
      },
      "text/plain": [
       "FloatProgress(value=0.0, bar_style='info', description='Progress:', layout=Layout(height='25px', width='50%'),…"
      ]
     },
     "metadata": {},
     "output_type": "display_data"
    }
   ],
   "source": [
    "def label_data(x):\n",
    "    if x==5 or x==4:\n",
    "        return 'positive'\n",
    "    if x==3:\n",
    "        return 'neutral'\n",
    "    else:\n",
    "        return 'negative'\n",
    "\n",
    "labeldata_udf = udf(lambda x:label_data(x))"
   ]
  },
  {
   "cell_type": "code",
   "execution_count": 44,
   "metadata": {},
   "outputs": [
    {
     "data": {
      "application/vnd.jupyter.widget-view+json": {
       "model_id": "398ed9f2f51d41b3b9ef4d9b679fc557",
       "version_major": 2,
       "version_minor": 0
      },
      "text/plain": [
       "VBox()"
      ]
     },
     "metadata": {},
     "output_type": "display_data"
    },
    {
     "data": {
      "application/vnd.jupyter.widget-view+json": {
       "model_id": "",
       "version_major": 2,
       "version_minor": 0
      },
      "text/plain": [
       "FloatProgress(value=0.0, bar_style='info', description='Progress:', layout=Layout(height='25px', width='50%'),…"
      ]
     },
     "metadata": {},
     "output_type": "display_data"
    },
    {
     "name": "stdout",
     "output_type": "stream",
     "text": [
      "+-------+-------------------------------------------------------------------------------------------------------------------------------------------------------------------------------------------------------------------------------------------------------------------------------------------------------------------------------------------------------------------------------------------------------------------------------------------------------------------------------------------------------------------------------------------------------------------------------------------------------------------------------------------------------------------------------------------------------------------------------------------------------------------------------------------------------------------------------------------------------------------------------------------------------------------------------------------------------------------------------------------------------------------------------------------------------------------------------------------------------------------------------------------------------------------------------------------------------------------------------------------------------------------------------------------------------------------------------------------------------------------------------------------------------+--------+\n",
      "|overall|reviewtext_summary                                                                                                                                                                                                                                                                                                                                                                                                                                                                                                                                                                                                                                                                                                                                                                                                                                                                                                                                                                                                                                                                                                                                                                                                                                                                                                                                                                                     |labels  |\n",
      "+-------+-------------------------------------------------------------------------------------------------------------------------------------------------------------------------------------------------------------------------------------------------------------------------------------------------------------------------------------------------------------------------------------------------------------------------------------------------------------------------------------------------------------------------------------------------------------------------------------------------------------------------------------------------------------------------------------------------------------------------------------------------------------------------------------------------------------------------------------------------------------------------------------------------------------------------------------------------------------------------------------------------------------------------------------------------------------------------------------------------------------------------------------------------------------------------------------------------------------------------------------------------------------------------------------------------------------------------------------------------------------------------------------------------------+--------+\n",
      "|5.0    |Words cannot describe how I felt while reading this book. It was such an emotional read, so glad to have come across this book! Breathtaking!                                                                                                                                                                                                                                                                                                                                                                                                                                                                                                                                                                                                                                                                                                                                                                                                                                                                                                                                                                                                                                                                                                                                                                                                                                                          |positive|\n",
      "|4.0    |Very enjoyable reading. Good character development and growth. Nicely expressed perspectives on a relevant issue fit nicely into the storyline. My only criticism is that I wish the book was longer! Condemn me not                                                                                                                                                                                                                                                                                                                                                                                                                                                                                                                                                                                                                                                                                                                                                                                                                                                                                                                                                                                                                                                                                                                                                                                   |positive|\n",
      "|2.0    |This book had good intentions but fell way short to me.  The characters didn't feel developed to me and Although I read it, I didn't feel the physical attraction she had for either suitor.  She seemed wishy washy with her indecisions and stubborness.  I still don't know how a 22 year old can know Eden was the one he wanted for the rest of his life with just meeting her.  The story didn't jive to me, and even though the ending left me hanging, I don't feel like I want to buy the next book to find out whats going to happen. Didn't Like it                                                                                                                                                                                                                                                                                                                                                                                                                                                                                                                                                                                                                                                                                                                                                                                                                                         |negative|\n",
      "|5.0    |I know that others who have expressed their opinions have not given this book such a high rating but let us be fair. It does do what it set out to do and that is a summary of the trends and incidents of what is termed the medieval period.  Even that may be a misnomer since some would argue quite convincingly that there are two period, the \"dark ages\" and the \"medieval ages.\"\\n\\nThis book is a tool, albeit, a tool over 100 years old, to help the reader approach that period with some comprehension.  If you think medieval, and think of Ivanhoe, this tome will correct that.  One reviewer complained that it is western European centric in it approach and geographically speaking he would be correct. But to assuage the reader's pique, if you look at the time line for this, it may have to do with the fact that the medieval development began 200 to 300 years later in the east than the west. (see \"Medieval Cities\" by Henri Pirenne, 1925 Princeton University Press).\\n\\nEnough said, for 99 cents, you also get an active TOC which is indispensable for a work such as this. If you disagree with a particular opinion, remember that a lot of scholarly water has gone under the bridge since this was first published.  Remember that this was written to accompany lectures so it rather dry reading but an exciting period. Through A Glass Darkly And Happily|positive|\n",
      "|5.0    |As always Shane takes you thru the range of emotions and leaves you wanting more.... Yrs yes yes                                                                                                                                                                                                                                                                                                                                                                                                                                                                                                                                                                                                                                                                                                                                                                                                                                                                                                                                                                                                                                                                                                                                                                                                                                                                                                       |positive|\n",
      "+-------+-------------------------------------------------------------------------------------------------------------------------------------------------------------------------------------------------------------------------------------------------------------------------------------------------------------------------------------------------------------------------------------------------------------------------------------------------------------------------------------------------------------------------------------------------------------------------------------------------------------------------------------------------------------------------------------------------------------------------------------------------------------------------------------------------------------------------------------------------------------------------------------------------------------------------------------------------------------------------------------------------------------------------------------------------------------------------------------------------------------------------------------------------------------------------------------------------------------------------------------------------------------------------------------------------------------------------------------------------------------------------------------------------------+--------+\n",
      "only showing top 5 rows"
     ]
    }
   ],
   "source": [
    "df = df.withColumn('labels', labeldata_udf('overall'))\n",
    "df.show(5, truncate=False)"
   ]
  },
  {
   "cell_type": "code",
   "execution_count": 45,
   "metadata": {},
   "outputs": [
    {
     "data": {
      "application/vnd.jupyter.widget-view+json": {
       "model_id": "575ae6b93f42456f9e48f08ca910f99a",
       "version_major": 2,
       "version_minor": 0
      },
      "text/plain": [
       "VBox()"
      ]
     },
     "metadata": {},
     "output_type": "display_data"
    },
    {
     "data": {
      "application/vnd.jupyter.widget-view+json": {
       "model_id": "",
       "version_major": 2,
       "version_minor": 0
      },
      "text/plain": [
       "FloatProgress(value=0.0, bar_style='info', description='Progress:', layout=Layout(height='25px', width='50%'),…"
      ]
     },
     "metadata": {},
     "output_type": "display_data"
    },
    {
     "name": "stdout",
     "output_type": "stream",
     "text": [
      "+-------+------------------+------+\n",
      "|overall|reviewtext_summary|labels|\n",
      "+-------+------------------+------+\n",
      "|      0|                 0|     0|\n",
      "+-------+------------------+------+\n",
      "\n",
      "2218487"
     ]
    }
   ],
   "source": [
    "\n",
    "df.select([count(when(isnan(c) | col(c).isNull(), c)).alias(c) for c in df.columns]\n",
    "   ).show()\n",
    "#Dropping Null \n",
    "df = df.dropna()\n",
    "df.count()"
   ]
  },
  {
   "cell_type": "markdown",
   "metadata": {},
   "source": [
    "# Data Cleaning"
   ]
  },
  {
   "cell_type": "code",
   "execution_count": 46,
   "metadata": {},
   "outputs": [
    {
     "data": {
      "application/vnd.jupyter.widget-view+json": {
       "model_id": "20f8511ef29548429dea4c96f64e055f",
       "version_major": 2,
       "version_minor": 0
      },
      "text/plain": [
       "VBox()"
      ]
     },
     "metadata": {},
     "output_type": "display_data"
    },
    {
     "data": {
      "application/vnd.jupyter.widget-view+json": {
       "model_id": "",
       "version_major": 2,
       "version_minor": 0
      },
      "text/plain": [
       "FloatProgress(value=0.0, bar_style='info', description='Progress:', layout=Layout(height='25px', width='50%'),…"
      ]
     },
     "metadata": {},
     "output_type": "display_data"
    }
   ],
   "source": [
    "#Data Cleaning\n",
    "\n",
    "from pyspark.sql.functions import udf\n",
    "from pyspark.sql.types import *\n",
    "##Convert to lower case\n",
    "def convert_to_lower(text):\n",
    "    return text.lower()\n",
    "\n",
    "# Remove non-ascii characters\n",
    "def remove_non_ascii(text):\n",
    "    stripped = (char for char in text if 0 < ord(char) < 127)\n",
    "    return ''.join(stripped)\n",
    "\n",
    "## Expand abbrevations\n",
    "def expand_abbrevation(text):\n",
    "    text = re.sub(r'\\bim\\b', 'i am', text)\n",
    "    text = re.sub(r'\\blol\\b', 'laugh out loud', text)\n",
    "    text = re.sub(r'\\bthats\\b', 'that is', text)\n",
    "    text = re.sub(r'\\bive\\b', 'i have', text)\n",
    "    text = re.sub(r'\\bya\\b', 'yeah', text)\n",
    "    text = re.sub(r'\\bcant\\b', 'can not', text)\n",
    "    text = re.sub(r'\\bdont\\b', 'do not', text)\n",
    "    text = re.sub(r'\\bwont\\b', 'will not', text)\n",
    "    text = re.sub(r'\\bid\\b', 'i would', text)\n",
    "    text = re.sub(r'\\bwth\\b', 'what the hell', text)\n",
    "    text = re.sub(r'\\br\\b', 'are', text)\n",
    "    text = re.sub(r'\\bu\\b', 'you', text)\n",
    "    text = re.sub(r'\\bk\\b', 'OK', text)\n",
    "    text = re.sub(r'\\bsux\\b', 'sucks', text)\n",
    "    text = re.sub(r'\\bno+\\b', 'no', text)\n",
    "    text = re.sub(r'\\bcoo+\\b', 'cool', text)\n",
    "    text = re.sub(r'rt\\b', '', text)\n",
    "    text = text.strip()\n",
    "    return text\n",
    "\n",
    "##Remove some features that are not required\n",
    "def remove_features(text):\n",
    "# compile regex\n",
    "    re_url          = re.compile('https?://(www.)?\\w+\\.\\w+(/\\w+)*/?')\n",
    "    re_punctuation  = re.compile('[%s]' % re.escape(string.punctuation))\n",
    "    re_numeric      = re.compile('(\\\\d+)')\n",
    "    re_mention      = re.compile('@(\\w+)')\n",
    "    re_hashtags     = re.compile('#')\n",
    "    re_alphanumeric = re.compile(\"^[a-z0-9_.]+$\")\n",
    "# remove url \n",
    "    text = re_url.sub(' ', text)\n",
    "# remove punctuations\n",
    "    text = re_punctuation.sub(' ', text)\n",
    "# remove @mentions\n",
    "    text = re_mention.sub(' ', text)\n",
    "# remove hashtags\n",
    "    text = re_hashtags.sub(' ', text)\n",
    "# remove numeric 'words'\n",
    "    text = re_numeric.sub(' ', text)\n",
    "# remove non a-z 0-9 characters and words shorter than 1 characters\n",
    "    list_pos = 0\n",
    "    cleaned_str = ''\n",
    "    for word in text.split():\n",
    "        if list_pos == 0:\n",
    "            if re_alphanumeric.match(word):\n",
    "                cleaned_str = word\n",
    "            else:\n",
    "                cleaned_str = ' '\n",
    "        else:\n",
    "            if re_alphanumeric.match(word):\n",
    "                cleaned_str = cleaned_str + ' ' + word\n",
    "            else:\n",
    "                cleaned_str += ' '\n",
    "        list_pos += 1\n",
    "# remove unwanted space, *.split() will automatically split on\n",
    "# whitespace and discard duplicates, the \" \".join() joins the\n",
    "# resulting list into one string.\n",
    "    return \" \".join(cleaned_str.split())"
   ]
  },
  {
   "cell_type": "code",
   "execution_count": 47,
   "metadata": {},
   "outputs": [
    {
     "data": {
      "application/vnd.jupyter.widget-view+json": {
       "model_id": "168a502d8e60487892a8afa541795102",
       "version_major": 2,
       "version_minor": 0
      },
      "text/plain": [
       "VBox()"
      ]
     },
     "metadata": {},
     "output_type": "display_data"
    },
    {
     "data": {
      "application/vnd.jupyter.widget-view+json": {
       "model_id": "",
       "version_major": 2,
       "version_minor": 0
      },
      "text/plain": [
       "FloatProgress(value=0.0, bar_style='info', description='Progress:', layout=Layout(height='25px', width='50%'),…"
      ]
     },
     "metadata": {},
     "output_type": "display_data"
    }
   ],
   "source": [
    "convert_to_lower_udf    = udf(convert_to_lower,StringType())\n",
    "remove_non_ascii_udf    = udf(remove_non_ascii, StringType())\n",
    "expand_abbrevation_udf  = udf(expand_abbrevation, StringType())\n",
    "remove_features_udf     = udf(remove_features, StringType())"
   ]
  },
  {
   "cell_type": "code",
   "execution_count": 48,
   "metadata": {},
   "outputs": [
    {
     "data": {
      "application/vnd.jupyter.widget-view+json": {
       "model_id": "a0e4b5bb68ca4a739cb152ae2ea853cc",
       "version_major": 2,
       "version_minor": 0
      },
      "text/plain": [
       "VBox()"
      ]
     },
     "metadata": {},
     "output_type": "display_data"
    },
    {
     "data": {
      "application/vnd.jupyter.widget-view+json": {
       "model_id": "",
       "version_major": 2,
       "version_minor": 0
      },
      "text/plain": [
       "FloatProgress(value=0.0, bar_style='info', description='Progress:', layout=Layout(height='25px', width='50%'),…"
      ]
     },
     "metadata": {},
     "output_type": "display_data"
    }
   ],
   "source": [
    "df = df.withColumn(\"reviewtext_summary\",convert_to_lower_udf(df[\"reviewtext_summary\"]))\n",
    "df = df.withColumn(\"reviewtext_summary\",remove_non_ascii_udf(df[\"reviewtext_summary\"]))\n",
    "df = df.withColumn(\"reviewtext_summary\",expand_abbrevation_udf(df[\"reviewtext_summary\"]))\n",
    "df = df.withColumn(\"reviewtext_summary\",remove_features_udf(df[\"reviewtext_summary\"]))"
   ]
  },
  {
   "cell_type": "code",
   "execution_count": 49,
   "metadata": {},
   "outputs": [
    {
     "data": {
      "application/vnd.jupyter.widget-view+json": {
       "model_id": "18b40e790e404611bf74ea0519f543e1",
       "version_major": 2,
       "version_minor": 0
      },
      "text/plain": [
       "VBox()"
      ]
     },
     "metadata": {},
     "output_type": "display_data"
    },
    {
     "data": {
      "application/vnd.jupyter.widget-view+json": {
       "model_id": "",
       "version_major": 2,
       "version_minor": 0
      },
      "text/plain": [
       "FloatProgress(value=0.0, bar_style='info', description='Progress:', layout=Layout(height='25px', width='50%'),…"
      ]
     },
     "metadata": {},
     "output_type": "display_data"
    },
    {
     "name": "stdout",
     "output_type": "stream",
     "text": [
      "+-------+----------------------------------------------------------------------------------------------------------------------------------------------------------------------------------------------------------------------------------------------------------------------------------------------------------------------------------------------------------------------------------------------------------------------------------------------------------------------------------------------------------------------------------------------------------+--------+\n",
      "|overall|reviewtext_summary                                                                                                                                                                                                                                                                                                                                                                                                                                                                                                                                        |labels  |\n",
      "+-------+----------------------------------------------------------------------------------------------------------------------------------------------------------------------------------------------------------------------------------------------------------------------------------------------------------------------------------------------------------------------------------------------------------------------------------------------------------------------------------------------------------------------------------------------------------+--------+\n",
      "|4.0    |very cute story good read                                                                                                                                                                                                                                                                                                                                                                                                                                                                                                                                 |positive|\n",
      "|5.0    |the characters are well developed and lovable the author makes the hokey premise of the book work in this enjoyable romp through budding romance after marriage a very enjoyable read great characters                                                                                                                                                                                                                                                                                                                                                    |positive|\n",
      "|5.0    |good read five stars                                                                                                                                                                                                                                                                                                                                                                                                                                                                                                                                      |positive|\n",
      "|5.0    |i love novella s like these even tho it is a condensed version of a novel you get plenty of spooks and chemistry along the way dex and perry are investigating the benson hotel that is known for ghost paranormal activity without giving anything away you can expect some frights as well as some play banter between dex and perry they make me smile make sure you are up to date on the first novels because there are some references to red fox sho and sweet                                                                                     |positive|\n",
      "|3.0    |i re read this sho story and have mixed feelings about it it is truly painful in places and not easy but it is mercifully sho the h was very cruelly dumped by the h four years previously he has unexpectedly become an earl and a womaniser the h and her family are now impoverished and she needs to find a wealthy suitor the h decides to take his revenge on the h by buying up her father s debts and demanding kisses in return he plans to shatter her through these weekly wicked kisses we do get our hea but it s a painful journey agonising|neutral |\n",
      "+-------+----------------------------------------------------------------------------------------------------------------------------------------------------------------------------------------------------------------------------------------------------------------------------------------------------------------------------------------------------------------------------------------------------------------------------------------------------------------------------------------------------------------------------------------------------------+--------+\n",
      "only showing top 5 rows"
     ]
    }
   ],
   "source": [
    "df.show(5,truncate=False)"
   ]
  },
  {
   "cell_type": "markdown",
   "metadata": {},
   "source": [
    "# Data Pre-processing"
   ]
  },
  {
   "cell_type": "code",
   "execution_count": 50,
   "metadata": {},
   "outputs": [
    {
     "data": {
      "application/vnd.jupyter.widget-view+json": {
       "model_id": "4de27bb4c68441009056f4beb25e76a2",
       "version_major": 2,
       "version_minor": 0
      },
      "text/plain": [
       "VBox()"
      ]
     },
     "metadata": {},
     "output_type": "display_data"
    },
    {
     "data": {
      "application/vnd.jupyter.widget-view+json": {
       "model_id": "",
       "version_major": 2,
       "version_minor": 0
      },
      "text/plain": [
       "FloatProgress(value=0.0, bar_style='info', description='Progress:', layout=Layout(height='25px', width='50%'),…"
      ]
     },
     "metadata": {},
     "output_type": "display_data"
    }
   ],
   "source": [
    "assembler = DocumentAssembler().setInputCol('reviewtext_summary').setOutputCol('document')\n",
    "\n",
    "doc_df = assembler.transform(df)"
   ]
  },
  {
   "cell_type": "code",
   "execution_count": 51,
   "metadata": {},
   "outputs": [
    {
     "data": {
      "application/vnd.jupyter.widget-view+json": {
       "model_id": "dcf3be42ce8d49449c8239af2896ca8a",
       "version_major": 2,
       "version_minor": 0
      },
      "text/plain": [
       "VBox()"
      ]
     },
     "metadata": {},
     "output_type": "display_data"
    },
    {
     "data": {
      "application/vnd.jupyter.widget-view+json": {
       "model_id": "",
       "version_major": 2,
       "version_minor": 0
      },
      "text/plain": [
       "FloatProgress(value=0.0, bar_style='info', description='Progress:', layout=Layout(height='25px', width='50%'),…"
      ]
     },
     "metadata": {},
     "output_type": "display_data"
    },
    {
     "name": "stdout",
     "output_type": "stream",
     "text": [
      "+-------+-----------------------------------------------------------------------------------------------------------------------------------------------------------------------------------------------------------------------------------------------------------------------------------------------------------------------------------------------------------------------------------------------------------------------------------------------------------------------------------------------------------------------------------------------------------------------------------------------------------------------------------------------------------------------------------------------------------------------------------------------------------------------------------------------------------------------------------------------------------------------------------------------------------------------------------------------------------------------------------------------------------------------------------------------------------------------------------------------------------------------------------------------------------------------------------------------------------------------------------------------------------------------------------------------------------------------------------------------------------------------------------------------------------------------------+--------+-------------------------------------------------------------------------------------------------------------------------------------------------------------------------------------------------------------------------------------------------------------------------------------------------------------------------------------------------------------------------------------------------------------------------------------------------------------------------------------------------------------------------------------------------------------------------------------------------------------------------------------------------------------------------------------------------------------------------------------------------------------------------------------------------------------------------------------------------------------------------------------------------------------------------------------------------------------------------------------------------------------------------------------------------------------------------------------------------------------------------------------------------------------------------------------------------------------------------------------------------------------------------------------------------------------------------------------------------------------------------------------------------------------------------------------------------------------------------+\n",
      "|overall|reviewtext_summary                                                                                                                                                                                                                                                                                                                                                                                                                                                                                                                                                                                                                                                                                                                                                                                                                                                                                                                                                                                                                                                                                                                                                                                                                                                                                                                                                                                                           |labels  |document                                                                                                                                                                                                                                                                                                                                                                                                                                                                                                                                                                                                                                                                                                                                                                                                                                                                                                                                                                                                                                                                                                                                                                                                                                                                                                                                                                                                                                                                 |\n",
      "+-------+-----------------------------------------------------------------------------------------------------------------------------------------------------------------------------------------------------------------------------------------------------------------------------------------------------------------------------------------------------------------------------------------------------------------------------------------------------------------------------------------------------------------------------------------------------------------------------------------------------------------------------------------------------------------------------------------------------------------------------------------------------------------------------------------------------------------------------------------------------------------------------------------------------------------------------------------------------------------------------------------------------------------------------------------------------------------------------------------------------------------------------------------------------------------------------------------------------------------------------------------------------------------------------------------------------------------------------------------------------------------------------------------------------------------------------+--------+-------------------------------------------------------------------------------------------------------------------------------------------------------------------------------------------------------------------------------------------------------------------------------------------------------------------------------------------------------------------------------------------------------------------------------------------------------------------------------------------------------------------------------------------------------------------------------------------------------------------------------------------------------------------------------------------------------------------------------------------------------------------------------------------------------------------------------------------------------------------------------------------------------------------------------------------------------------------------------------------------------------------------------------------------------------------------------------------------------------------------------------------------------------------------------------------------------------------------------------------------------------------------------------------------------------------------------------------------------------------------------------------------------------------------------------------------------------------------+\n",
      "|5.0    |i was not sure if i would like this book when i first started reading it but it didn t take long to capture my attention and once it did i couldn t put it down it was a wonderful story that was touching in ways that i hadn t anticipated i also fell in love with the main character ryan pierce when he said i may take my clothes off for countless women but you are the only one who can strip me bare what a line buy read and enjoy buy read and enjoy                                                                                                                                                                                                                                                                                                                                                                                                                                                                                                                                                                                                                                                                                                                                                                                                                                                                                                                                                             |positive|[{document, 0, 447, i was not sure if i would like this book when i first started reading it but it didn t take long to capture my attention and once it did i couldn t put it down it was a wonderful story that was touching in ways that i hadn t anticipated i also fell in love with the main character ryan pierce when he said i may take my clothes off for countless women but you are the only one who can strip me bare what a line buy read and enjoy buy read and enjoy, {sentence -> 0}, []}]                                                                                                                                                                                                                                                                                                                                                                                                                                                                                                                                                                                                                                                                                                                                                                                                                                                                                                                                                              |\n",
      "|4.0    |this was an amazing book to read the style was very different from most of the books that i read the romance was very sweet and romantic without the filth i really enjoyed reading down to you and highly recommend it down to you is about a couple holly and brant edgemont they were happily married for many years till something horrible happens and brant leaves his family without any explanation about two years after brant left and he and holly got a divorce brant wants to work things out with holly holly isn t for sure if she should get back together with brant or move on with someone else brant broke her hea when he left about two years ago and she doesn t know if she can trust him again though she is still madly in love with him brant has never stopped loving holly and has always regretted leaving that day he is willing to do anything to make it work with holly but is worried she choose someone else before he can prove himself and this time he d be the one with a broken hea the two main charcters are very real and well thought out there is a bit of drama of course which makes the story even better i really enjoyed reading this so much so that i read it in a day and a half the way the author wrote this it is so easy to read i really like that it was easy to fall in love and to understand the two main characters very interesting and it will make you cry|positive|[{document, 0, 1372, this was an amazing book to read the style was very different from most of the books that i read the romance was very sweet and romantic without the filth i really enjoyed reading down to you and highly recommend it down to you is about a couple holly and brant edgemont they were happily married for many years till something horrible happens and brant leaves his family without any explanation about two years after brant left and he and holly got a divorce brant wants to work things out with holly holly isn t for sure if she should get back together with brant or move on with someone else brant broke her hea when he left about two years ago and she doesn t know if she can trust him again though she is still madly in love with him brant has never stopped loving holly and has always regretted leaving that day he is willing to do anything to make it work with holly but is worried she choose someone else before he can prove himself and this time he d be the one with a broken hea the two main charcters are very real and well thought out there is a bit of drama of course which makes the story even better i really enjoyed reading this so much so that i read it in a day and a half the way the author wrote this it is so easy to read i really like that it was easy to fall in love and to understand the two main characters very interesting and it will make you cry, {sentence -> 0}, []}]|\n",
      "|5.0    |i always loved her books this collection was well written and had just enough spice to sweeten up your day love it                                                                                                                                                                                                                                                                                                                                                                                                                                                                                                                                                                                                                                                                                                                                                                                                                                                                                                                                                                                                                                                                                                                                                                                                                                                                                                           |positive|[{document, 0, 113, i always loved her books this collection was well written and had just enough spice to sweeten up your day love it, {sentence -> 0}, []}]                                                                                                                                                                                                                                                                                                                                                                                                                                                                                                                                                                                                                                                                                                                                                                                                                                                                                                                                                                                                                                                                                                                                                                                                                                                                                                            |\n",
      "|5.0    |my kind of book and i like the sets lieu of just one book five stars                                                                                                                                                                                                                                                                                                                                                                                                                                                                                                                                                                                                                                                                                                                                                                                                                                                                                                                                                                                                                                                                                                                                                                                                                                                                                                                                                         |positive|[{document, 0, 67, my kind of book and i like the sets lieu of just one book five stars, {sentence -> 0}, []}]                                                                                                                                                                                                                                                                                                                                                                                                                                                                                                                                                                                                                                                                                                                                                                                                                                                                                                                                                                                                                                                                                                                                                                                                                                                                                                                                                           |\n",
      "|4.0    |this is a great read grabs and holds your interest from the first page i highly recommend this book and looking forward to the next book in the series book one of new series                                                                                                                                                                                                                                                                                                                                                                                                                                                                                                                                                                                                                                                                                                                                                                                                                                                                                                                                                                                                                                                                                                                                                                                                                                                |positive|[{document, 0, 172, this is a great read grabs and holds your interest from the first page i highly recommend this book and looking forward to the next book in the series book one of new series, {sentence -> 0}, []}]                                                                                                                                                                                                                                                                                                                                                                                                                                                                                                                                                                                                                                                                                                                                                                                                                                                                                                                                                                                                                                                                                                                                                                                                                                                 |\n",
      "+-------+-----------------------------------------------------------------------------------------------------------------------------------------------------------------------------------------------------------------------------------------------------------------------------------------------------------------------------------------------------------------------------------------------------------------------------------------------------------------------------------------------------------------------------------------------------------------------------------------------------------------------------------------------------------------------------------------------------------------------------------------------------------------------------------------------------------------------------------------------------------------------------------------------------------------------------------------------------------------------------------------------------------------------------------------------------------------------------------------------------------------------------------------------------------------------------------------------------------------------------------------------------------------------------------------------------------------------------------------------------------------------------------------------------------------------------+--------+-------------------------------------------------------------------------------------------------------------------------------------------------------------------------------------------------------------------------------------------------------------------------------------------------------------------------------------------------------------------------------------------------------------------------------------------------------------------------------------------------------------------------------------------------------------------------------------------------------------------------------------------------------------------------------------------------------------------------------------------------------------------------------------------------------------------------------------------------------------------------------------------------------------------------------------------------------------------------------------------------------------------------------------------------------------------------------------------------------------------------------------------------------------------------------------------------------------------------------------------------------------------------------------------------------------------------------------------------------------------------------------------------------------------------------------------------------------------------+\n",
      "only showing top 5 rows"
     ]
    }
   ],
   "source": [
    "doc_df.show(5, truncate=False)"
   ]
  },
  {
   "cell_type": "code",
   "execution_count": 52,
   "metadata": {},
   "outputs": [
    {
     "data": {
      "application/vnd.jupyter.widget-view+json": {
       "model_id": "a6e46970d20042e980b7eac921eb3b44",
       "version_major": 2,
       "version_minor": 0
      },
      "text/plain": [
       "VBox()"
      ]
     },
     "metadata": {},
     "output_type": "display_data"
    },
    {
     "data": {
      "application/vnd.jupyter.widget-view+json": {
       "model_id": "",
       "version_major": 2,
       "version_minor": 0
      },
      "text/plain": [
       "FloatProgress(value=0.0, bar_style='info', description='Progress:', layout=Layout(height='25px', width='50%'),…"
      ]
     },
     "metadata": {},
     "output_type": "display_data"
    },
    {
     "name": "stderr",
     "output_type": "stream",
     "text": [
      "An error was encountered:\n",
      "An error occurred while calling o370.getParam.\n",
      ": java.util.NoSuchElementException: Param customBoundsStrategy does not exist.\n",
      "\tat org.apache.spark.ml.param.Params.$anonfun$getParam$2(params.scala:705)\n",
      "\tat scala.Option.getOrElse(Option.scala:189)\n",
      "\tat org.apache.spark.ml.param.Params.getParam(params.scala:705)\n",
      "\tat org.apache.spark.ml.param.Params.getParam$(params.scala:703)\n",
      "\tat org.apache.spark.ml.PipelineStage.getParam(Pipeline.scala:41)\n",
      "\tat sun.reflect.NativeMethodAccessorImpl.invoke0(Native Method)\n",
      "\tat sun.reflect.NativeMethodAccessorImpl.invoke(NativeMethodAccessorImpl.java:62)\n",
      "\tat sun.reflect.DelegatingMethodAccessorImpl.invoke(DelegatingMethodAccessorImpl.java:43)\n",
      "\tat java.lang.reflect.Method.invoke(Method.java:498)\n",
      "\tat py4j.reflection.MethodInvoker.invoke(MethodInvoker.java:244)\n",
      "\tat py4j.reflection.ReflectionEngine.invoke(ReflectionEngine.java:357)\n",
      "\tat py4j.Gateway.invoke(Gateway.java:282)\n",
      "\tat py4j.commands.AbstractCommand.invokeMethod(AbstractCommand.java:132)\n",
      "\tat py4j.commands.CallCommand.execute(CallCommand.java:79)\n",
      "\tat py4j.GatewayConnection.run(GatewayConnection.java:238)\n",
      "\tat java.lang.Thread.run(Thread.java:750)\n",
      "\n",
      "Traceback (most recent call last):\n",
      "  File \"/mnt/yarn/usercache/livy/appcache/application_1660508703299_0001/container_1660508703299_0001_01_000001/pyspark.zip/pyspark/ml/base.py\", line 217, in transform\n",
      "    return self._transform(dataset)\n",
      "  File \"/mnt/yarn/usercache/livy/appcache/application_1660508703299_0001/container_1660508703299_0001_01_000001/pyspark.zip/pyspark/ml/wrapper.py\", line 349, in _transform\n",
      "    self._transfer_params_to_java()\n",
      "  File \"/mnt/yarn/usercache/livy/appcache/application_1660508703299_0001/container_1660508703299_0001_01_000001/pyspark.zip/pyspark/ml/wrapper.py\", line 146, in _transfer_params_to_java\n",
      "    pair = self._make_java_param_pair(param, self._defaultParamMap[param])\n",
      "  File \"/mnt/yarn/usercache/livy/appcache/application_1660508703299_0001/container_1660508703299_0001_01_000001/pyspark.zip/pyspark/ml/wrapper.py\", line 132, in _make_java_param_pair\n",
      "    java_param = self._java_obj.getParam(param.name)\n",
      "  File \"/mnt/yarn/usercache/livy/appcache/application_1660508703299_0001/container_1660508703299_0001_01_000001/py4j-0.10.9.2-src.zip/py4j/java_gateway.py\", line 1310, in __call__\n",
      "    answer, self.gateway_client, self.target_id, self.name)\n",
      "  File \"/mnt/yarn/usercache/livy/appcache/application_1660508703299_0001/container_1660508703299_0001_01_000001/pyspark.zip/pyspark/sql/utils.py\", line 111, in deco\n",
      "    return f(*a, **kw)\n",
      "  File \"/mnt/yarn/usercache/livy/appcache/application_1660508703299_0001/container_1660508703299_0001_01_000001/py4j-0.10.9.2-src.zip/py4j/protocol.py\", line 328, in get_return_value\n",
      "    format(target_id, \".\", name), value)\n",
      "py4j.protocol.Py4JJavaError: An error occurred while calling o370.getParam.\n",
      ": java.util.NoSuchElementException: Param customBoundsStrategy does not exist.\n",
      "\tat org.apache.spark.ml.param.Params.$anonfun$getParam$2(params.scala:705)\n",
      "\tat scala.Option.getOrElse(Option.scala:189)\n",
      "\tat org.apache.spark.ml.param.Params.getParam(params.scala:705)\n",
      "\tat org.apache.spark.ml.param.Params.getParam$(params.scala:703)\n",
      "\tat org.apache.spark.ml.PipelineStage.getParam(Pipeline.scala:41)\n",
      "\tat sun.reflect.NativeMethodAccessorImpl.invoke0(Native Method)\n",
      "\tat sun.reflect.NativeMethodAccessorImpl.invoke(NativeMethodAccessorImpl.java:62)\n",
      "\tat sun.reflect.DelegatingMethodAccessorImpl.invoke(DelegatingMethodAccessorImpl.java:43)\n",
      "\tat java.lang.reflect.Method.invoke(Method.java:498)\n",
      "\tat py4j.reflection.MethodInvoker.invoke(MethodInvoker.java:244)\n",
      "\tat py4j.reflection.ReflectionEngine.invoke(ReflectionEngine.java:357)\n",
      "\tat py4j.Gateway.invoke(Gateway.java:282)\n",
      "\tat py4j.commands.AbstractCommand.invokeMethod(AbstractCommand.java:132)\n",
      "\tat py4j.commands.CallCommand.execute(CallCommand.java:79)\n",
      "\tat py4j.GatewayConnection.run(GatewayConnection.java:238)\n",
      "\tat java.lang.Thread.run(Thread.java:750)\n",
      "\n",
      "\n"
     ]
    }
   ],
   "source": [
    "sentence_detector = SentenceDetector().setInputCols([\"document\"]).setOutputCol(\"sentence\")\n",
    "doc_df = sentence_detector.transform(doc_df)\n",
    "doc_df.show(5, truncate=False)"
   ]
  },
  {
   "cell_type": "code",
   "execution_count": 53,
   "metadata": {},
   "outputs": [
    {
     "data": {
      "application/vnd.jupyter.widget-view+json": {
       "model_id": "68a02d4fa2f742459cc7fcdfe1c799a4",
       "version_major": 2,
       "version_minor": 0
      },
      "text/plain": [
       "VBox()"
      ]
     },
     "metadata": {},
     "output_type": "display_data"
    },
    {
     "data": {
      "application/vnd.jupyter.widget-view+json": {
       "model_id": "",
       "version_major": 2,
       "version_minor": 0
      },
      "text/plain": [
       "FloatProgress(value=0.0, bar_style='info', description='Progress:', layout=Layout(height='25px', width='50%'),…"
      ]
     },
     "metadata": {},
     "output_type": "display_data"
    }
   ],
   "source": [
    "tokenizer = Tokenizer().setInputCols(['document']).setOutputCol('token')#.setTargetPattern('/\\b(\\?You were looking)\\b/')#.setExceptionsPath('/content/MyDrive/SparkNLP/entities.txt')"
   ]
  },
  {
   "cell_type": "code",
   "execution_count": 54,
   "metadata": {},
   "outputs": [
    {
     "data": {
      "application/vnd.jupyter.widget-view+json": {
       "model_id": "0d129fdb400048fdba551578f81134d9",
       "version_major": 2,
       "version_minor": 0
      },
      "text/plain": [
       "VBox()"
      ]
     },
     "metadata": {},
     "output_type": "display_data"
    },
    {
     "data": {
      "application/vnd.jupyter.widget-view+json": {
       "model_id": "",
       "version_major": 2,
       "version_minor": 0
      },
      "text/plain": [
       "FloatProgress(value=0.0, bar_style='info', description='Progress:', layout=Layout(height='25px', width='50%'),…"
      ]
     },
     "metadata": {},
     "output_type": "display_data"
    },
    {
     "name": "stdout",
     "output_type": "stream",
     "text": [
      "spellcheck_norvig download started this may take some time.\n",
      "Approximate size to download 4.2 MB\n",
      "[OK!]"
     ]
    }
   ],
   "source": [
    "spell_chk = NorvigSweetingModel().pretrained().setInputCols(['token']).setOutputCol('corrected')"
   ]
  },
  {
   "cell_type": "code",
   "execution_count": 55,
   "metadata": {},
   "outputs": [
    {
     "data": {
      "application/vnd.jupyter.widget-view+json": {
       "model_id": "48fcbde7564c46598f9a3319455fcc71",
       "version_major": 2,
       "version_minor": 0
      },
      "text/plain": [
       "VBox()"
      ]
     },
     "metadata": {},
     "output_type": "display_data"
    },
    {
     "data": {
      "application/vnd.jupyter.widget-view+json": {
       "model_id": "",
       "version_major": 2,
       "version_minor": 0
      },
      "text/plain": [
       "FloatProgress(value=0.0, bar_style='info', description='Progress:', layout=Layout(height='25px', width='50%'),…"
      ]
     },
     "metadata": {},
     "output_type": "display_data"
    }
   ],
   "source": [
    "stemmer = Stemmer().setInputCols([\"token\"]).setOutputCol(\"stem\")"
   ]
  },
  {
   "cell_type": "code",
   "execution_count": 56,
   "metadata": {},
   "outputs": [
    {
     "data": {
      "application/vnd.jupyter.widget-view+json": {
       "model_id": "6a00875168694e9894b06ae9765df326",
       "version_major": 2,
       "version_minor": 0
      },
      "text/plain": [
       "VBox()"
      ]
     },
     "metadata": {},
     "output_type": "display_data"
    },
    {
     "data": {
      "application/vnd.jupyter.widget-view+json": {
       "model_id": "",
       "version_major": 2,
       "version_minor": 0
      },
      "text/plain": [
       "FloatProgress(value=0.0, bar_style='info', description='Progress:', layout=Layout(height='25px', width='50%'),…"
      ]
     },
     "metadata": {},
     "output_type": "display_data"
    },
    {
     "name": "stdout",
     "output_type": "stream",
     "text": [
      "lemma_antbnc download started this may take some time.\n",
      "Approximate size to download 907.6 KB\n",
      "[OK!]"
     ]
    }
   ],
   "source": [
    "lemmatizer = LemmatizerModel().pretrained().setInputCols(['stem']).setOutputCol('lemma')"
   ]
  },
  {
   "cell_type": "code",
   "execution_count": 57,
   "metadata": {},
   "outputs": [
    {
     "data": {
      "application/vnd.jupyter.widget-view+json": {
       "model_id": "592a36d58fe34de8b756f6c7edd7bbd5",
       "version_major": 2,
       "version_minor": 0
      },
      "text/plain": [
       "VBox()"
      ]
     },
     "metadata": {},
     "output_type": "display_data"
    },
    {
     "data": {
      "application/vnd.jupyter.widget-view+json": {
       "model_id": "",
       "version_major": 2,
       "version_minor": 0
      },
      "text/plain": [
       "FloatProgress(value=0.0, bar_style='info', description='Progress:', layout=Layout(height='25px', width='50%'),…"
      ]
     },
     "metadata": {},
     "output_type": "display_data"
    }
   ],
   "source": [
    "normalizer = Normalizer().setInputCols(['lemma']).setOutputCol('normalized').setLowercase(True)"
   ]
  },
  {
   "cell_type": "code",
   "execution_count": 58,
   "metadata": {},
   "outputs": [
    {
     "data": {
      "application/vnd.jupyter.widget-view+json": {
       "model_id": "ccdc174a0b2a4d50969ee0405be5d972",
       "version_major": 2,
       "version_minor": 0
      },
      "text/plain": [
       "VBox()"
      ]
     },
     "metadata": {},
     "output_type": "display_data"
    },
    {
     "data": {
      "application/vnd.jupyter.widget-view+json": {
       "model_id": "",
       "version_major": 2,
       "version_minor": 0
      },
      "text/plain": [
       "FloatProgress(value=0.0, bar_style='info', description='Progress:', layout=Layout(height='25px', width='50%'),…"
      ]
     },
     "metadata": {},
     "output_type": "display_data"
    }
   ],
   "source": [
    "stop_wrd = list( stopwords.words('english'))\n",
    "\n",
    "stop_words_cleaner = StopWordsCleaner().setInputCols([\"normalized\"]).setOutputCol(\"cleanTokens\").setCaseSensitive(False).setStopWords(stop_wrd)\n"
   ]
  },
  {
   "cell_type": "code",
   "execution_count": 59,
   "metadata": {},
   "outputs": [
    {
     "data": {
      "application/vnd.jupyter.widget-view+json": {
       "model_id": "33917e49a6cf492f924aea57f3962dd1",
       "version_major": 2,
       "version_minor": 0
      },
      "text/plain": [
       "VBox()"
      ]
     },
     "metadata": {},
     "output_type": "display_data"
    },
    {
     "data": {
      "application/vnd.jupyter.widget-view+json": {
       "model_id": "",
       "version_major": 2,
       "version_minor": 0
      },
      "text/plain": [
       "FloatProgress(value=0.0, bar_style='info', description='Progress:', layout=Layout(height='25px', width='50%'),…"
      ]
     },
     "metadata": {},
     "output_type": "display_data"
    }
   ],
   "source": [
    "\n",
    "finisher = Finisher().setInputCols(['cleanTokens']).setOutputCols(['cleanTokens']).setOutputAsArray(True).setCleanAnnotations(True)\n"
   ]
  },
  {
   "cell_type": "code",
   "execution_count": 60,
   "metadata": {},
   "outputs": [
    {
     "data": {
      "application/vnd.jupyter.widget-view+json": {
       "model_id": "e68e804060a94192b33f39123b631f91",
       "version_major": 2,
       "version_minor": 0
      },
      "text/plain": [
       "VBox()"
      ]
     },
     "metadata": {},
     "output_type": "display_data"
    },
    {
     "data": {
      "application/vnd.jupyter.widget-view+json": {
       "model_id": "",
       "version_major": 2,
       "version_minor": 0
      },
      "text/plain": [
       "FloatProgress(value=0.0, bar_style='info', description='Progress:', layout=Layout(height='25px', width='50%'),…"
      ]
     },
     "metadata": {},
     "output_type": "display_data"
    },
    {
     "name": "stdout",
     "output_type": "stream",
     "text": [
      "+-------+--------------------------------------------------------------------------------------------------------------------------------------------------------------------------------------------------------------------------------------------------------------------------------------------------------------------------------------------------------------------------------------------------------------------------------------------------------------------------------------------------------------------------------------------------------------------------------------------------------------------------------------------------------------------------------------------------------------------------------------------------------------------------------------------------------------------------------------------------------------------------------------------------------------------------------------------------------------------------------------------------------------------------------------------------------------------------------------------+--------+--------------------------------------------------------------------------------------------------------------------------------------------------------------------------------------------------------------------------------------------------------------------------------------------------------------------------------------------------------------------------------------------------------------------------------------------------------------------------------------------------------------------------------------------------------------------------------------------------------------------------------------------------------------------------------------------------------------------------------+\n",
      "|overall|reviewtext_summary                                                                                                                                                                                                                                                                                                                                                                                                                                                                                                                                                                                                                                                                                                                                                                                                                                                                                                                                                                                                                                                                          |labels  |cleanTokens                                                                                                                                                                                                                                                                                                                                                                                                                                                                                                                                                                                                                                                                                                                     |\n",
      "+-------+--------------------------------------------------------------------------------------------------------------------------------------------------------------------------------------------------------------------------------------------------------------------------------------------------------------------------------------------------------------------------------------------------------------------------------------------------------------------------------------------------------------------------------------------------------------------------------------------------------------------------------------------------------------------------------------------------------------------------------------------------------------------------------------------------------------------------------------------------------------------------------------------------------------------------------------------------------------------------------------------------------------------------------------------------------------------------------------------+--------+--------------------------------------------------------------------------------------------------------------------------------------------------------------------------------------------------------------------------------------------------------------------------------------------------------------------------------------------------------------------------------------------------------------------------------------------------------------------------------------------------------------------------------------------------------------------------------------------------------------------------------------------------------------------------------------------------------------------------------+\n",
      "|5.0    |i gave this book series a rating of five because i loved it so much that it was hard for me to put down each book had thrills and chills of a cop with added bonus of romance i recommend this series to anyone or older and loves romantic cops books finding the one for you                                                                                                                                                                                                                                                                                                                                                                                                                                                                                                                                                                                                                                                                                                                                                                                                              |positive|[give, thi, book, seri, rate, five, becaus, love, much, wa, hard, put, book, thrill, chill, cop, ad, bonu, romanc, recommend, thi, seri, anyon, old, love, romant, cop, book, find]                                                                                                                                                                                                                                                                                                                                                                                                                                                                                                                                             |\n",
      "|5.0    |i really like this book i have read books in this series and love both of them thank for a terrific series on to the rd book love this                                                                                                                                                                                                                                                                                                                                                                                                                                                                                                                                                                                                                                                                                                                                                                                                                                                                                                                                                      |positive|[realli, like, thi, book, read, book, thi, seri, love, thank, terrif, seri, rd, book, love, thi]                                                                                                                                                                                                                                                                                                                                                                                                                                                                                                                                                                                                                                |\n",
      "|5.0    |just finished reading this enjoyable mail order bride story here s what i liked about it it was a simple story and an easy read i don t always have a lot of time to read so i enjoy a story with a small cast of characters that are easy to keep straight in my head the main characters are vulnerable and or flawed i enjoy seeing the growth of each character as well as the relationship there are no perfect people so i don t think there should ever be perfect characters either i smidge of suspense i ll admit to figuring out the bad guy long before the characters did but i didn t know it from the very beginning either a nice read                                                                                                                                                                                                                                                                                                                                                                                                                                      |positive|[finish, read, thi, enjoy, mail, order, bride, stori, like, wa, simpl, stori, easi, read, alwai, lot, time, read, enjoi, stori, small, cast, charact, ar, easi, keep, straight, head, main, charact, ar, vulner, flawe, enjoi, see, growth, charact, well, relationship, ar, perfect, peopl, think, ever, perfect, charact, either, smidg, suspens, admit, figur, bad, gui, long, befor, charact, know, veri, begin, either, nice, read]                                                                                                                                                                                                                                                                                        |\n",
      "|4.0    |hannah bride of iowa american mail order bride by penny estelle stars so when i first started reading this story i was confused by the characters because this was supposed to be hannahs story but it all made sense after the story got into it there was a switcheroo hannah needed to get out of her home and jobs were unavailable so she became a mail order bride she doesnt tell samuel that she and the real hannah switched places because shes afraid that he will refuse to marry her and will send her back samuel morrison is a farmer in need of a wife his young daughter needs a mother and he wants a wife a life partner they don t marry right away but are engaged to be meanwhile he and his daughter are busy falling in love with her and she with them but he doesnt realize that he isn t engaged to the real hannah but the truth always comes out sometimes its due to a guilty conscience and sometimes its because the truth comes back to bite you still other times its both the truth will set you free                                                    |positive|[hannah, bride, iowa, american, mail, order, bride, penni, estel, star, first, start, read, thi, stori, wa, confus, charact, becaus, thi, wa, suppo, hannah, stori, make, sen, stori, get, wa, switcheroo, hannah, need, get, home, job, unavail, becam, mail, order, bride, doesnt, tell, samuel, real, hannah, switch, place, becaus, afraid, refus, marri, send, back, samuel, morrison, farmer, ne, wife, hi, young, daughter, ne, mother, want, wife, life, partner, thei, marri, right, awai, ar, engag, meanwhil, hi, daughter, ar, busi, fall, love, doesnt, realiz, engag, real, hannah, truth, alwai, come, sometim, due, guilti, conscienc, sometim, becaus, truth, come, back, bite, still, time, truth, set, free] |\n",
      "|5.0    |luv griffin whyborne can t wait for more five stars                                                                                                                                                                                                                                                                                                                                                                                                                                                                                                                                                                                                                                                                                                                                                                                                                                                                                                                                                                                                                                         |positive|[luv, griffin, whyborn, wait, five, star]                                                                                                                                                                                                                                                                                                                                                                                                                                                                                                                                                                                                                                                                                       |\n",
      "|5.0    |i had the pleasure of reading girl undone as an early earc and as always ms madison has created a story of deceit filled with twists and turns that you can t predict just when you think you have it all figured out the game changes and the characters are faced with a new situation to work through tj and lisa work together very smoothly to find out why kelsey was found drugged and reeling from whatever events had occurred the previous hours when the local crime blogger who already has a distaste for tj and lisa finds himself in a desperate situation he calls on them to help him find the guy who is forcing him to write blog posts about the people he s murdering when the holidays roll around you find the full cast of characters trapped in one house trying to protect themselves from an unknown assailant is the murderer among them is one of them a dead man or woman walking the only way to find out is to read girl undone because ms madison takes you for a full ride all the way to the very last page thrill ride through deceit murder and mystery|positive|[pleasur, read, girl, undon, earli, earc, alwai, madison, ha, creat, stori, deceit, fill, twist, turn, predict, think, figur, game, chang, charact, ar, face, new, situat, work, tj, lisa, work, togeth, veri, smoothli, find, kelsei, wa, find, drug, reel, whatev, event, occur, previou, hour, local, crime, blogger, alreadi, ha, distast, tj, lisa, find, desper, situat, call, help, find, gui, forc, write, blog, post, peopl, murder, holidai, roll, around, find, full, cast, charact, trap, hous, try, protect, themselv, unknown, assail, murder, among, dead, man, woman, walk, onli, wai, find, read, girl, undon, becaus, madison, take, full, ride, wai, veri, last, page, thrill, ride, deceit, murder, mysteri]|\n",
      "|5.0    |a romance novelist and a cowboy strike up an unlikely friendship all in texts she has research questions he being a cowboy has answers after a good long time of friendship where they have only virtually met and when things in her loveless marriage come to a head she leaves her cheating husband after taking half of the money in the accounts buys herself a smallish rv and takes herself on a roadtrip her soon to be ex and his girlfriend figure largely in the novel the girlfriend s father is organized crime and the ex is a cheater financially as well and has taken money from the father her ex wants to find her to ask for the money back the girlfriend and daddy want to find her too if she dies the ex will get the money in her estate good stuff and the cowboy also has a secret after a good long time of friendship                                                                                                                                                                                                                                          |positive|[romanc, novelist, cowboi, strike, unlik, friendship, text, ha, research, question, cowboi, ha, answer, good, long, time, friendship, thei, onli, virtual, meet, thing, loveless, marriag, come, head, leav, cheat, husband, take, half, monei, account, bui, smallish, rv, take, roadtrip, soon, ex, hi, girlfriend, figur, larg, novel, girlfriend, father, organ, crime, ex, cheater, financi, well, ha, take, monei, father, ex, want, find, ask, monei, back, girlfriend, daddi, want, find, di, ex, get, monei, estat, good, stuff, cowboi, also, ha, secret, good, long, time, friendship]                                                                                                                               |\n",
      "|5.0    |a wonderful book for this season passionate and humbling to read a must read a real time story of love wonderful read                                                                                                                                                                                                                                                                                                                                                                                                                                                                                                                                                                                                                                                                                                                                                                                                                                                                                                                                                                       |positive|[wonder, book, thi, season, passion, humbl, read, must, read, real, time, stori, love, wonder, read]                                                                                                                                                                                                                                                                                                                                                                                                                                                                                                                                                                                                                            |\n",
      "|1.0    |i was anticipating this follow up book it started off really good even it had the slow parts where i just wanted to stop reading it but for it to end like that is total bull i really wanted this to end decent what happened                                                                                                                                                                                                                                                                                                                                                                                                                                                                                                                                                                                                                                                                                                                                                                                                                                                              |negative|[wa, anticip, thi, follow, book, start, realli, good, even, slow, part, want, stop, read, end, like, total, bull, realli, want, thi, end, decent, happen]                                                                                                                                                                                                                                                                                                                                                                                                                                                                                                                                                                       |\n",
      "|4.0    |holly and chase are back again solving a mystery i had fun figuring out the culprit i love holly for her giving spirit and how she loves the lord another good book by christy barritt a lovely christmas cozy                                                                                                                                                                                                                                                                                                                                                                                                                                                                                                                                                                                                                                                                                                                                                                                                                                                                              |positive|[holli, chase, ar, back, solv, mysteri, fun, figur, culprit, love, holli, give, spirit, love, lord, anoth, good, book, christi, barritt, love, christma, cozi]                                                                                                                                                                                                                                                                                                                                                                                                                                                                                                                                                                  |\n",
      "+-------+--------------------------------------------------------------------------------------------------------------------------------------------------------------------------------------------------------------------------------------------------------------------------------------------------------------------------------------------------------------------------------------------------------------------------------------------------------------------------------------------------------------------------------------------------------------------------------------------------------------------------------------------------------------------------------------------------------------------------------------------------------------------------------------------------------------------------------------------------------------------------------------------------------------------------------------------------------------------------------------------------------------------------------------------------------------------------------------------+--------+--------------------------------------------------------------------------------------------------------------------------------------------------------------------------------------------------------------------------------------------------------------------------------------------------------------------------------------------------------------------------------------------------------------------------------------------------------------------------------------------------------------------------------------------------------------------------------------------------------------------------------------------------------------------------------------------------------------------------------+\n",
      "only showing top 10 rows"
     ]
    }
   ],
   "source": [
    "\n",
    "pipeline_embd = Pipeline().setStages([ assembler, tokenizer, spell_chk ,stemmer, lemmatizer, normalizer,stop_words_cleaner,finisher ]) \n",
    "model_trans_tfIdf_2 = pipeline_embd.fit(doc_df) \n",
    "model_trans_tfIdf_2 = model_trans_tfIdf_2.transform(doc_df) \n",
    "model_trans_tfIdf_2.show(10, truncate=False)"
   ]
  },
  {
   "cell_type": "code",
   "execution_count": 62,
   "metadata": {},
   "outputs": [
    {
     "data": {
      "application/vnd.jupyter.widget-view+json": {
       "model_id": "710be1660bb64005b8f586d4f828a02c",
       "version_major": 2,
       "version_minor": 0
      },
      "text/plain": [
       "VBox()"
      ]
     },
     "metadata": {},
     "output_type": "display_data"
    },
    {
     "data": {
      "application/vnd.jupyter.widget-view+json": {
       "model_id": "",
       "version_major": 2,
       "version_minor": 0
      },
      "text/plain": [
       "FloatProgress(value=0.0, bar_style='info', description='Progress:', layout=Layout(height='25px', width='50%'),…"
      ]
     },
     "metadata": {},
     "output_type": "display_data"
    },
    {
     "name": "stdout",
     "output_type": "stream",
     "text": [
      "+-------+--------------------+--------+--------------------+\n",
      "|overall|  reviewtext_summary|  labels|         cleanTokens|\n",
      "+-------+--------------------+--------+--------------------+\n",
      "|    5.0|i was not sure if...|positive|[wa, sure, would,...|\n",
      "|    4.0|this was an amazi...|positive|[thi, wa, amaz, b...|\n",
      "|    5.0|i always loved he...|positive|[alwai, love, boo...|\n",
      "|    5.0|my kind of book a...|positive|[kind, book, like...|\n",
      "|    4.0|this is a great r...|positive|[thi, great, read...|\n",
      "|    5.0|what a great read...|positive|[great, read, mes...|\n",
      "|    5.0|a wonderful new s...|positive|[wonder, new, ser...|\n",
      "|    4.0|it was a good sto...|positive|[wa, good, stori,...|\n",
      "|    5.0|shattered ink is ...|positive|[shatter, ink, an...|\n",
      "|    5.0|mccarthys of gans...|positive|[mccarthi, ganset...|\n",
      "|    5.0|very good plot gr...|positive|[veri, good, plot...|\n",
      "|    2.0|shame on you auth...|negative|[shame, author, p...|\n",
      "|    5.0|i loved this book...|positive|[love, thi, book,...|\n",
      "|    4.0|but a solid enoug...|positive|[solid, enough, s...|\n",
      "|    4.0|felicia tatum man...|positive|[felicia, tatum, ...|\n",
      "|    3.0|this was a good r...| neutral|[thi, wa, good, r...|\n",
      "|    5.0|such a funny book...|positive|[funni, book, lov...|\n",
      "|    3.0|the story is pret...| neutral|[stori, pretti, g...|\n",
      "|    5.0|a gripping end to...|positive|[grip, end, harve...|\n",
      "|    5.0|it does not get a...|positive|[get, ani, well, ...|\n",
      "+-------+--------------------+--------+--------------------+\n",
      "only showing top 20 rows"
     ]
    }
   ],
   "source": [
    "model_trans_tfIdf_2.show()"
   ]
  },
  {
   "cell_type": "markdown",
   "metadata": {},
   "source": [
    "# Data Sampling"
   ]
  },
  {
   "cell_type": "code",
   "execution_count": 63,
   "metadata": {},
   "outputs": [
    {
     "data": {
      "application/vnd.jupyter.widget-view+json": {
       "model_id": "cfe0ab240e4347dfa881c8f60564bc2c",
       "version_major": 2,
       "version_minor": 0
      },
      "text/plain": [
       "VBox()"
      ]
     },
     "metadata": {},
     "output_type": "display_data"
    },
    {
     "data": {
      "application/vnd.jupyter.widget-view+json": {
       "model_id": "",
       "version_major": 2,
       "version_minor": 0
      },
      "text/plain": [
       "FloatProgress(value=0.0, bar_style='info', description='Progress:', layout=Layout(height='25px', width='50%'),…"
      ]
     },
     "metadata": {},
     "output_type": "display_data"
    },
    {
     "name": "stdout",
     "output_type": "stream",
     "text": [
      "+--------+-------+\n",
      "|  labels|  count|\n",
      "+--------+-------+\n",
      "|positive|1906045|\n",
      "| neutral| 197620|\n",
      "|negative| 114822|\n",
      "+--------+-------+"
     ]
    }
   ],
   "source": [
    "model_trans_tfIdf_2.groupBy('labels').count().show()"
   ]
  },
  {
   "cell_type": "code",
   "execution_count": 69,
   "metadata": {},
   "outputs": [
    {
     "data": {
      "application/vnd.jupyter.widget-view+json": {
       "model_id": "0ad0c2b2f5ac484694effcd5668f509a",
       "version_major": 2,
       "version_minor": 0
      },
      "text/plain": [
       "VBox()"
      ]
     },
     "metadata": {},
     "output_type": "display_data"
    },
    {
     "data": {
      "application/vnd.jupyter.widget-view+json": {
       "model_id": "",
       "version_major": 2,
       "version_minor": 0
      },
      "text/plain": [
       "FloatProgress(value=0.0, bar_style='info', description='Progress:', layout=Layout(height='25px', width='50%'),…"
      ]
     },
     "metadata": {},
     "output_type": "display_data"
    },
    {
     "name": "stdout",
     "output_type": "stream",
     "text": [
      "+--------+------+\n",
      "|  labels| count|\n",
      "+--------+------+\n",
      "|positive|133605|\n",
      "| neutral|138673|\n",
      "|negative|114822|\n",
      "+--------+------+"
     ]
    }
   ],
   "source": [
    "sampled = model_trans_tfIdf_2.sampleBy(\"labels\", fractions={'positive': 0.07, 'neutral': 0.7, 'negative': 1}, seed=0)\n",
    "sampled.groupBy('labels').count().show()"
   ]
  },
  {
   "cell_type": "code",
   "execution_count": 70,
   "metadata": {},
   "outputs": [
    {
     "data": {
      "application/vnd.jupyter.widget-view+json": {
       "model_id": "f84f40c8a9e140228d829c490a57f087",
       "version_major": 2,
       "version_minor": 0
      },
      "text/plain": [
       "VBox()"
      ]
     },
     "metadata": {},
     "output_type": "display_data"
    },
    {
     "data": {
      "application/vnd.jupyter.widget-view+json": {
       "model_id": "",
       "version_major": 2,
       "version_minor": 0
      },
      "text/plain": [
       "FloatProgress(value=0.0, bar_style='info', description='Progress:', layout=Layout(height='25px', width='50%'),…"
      ]
     },
     "metadata": {},
     "output_type": "display_data"
    },
    {
     "name": "stdout",
     "output_type": "stream",
     "text": [
      "386656"
     ]
    }
   ],
   "source": [
    "sampled.count()"
   ]
  },
  {
   "cell_type": "markdown",
   "metadata": {},
   "source": [
    "# Feature Extraction "
   ]
  },
  {
   "cell_type": "code",
   "execution_count": 71,
   "metadata": {},
   "outputs": [
    {
     "data": {
      "application/vnd.jupyter.widget-view+json": {
       "model_id": "aa895800288842adab3feb3dc7a40a16",
       "version_major": 2,
       "version_minor": 0
      },
      "text/plain": [
       "VBox()"
      ]
     },
     "metadata": {},
     "output_type": "display_data"
    },
    {
     "data": {
      "application/vnd.jupyter.widget-view+json": {
       "model_id": "",
       "version_major": 2,
       "version_minor": 0
      },
      "text/plain": [
       "FloatProgress(value=0.0, bar_style='info', description='Progress:', layout=Layout(height='25px', width='50%'),…"
      ]
     },
     "metadata": {},
     "output_type": "display_data"
    },
    {
     "name": "stdout",
     "output_type": "stream",
     "text": [
      "+-------+--------------------+--------+--------------------+--------------------+--------------------+\n",
      "|overall|  reviewtext_summary|  labels|         cleanTokens|                  tf|                 idf|\n",
      "+-------+--------------------+--------+--------------------+--------------------+--------------------+\n",
      "|    5.0|got hooked from t...|positive|[get, hook, begin...|(46803,[1,3,5,10,...|(46803,[1,3,5,10,...|\n",
      "|    5.0|awesome read fog ...|positive|[awesom, read, fo...|(46803,[3,172,449...|(46803,[3,172,449...|\n",
      "|    1.0|possible spoilers...|negative|[possibl, spoiler...|(46803,[0,4,6,7,1...|(46803,[0,4,6,7,1...|\n",
      "|    4.0|for a yeah na thi...|positive|[yeah, na, thi, w...|(46803,[0,1,2,6,9...|(46803,[0,1,2,6,9...|\n",
      "|    5.0|this is a truly b...|positive|[thi, truli, beau...|(46803,[0,3,4,5,6...|(46803,[0,3,4,5,6...|\n",
      "|    4.0|thoroughly enjoya...|positive|[thoroughli, enjo...|(46803,[0,3,4,6,1...|(46803,[0,3,4,6,1...|\n",
      "|    5.0|loved this series...|positive|[love, thi, seri,...|(46803,[0,5,13,26...|(46803,[0,5,13,26...|\n",
      "|    5.0|time travel has a...|positive|[time, travel, ha...|(46803,[2,3,4,9,1...|(46803,[2,3,4,9,1...|\n",
      "|    1.0|just once i would...|negative|[onc, would, like...|(46803,[0,1,2,3,4...|(46803,[0,1,2,3,4...|\n",
      "|    5.0|very good story f...|positive|[veri, good, stor...|(46803,[4,6,19,35...|(46803,[4,6,19,35...|\n",
      "|    3.0|a very good novel...| neutral|[veri, good, nove...|(46803,[1,3,4,6,1...|(46803,[1,3,4,6,1...|\n",
      "|    5.0|a fun and quick r...|positive|[fun, quick, read...|(46803,[1,2,3,6,1...|(46803,[1,2,3,6,1...|\n",
      "|    2.0|wish there was mo...|negative|[wish, wa, thi, b...|(46803,[0,1,2,9,1...|(46803,[0,1,2,9,1...|\n",
      "|    5.0|i picked this up ...|positive|[pick, thi, whim,...|(46803,[0,1,4,6,7...|(46803,[0,1,4,6,7...|\n",
      "|    3.0|this story was re...| neutral|[thi, stori, wa, ...|(46803,[0,2,4,10,...|(46803,[0,2,4,10,...|\n",
      "|    5.0|a story about the...|positive|[stori, get, awai...|(46803,[1,2,4,5,1...|(46803,[1,2,4,5,1...|\n",
      "|    4.0|hidden amongst th...|positive|[hide, amongst, h...|(46803,[0,3,4,5,1...|(46803,[0,3,4,5,1...|\n",
      "|    3.0|this is a collect...| neutral|[thi, collect, sh...|(46803,[0,4,7,9,3...|(46803,[0,4,7,9,3...|\n",
      "|    4.0|i enjoy anything ...|positive|[enjoi, anyth, wr...|(46803,[1,3,11,25...|(46803,[1,3,11,25...|\n",
      "|    5.0|those of us who h...|positive|[u, fight, war, w...|(46803,[0,1,3,7,1...|(46803,[0,1,3,7,1...|\n",
      "+-------+--------------------+--------+--------------------+--------------------+--------------------+\n",
      "only showing top 20 rows"
     ]
    }
   ],
   "source": [
    "## Count Vectorizer TF*IDF\n",
    "from pyspark.ml.feature import CountVectorizer, IDF\n",
    "\n",
    "count_vectorizer = CountVectorizer(inputCol='cleanTokens', outputCol='tf', minDF=10)\n",
    "cvmodel = count_vectorizer.fit(model_trans_tfIdf_2)\n",
    "idf = IDF(inputCol='tf', outputCol='idf')\n",
    "\n",
    "# finisher_idf = Finisher().setInputCols(['features']).setOutputCols(['tfidf']) finisher is for sparkNLP not spark ML\n",
    "bow_pipeline = Pipeline().setStages([count_vectorizer, idf])\n",
    "bow_pipeline = bow_pipeline.fit(model_trans_tfIdf_2)\n",
    "\n",
    "bows = bow_pipeline.transform(model_trans_tfIdf_2)\n",
    "bows.show()"
   ]
  },
  {
   "cell_type": "code",
   "execution_count": 72,
   "metadata": {},
   "outputs": [
    {
     "data": {
      "application/vnd.jupyter.widget-view+json": {
       "model_id": "e9d1f9834b154893995b6aa0b9d8a3ee",
       "version_major": 2,
       "version_minor": 0
      },
      "text/plain": [
       "VBox()"
      ]
     },
     "metadata": {},
     "output_type": "display_data"
    },
    {
     "data": {
      "application/vnd.jupyter.widget-view+json": {
       "model_id": "",
       "version_major": 2,
       "version_minor": 0
      },
      "text/plain": [
       "FloatProgress(value=0.0, bar_style='info', description='Progress:', layout=Layout(height='25px', width='50%'),…"
      ]
     },
     "metadata": {},
     "output_type": "display_data"
    },
    {
     "name": "stdout",
     "output_type": "stream",
     "text": [
      "+-------+--------------------+--------+--------------------+--------------------+\n",
      "|overall|  reviewtext_summary|  labels|         cleanTokens|           Hashingtf|\n",
      "+-------+--------------------+--------+--------------------+--------------------+\n",
      "|    5.0|words cannot desc...|positive|[word, cannot, de...|(65536,[88,7772,1...|\n",
      "|    4.0|very enjoyable re...|positive|[veri, enjoy, rea...|(65536,[2701,2987...|\n",
      "|    2.0|this book had goo...|negative|[thi, book, good,...|(65536,[2517,3920...|\n",
      "|    5.0|i know that other...|positive|[know, express, o...|(65536,[12,44,158...|\n",
      "|    5.0|as always shane t...|positive|[alwai, shane, ta...|(65536,[24476,276...|\n",
      "|    5.0|i have to admit i...|positive|[admit, love, thi...|(65536,[44,377,89...|\n",
      "|    5.0|into uncharted se...|positive|[unchart, sea, th...|(65536,[1473,2126...|\n",
      "|    4.0|i really enjoyed ...|positive|[realli, enjoi, t...|(65536,[637,716,1...|\n",
      "|    4.0|i enjoyed reading...|positive|[enjoi, read, dif...|(65536,[6747,6783...|\n",
      "|    2.0|unintelligibility...|negative|[unintellig, pose...|(65536,[3981,1296...|\n",
      "|    3.0|the description s...| neutral|[descript, state,...|(65536,[1884,3329...|\n",
      "|    5.0|when a newcomer a...|positive|[newcom, author, ...|(65536,[484,637,6...|\n",
      "|    5.0|everyone loves ba...|positive|[everyon, love, b...|(65536,[2517,4992...|\n",
      "|    4.0|i thought this no...|positive|[think, thi, nove...|(65536,[44,216,71...|\n",
      "|    4.0|i have read many ...|positive|[read, mani, thi,...|(65536,[44,2517,4...|\n",
      "|    4.0|i ve read my fair...|positive|[read, fair, shar...|(65536,[44,233,66...|\n",
      "|    5.0|this book has all...|positive|[thi, book, ha, e...|(65536,[17454,323...|\n",
      "|    5.0|you must read the...|positive|[must, read, book...|(65536,[4851,6783...|\n",
      "|    5.0|for every action ...|positive|[everi, action, a...|(65536,[44,3625,5...|\n",
      "|    4.0|i loved reading t...|positive|[love, read, thi,...|(65536,[2701,1606...|\n",
      "+-------+--------------------+--------+--------------------+--------------------+\n",
      "only showing top 20 rows"
     ]
    }
   ],
   "source": [
    "from pyspark.ml.feature import HashingTF\n",
    "\n",
    "hashtf = HashingTF(numFeatures=pow(2, 16), inputCol='cleanTokens', outputCol='Hashingtf')\n",
    "\n",
    "hashing_pipeline = Pipeline().setStages([hashtf])\n",
    "hashing_pipeline = hashing_pipeline.fit(model_trans_tfIdf_2)\n",
    "\n",
    "hashingtf = hashing_pipeline.transform(model_trans_tfIdf_2)\n",
    "hashingtf.show()"
   ]
  },
  {
   "cell_type": "code",
   "execution_count": 73,
   "metadata": {},
   "outputs": [
    {
     "data": {
      "application/vnd.jupyter.widget-view+json": {
       "model_id": "42fec86f964a4b16ba289b79c58e194d",
       "version_major": 2,
       "version_minor": 0
      },
      "text/plain": [
       "VBox()"
      ]
     },
     "metadata": {},
     "output_type": "display_data"
    },
    {
     "data": {
      "application/vnd.jupyter.widget-view+json": {
       "model_id": "",
       "version_major": 2,
       "version_minor": 0
      },
      "text/plain": [
       "FloatProgress(value=0.0, bar_style='info', description='Progress:', layout=Layout(height='25px', width='50%'),…"
      ]
     },
     "metadata": {},
     "output_type": "display_data"
    },
    {
     "name": "stdout",
     "output_type": "stream",
     "text": [
      "+--------------------+--------------------+-----+\n",
      "|         cleanTokens|           Hashingtf|label|\n",
      "+--------------------+--------------------+-----+\n",
      "|[word, cannot, de...|(65536,[88,7772,1...|  0.0|\n",
      "|[veri, enjoy, rea...|(65536,[2701,2987...|  0.0|\n",
      "|[thi, book, good,...|(65536,[2517,3920...|  2.0|\n",
      "|[know, express, o...|(65536,[12,44,158...|  0.0|\n",
      "|[alwai, shane, ta...|(65536,[24476,276...|  0.0|\n",
      "+--------------------+--------------------+-----+\n",
      "only showing top 5 rows"
     ]
    }
   ],
   "source": [
    "from pyspark.ml.feature import StringIndexer\n",
    "label_stringIdx = StringIndexer(inputCol = \"labels\", outputCol = \"label\" )\n",
    "pipeline = Pipeline(stages=[ label_stringIdx])\n",
    "pipelineFit = pipeline.fit(hashingtf)\n",
    "dataset = pipelineFit.transform(hashingtf)\n",
    "selectedCols = ['cleanTokens','Hashingtf','label']\n",
    "dataset = dataset.select(selectedCols)\n",
    "dataset.show(5)"
   ]
  },
  {
   "cell_type": "code",
   "execution_count": 74,
   "metadata": {},
   "outputs": [
    {
     "data": {
      "application/vnd.jupyter.widget-view+json": {
       "model_id": "d1fe17ff1e964f3d9f8a76be78e0c9fc",
       "version_major": 2,
       "version_minor": 0
      },
      "text/plain": [
       "VBox()"
      ]
     },
     "metadata": {},
     "output_type": "display_data"
    },
    {
     "data": {
      "application/vnd.jupyter.widget-view+json": {
       "model_id": "",
       "version_major": 2,
       "version_minor": 0
      },
      "text/plain": [
       "FloatProgress(value=0.0, bar_style='info', description='Progress:', layout=Layout(height='25px', width='50%'),…"
      ]
     },
     "metadata": {},
     "output_type": "display_data"
    },
    {
     "name": "stdout",
     "output_type": "stream",
     "text": [
      "+--------------------+--------------------+-----+\n",
      "|         cleanTokens|                 idf|label|\n",
      "+--------------------+--------------------+-----+\n",
      "|[veri, cute, stor...|(46803,[3,4,6,19,...|  0.0|\n",
      "|[charact, ar, wel...|(46803,[0,1,3,7,1...|  0.0|\n",
      "|[good, read, five...|(46803,[3,6,35,11...|  0.0|\n",
      "|[love, novella, l...|(46803,[5,7,9,10,...|  0.0|\n",
      "|[read, thi, sho, ...|(46803,[0,2,3,4,7...|  1.0|\n",
      "+--------------------+--------------------+-----+\n",
      "only showing top 5 rows"
     ]
    }
   ],
   "source": [
    "from pyspark.ml.feature import StringIndexer\n",
    "label_stringIdx = StringIndexer(inputCol = \"labels\", outputCol = \"label\" )\n",
    "pipeline = Pipeline(stages=[ label_stringIdx])\n",
    "pipelineFit = pipeline.fit(bows)\n",
    "dataset1 = pipelineFit.transform(bows)\n",
    "selectedCols = ['cleanTokens','idf','label']\n",
    "dataset1 = dataset1.select(selectedCols)\n",
    "dataset1.show(5)"
   ]
  },
  {
   "cell_type": "markdown",
   "metadata": {},
   "source": [
    "# Feature Extraction - Sampling"
   ]
  },
  {
   "cell_type": "code",
   "execution_count": 75,
   "metadata": {},
   "outputs": [
    {
     "data": {
      "application/vnd.jupyter.widget-view+json": {
       "model_id": "62008c6e0e724f538950c46e9f6b3df6",
       "version_major": 2,
       "version_minor": 0
      },
      "text/plain": [
       "VBox()"
      ]
     },
     "metadata": {},
     "output_type": "display_data"
    },
    {
     "data": {
      "application/vnd.jupyter.widget-view+json": {
       "model_id": "",
       "version_major": 2,
       "version_minor": 0
      },
      "text/plain": [
       "FloatProgress(value=0.0, bar_style='info', description='Progress:', layout=Layout(height='25px', width='50%'),…"
      ]
     },
     "metadata": {},
     "output_type": "display_data"
    },
    {
     "name": "stdout",
     "output_type": "stream",
     "text": [
      "+-------+--------------------+--------+--------------------+--------------------+--------------------+\n",
      "|overall|  reviewtext_summary|  labels|         cleanTokens|                  tf|                 idf|\n",
      "+-------+--------------------+--------+--------------------+--------------------+--------------------+\n",
      "|    2.0|this book had goo...|negative|[thi, book, good,...|(20986,[0,1,2,3,4...|(20986,[0,1,2,3,4...|\n",
      "|    2.0|unintelligibility...|negative|[unintellig, pose...|(20986,[3106,9943...|(20986,[3106,9943...|\n",
      "|    3.0|the description s...| neutral|[descript, state,...|(20986,[0,1,2,3,4...|(20986,[0,1,2,3,4...|\n",
      "|    5.0|this book has all...|positive|[thi, book, ha, e...|(20986,[0,1,7,8,1...|(20986,[0,1,7,8,1...|\n",
      "|    4.0|i started reading...|positive|[start, read, rec...|(20986,[4,10,21,8...|(20986,[4,10,21,8...|\n",
      "|    3.0|i had already fel...| neutral|[alreadi, feel, l...|(20986,[0,1,2,5,9...|(20986,[0,1,2,5,9...|\n",
      "|    1.0|was confused when...|negative|[wa, confus, end,...|(20986,[2,24,33,2...|(20986,[2,24,33,2...|\n",
      "|    3.0|as someone over i...| neutral|[someon, read, ma...|(20986,[0,4,8,10,...|(20986,[0,4,8,10,...|\n",
      "|    5.0|as a business own...|positive|[busi, owner, ess...|(20986,[0,1,14,23...|(20986,[0,1,14,23...|\n",
      "|    5.0|first good wester...|positive|[first, good, wes...|(20986,[3,4,5,7,1...|(20986,[3,4,5,7,1...|\n",
      "|    2.0|i liked this book...|negative|[like, thi, book,...|(20986,[0,1,2,3,5...|(20986,[0,1,2,3,5...|\n",
      "|    3.0|the story was rea...| neutral|[stori, wa, reall...|(20986,[0,2,3,7,9...|(20986,[0,2,3,7,9...|\n",
      "|    2.0|this is book in t...|negative|[thi, book, apple...|(20986,[0,1,2,3,4...|(20986,[0,1,2,3,4...|\n",
      "|    2.0|i think this coul...|negative|[think, thi, coul...|(20986,[0,1,2,3,5...|(20986,[0,1,2,3,5...|\n",
      "|    5.0|human no longer b...|positive|[human, long, kat...|(20986,[0,1,2,3,4...|(20986,[0,1,2,3,4...|\n",
      "|    3.0|entertaining read...| neutral|[entertain, read,...|(20986,[4,33,96,2...|(20986,[4,33,96,2...|\n",
      "|    1.0|       nope one star|negative|        [nope, star]|(20986,[33,1349],...|(20986,[33,1349],...|\n",
      "|    5.0|i expect sk mccla...|positive|[expect, sk, mccl...|(20986,[0,4,9,10,...|(20986,[0,4,9,10,...|\n",
      "|    5.0|good book five stars|positive|[good, book, five...|(20986,[1,7,33,23...|(20986,[1,7,33,23...|\n",
      "|    3.0|it is very hard t...| neutral|[veri, hard, find...|(20986,[10,12,21,...|(20986,[10,12,21,...|\n",
      "+-------+--------------------+--------+--------------------+--------------------+--------------------+\n",
      "only showing top 20 rows"
     ]
    }
   ],
   "source": [
    "## Count Vectorizer TF*IDF - with sampled data\n",
    "\n",
    "count_vectorizer_s = CountVectorizer(inputCol='cleanTokens', outputCol='tf', minDF=10)\n",
    "cvmodel_sample = count_vectorizer_s.fit(sampled)\n",
    "idf_sample = IDF(inputCol='tf', outputCol='idf')\n",
    "\n",
    "# finisher_idf = Finisher().setInputCols(['features']).setOutputCols(['tfidf']) finisher is for sparkNLP not spark ML\n",
    "bow_pipeline_sample = Pipeline().setStages([count_vectorizer_s, idf])\n",
    "bow_pipeline_sample = bow_pipeline_sample.fit(sampled)\n",
    "\n",
    "bows_sample = bow_pipeline_sample.transform(sampled)\n",
    "bows_sample.show()"
   ]
  },
  {
   "cell_type": "code",
   "execution_count": 76,
   "metadata": {},
   "outputs": [
    {
     "data": {
      "application/vnd.jupyter.widget-view+json": {
       "model_id": "c7a82f888b6a48d5b77a665990b47a9f",
       "version_major": 2,
       "version_minor": 0
      },
      "text/plain": [
       "VBox()"
      ]
     },
     "metadata": {},
     "output_type": "display_data"
    },
    {
     "data": {
      "application/vnd.jupyter.widget-view+json": {
       "model_id": "",
       "version_major": 2,
       "version_minor": 0
      },
      "text/plain": [
       "FloatProgress(value=0.0, bar_style='info', description='Progress:', layout=Layout(height='25px', width='50%'),…"
      ]
     },
     "metadata": {},
     "output_type": "display_data"
    },
    {
     "name": "stdout",
     "output_type": "stream",
     "text": [
      "+-------+--------------------+--------+--------------------+--------------------+\n",
      "|overall|  reviewtext_summary|  labels|         cleanTokens|           Hashingtf|\n",
      "+-------+--------------------+--------+--------------------+--------------------+\n",
      "|    1.0|i was anticipatin...|negative|[wa, anticip, thi...|(65536,[3920,4774...|\n",
      "|    4.0|holly and chase a...|positive|[holli, chase, ar...|(65536,[44,1198,1...|\n",
      "|    5.0|unique story this...|positive|[uniqu, stori, th...|(65536,[2206,2701...|\n",
      "|    3.0|this book was not...| neutral|[thi, book, wa, g...|(65536,[12,1887,6...|\n",
      "|    1.0|someone on goodre...|negative|[someon, goodread...|(65536,[891,2517,...|\n",
      "|    3.0|cute holiday sho ...| neutral|[cute, holidai, s...|(65536,[2171,2306...|\n",
      "|    5.0|this is a feel go...|positive|[thi, feel, good,...|(65536,[16888,331...|\n",
      "|    4.0|if you re looking...|positive|[look, quick, esc...|(65536,[2,44,535,...|\n",
      "|    5.0|you have done it ...|positive|[sir, hot, steami...|(65536,[145,15269...|\n",
      "|    1.0|the writing was f...|negative|[write, wa, flat,...|(65536,[4114,5809...|\n",
      "|    3.0|when they should ...| neutral|[thei, wa, funni,...|(65536,[44,637,95...|\n",
      "|    1.0|why in books like...|negative|[book, like, thi,...|(65536,[891,892,1...|\n",
      "|    5.0|i had so many emo...|positive|[mani, emot, read...|(65536,[4194,8833...|\n",
      "|    3.0|blown away was an...| neutral|[blow, awai, wa, ...|(65536,[44,162,10...|\n",
      "|    1.0|tastes in books d...|negative|[tast, book, diff...|(65536,[44,1061,2...|\n",
      "|    3.0|wanted to love bu...| neutral|[want, love, wa, ...|(65536,[44,3920,8...|\n",
      "|    3.0|i read the first ...| neutral|[read, first, thi...|(65536,[637,1198,...|\n",
      "|    3.0|the writing is st...| neutral|[write, steadi, c...|(65536,[44,1389,6...|\n",
      "|    5.0|loved it what a g...|positive|[love, great, wai...|(65536,[2517,1271...|\n",
      "|    4.0|hetty was not goi...|positive|[hetti, wa, go, m...|(65536,[1218,1389...|\n",
      "+-------+--------------------+--------+--------------------+--------------------+\n",
      "only showing top 20 rows"
     ]
    }
   ],
   "source": [
    "from pyspark.ml.feature import HashingTF\n",
    "\n",
    "hashtf_s = HashingTF(numFeatures=pow(2, 16), inputCol='cleanTokens', outputCol='Hashingtf')\n",
    "\n",
    "hashing_pipeline_sample = Pipeline().setStages([hashtf_s])\n",
    "hashing_pipeline_sample = hashing_pipeline_sample.fit(sampled)\n",
    "\n",
    "hashingtf_sample = hashing_pipeline_sample.transform(sampled)\n",
    "hashingtf_sample.show()"
   ]
  },
  {
   "cell_type": "code",
   "execution_count": 77,
   "metadata": {},
   "outputs": [
    {
     "data": {
      "application/vnd.jupyter.widget-view+json": {
       "model_id": "525b112a41ca4346ac814da8c69b856c",
       "version_major": 2,
       "version_minor": 0
      },
      "text/plain": [
       "VBox()"
      ]
     },
     "metadata": {},
     "output_type": "display_data"
    },
    {
     "data": {
      "application/vnd.jupyter.widget-view+json": {
       "model_id": "",
       "version_major": 2,
       "version_minor": 0
      },
      "text/plain": [
       "FloatProgress(value=0.0, bar_style='info', description='Progress:', layout=Layout(height='25px', width='50%'),…"
      ]
     },
     "metadata": {},
     "output_type": "display_data"
    },
    {
     "name": "stdout",
     "output_type": "stream",
     "text": [
      "+--------------------+--------------------+-----+\n",
      "|         cleanTokens|           Hashingtf|label|\n",
      "+--------------------+--------------------+-----+\n",
      "|[bui, hi, next, l...|(65536,[1198,2517...|  2.0|\n",
      "|[thi, nice, littl...|(65536,[546,1791,...|  1.0|\n",
      "|[dakota, give, re...|(65536,[2171,2692...|  1.0|\n",
      "|[thi, book, might...|(65536,[5451,5505...|  0.0|\n",
      "|[never, deal, adm...|(65536,[2692,6783...|  1.0|\n",
      "+--------------------+--------------------+-----+\n",
      "only showing top 5 rows"
     ]
    }
   ],
   "source": [
    "from pyspark.ml.feature import StringIndexer\n",
    "label_stringIdx_s = StringIndexer(inputCol = \"labels\", outputCol = \"label\" )\n",
    "pipeline_s = Pipeline(stages=[ label_stringIdx_s])\n",
    "pipelineFit_s = pipeline.fit(hashingtf_sample)\n",
    "dataset_sample = pipelineFit_s.transform(hashingtf_sample)\n",
    "selectedCols = ['cleanTokens','Hashingtf','label']\n",
    "dataset_sample = dataset_sample.select(selectedCols)\n",
    "dataset_sample.show(5)"
   ]
  },
  {
   "cell_type": "code",
   "execution_count": 78,
   "metadata": {},
   "outputs": [
    {
     "data": {
      "application/vnd.jupyter.widget-view+json": {
       "model_id": "12b607fcbd9546ac8a467d1eb3bb20ec",
       "version_major": 2,
       "version_minor": 0
      },
      "text/plain": [
       "VBox()"
      ]
     },
     "metadata": {},
     "output_type": "display_data"
    },
    {
     "data": {
      "application/vnd.jupyter.widget-view+json": {
       "model_id": "",
       "version_major": 2,
       "version_minor": 0
      },
      "text/plain": [
       "FloatProgress(value=0.0, bar_style='info', description='Progress:', layout=Layout(height='25px', width='50%'),…"
      ]
     },
     "metadata": {},
     "output_type": "display_data"
    },
    {
     "name": "stdout",
     "output_type": "stream",
     "text": [
      "+--------------------+--------------------+-----+\n",
      "|         cleanTokens|                 idf|label|\n",
      "+--------------------+--------------------+-----+\n",
      "|[thi, book, good,...|(20986,[0,1,2,3,4...|  2.0|\n",
      "|[unintellig, pose...|(20986,[3106,9943...|  2.0|\n",
      "|[descript, state,...|(20986,[0,1,2,3,4...|  1.0|\n",
      "|[thi, book, ha, e...|(20986,[0,1,7,8,1...|  0.0|\n",
      "|[start, read, rec...|(20986,[4,10,21,8...|  0.0|\n",
      "+--------------------+--------------------+-----+\n",
      "only showing top 5 rows"
     ]
    }
   ],
   "source": [
    "from pyspark.ml.feature import StringIndexer\n",
    "label_stringIdx_s = StringIndexer(inputCol = \"labels\", outputCol = \"label\" )\n",
    "pipeline_s = Pipeline(stages=[ label_stringIdx_s])\n",
    "pipelineFit_s = pipeline.fit(bows_sample)\n",
    "dataset1_sample = pipelineFit.transform(bows_sample)\n",
    "selectedCols = ['cleanTokens','idf','label']\n",
    "dataset1_sample = dataset1_sample.select(selectedCols)\n",
    "dataset1_sample.show(5)"
   ]
  },
  {
   "cell_type": "markdown",
   "metadata": {},
   "source": [
    "#  Split the dataset"
   ]
  },
  {
   "cell_type": "code",
   "execution_count": 79,
   "metadata": {},
   "outputs": [
    {
     "data": {
      "application/vnd.jupyter.widget-view+json": {
       "model_id": "09d59ad45d7847548175684399380b33",
       "version_major": 2,
       "version_minor": 0
      },
      "text/plain": [
       "VBox()"
      ]
     },
     "metadata": {},
     "output_type": "display_data"
    },
    {
     "data": {
      "application/vnd.jupyter.widget-view+json": {
       "model_id": "",
       "version_major": 2,
       "version_minor": 0
      },
      "text/plain": [
       "FloatProgress(value=0.0, bar_style='info', description='Progress:', layout=Layout(height='25px', width='50%'),…"
      ]
     },
     "metadata": {},
     "output_type": "display_data"
    },
    {
     "name": "stdout",
     "output_type": "stream",
     "text": [
      "+--------------------+--------------------+-----+\n",
      "|         cleanTokens|           Hashingtf|label|\n",
      "+--------------------+--------------------+-----+\n",
      "|                  []|       (65536,[],[])|  1.0|\n",
      "|                  []|       (65536,[],[])|  1.0|\n",
      "|[aaa, entir, seri...|(65536,[12710,167...|  0.0|\n",
      "|[aaahhh, joi, ret...|(65536,[506,2530,...|  0.0|\n",
      "|[aah, thi, fair, ...|(65536,[3920,6783...|  0.0|\n",
      "|[aaron, clarkson,...|(65536,[44,617,11...|  0.0|\n",
      "|[aaron, clarkson,...|(65536,[44,231,26...|  0.0|\n",
      "|[aaron, ha, wai, ...|(65536,[2517,3145...|  0.0|\n",
      "|[aaron, major, se...|(65536,[269,1061,...|  0.0|\n",
      "|[ab, connor, pa, ...|(65536,[44,330,40...|  0.0|\n",
      "+--------------------+--------------------+-----+\n",
      "only showing top 10 rows"
     ]
    }
   ],
   "source": [
    "\n",
    "(trainingData, testData) = dataset.select('cleanTokens','Hashingtf','label').randomSplit([0.7, 0.3], seed = 100)\n",
    "trainingData.show(10)"
   ]
  },
  {
   "cell_type": "code",
   "execution_count": 80,
   "metadata": {},
   "outputs": [
    {
     "data": {
      "application/vnd.jupyter.widget-view+json": {
       "model_id": "e6d67000799f4ea3b5e1854c5ab0e107",
       "version_major": 2,
       "version_minor": 0
      },
      "text/plain": [
       "VBox()"
      ]
     },
     "metadata": {},
     "output_type": "display_data"
    },
    {
     "data": {
      "application/vnd.jupyter.widget-view+json": {
       "model_id": "",
       "version_major": 2,
       "version_minor": 0
      },
      "text/plain": [
       "FloatProgress(value=0.0, bar_style='info', description='Progress:', layout=Layout(height='25px', width='50%'),…"
      ]
     },
     "metadata": {},
     "output_type": "display_data"
    },
    {
     "name": "stdout",
     "output_type": "stream",
     "text": [
      "+--------------------+--------------------+-----+\n",
      "|         cleanTokens|                 idf|label|\n",
      "+--------------------+--------------------+-----+\n",
      "|                  []|       (46803,[],[])|  1.0|\n",
      "|                  []|       (46803,[],[])|  1.0|\n",
      "|[aaa, entir, seri...|(46803,[13,35,113...|  0.0|\n",
      "|[aaahhh, joi, ret...|(46803,[0,1,2,3,4...|  0.0|\n",
      "|[aah, thi, fair, ...|(46803,[0,5,26,29...|  0.0|\n",
      "|[aaron, clarkson,...|(46803,[5,7,8,10,...|  0.0|\n",
      "|[aaron, clarkson,...|(46803,[1,2,5,6,7...|  0.0|\n",
      "|[aaron, ha, wai, ...|(46803,[2,4,8,11,...|  0.0|\n",
      "|[aaron, major, se...|(46803,[0,1,2,8,1...|  0.0|\n",
      "|[ab, connor, pa, ...|(46803,[5,6,7,8,1...|  0.0|\n",
      "+--------------------+--------------------+-----+\n",
      "only showing top 10 rows"
     ]
    }
   ],
   "source": [
    "\n",
    "(trainingData1, testData1) = dataset1.select('cleanTokens','idf','label').randomSplit([0.7, 0.3], seed = 100)\n",
    "trainingData1.show(10)"
   ]
  },
  {
   "cell_type": "code",
   "execution_count": 81,
   "metadata": {},
   "outputs": [
    {
     "data": {
      "application/vnd.jupyter.widget-view+json": {
       "model_id": "a4e4bb93ac374b9fbe74a11b4cffa9f7",
       "version_major": 2,
       "version_minor": 0
      },
      "text/plain": [
       "VBox()"
      ]
     },
     "metadata": {},
     "output_type": "display_data"
    },
    {
     "data": {
      "application/vnd.jupyter.widget-view+json": {
       "model_id": "",
       "version_major": 2,
       "version_minor": 0
      },
      "text/plain": [
       "FloatProgress(value=0.0, bar_style='info', description='Progress:', layout=Layout(height='25px', width='50%'),…"
      ]
     },
     "metadata": {},
     "output_type": "display_data"
    },
    {
     "name": "stdout",
     "output_type": "stream",
     "text": [
      "+--------------------+--------------------+-----+\n",
      "|         cleanTokens|           Hashingtf|label|\n",
      "+--------------------+--------------------+-----+\n",
      "|                  []|       (65536,[],[])|  0.0|\n",
      "|[aaron, clarkson,...|(65536,[44,617,11...|  1.0|\n",
      "|[abandon, read, s...|(65536,[16706,397...|  2.0|\n",
      "|[abigail, darling...|(65536,[2,44,361,...|  0.0|\n",
      "|[abigail, indepen...|(65536,[44,756,15...|  1.0|\n",
      "|[abl, complet, gr...|(65536,[2381,3924...|  0.0|\n",
      "|[abl, read, whole...|(65536,[9645,1122...|  2.0|\n",
      "|[absolut, ador, f...|(65536,[88,1433,1...|  2.0|\n",
      "|[absolut, ador, f...|(65536,[2692,6083...|  1.0|\n",
      "|[absolut, amaz, s...|(65536,[2692,4992...|  1.0|\n",
      "+--------------------+--------------------+-----+\n",
      "only showing top 10 rows"
     ]
    }
   ],
   "source": [
    "\n",
    "(trainingData_s, testData_s) = dataset_sample.select('cleanTokens','Hashingtf','label').randomSplit([0.7, 0.3], seed = 100)\n",
    "trainingData_s.show(10)"
   ]
  },
  {
   "cell_type": "code",
   "execution_count": 82,
   "metadata": {},
   "outputs": [
    {
     "data": {
      "application/vnd.jupyter.widget-view+json": {
       "model_id": "8ab3375e50c6419fadec4966acd2c316",
       "version_major": 2,
       "version_minor": 0
      },
      "text/plain": [
       "VBox()"
      ]
     },
     "metadata": {},
     "output_type": "display_data"
    },
    {
     "data": {
      "application/vnd.jupyter.widget-view+json": {
       "model_id": "",
       "version_major": 2,
       "version_minor": 0
      },
      "text/plain": [
       "FloatProgress(value=0.0, bar_style='info', description='Progress:', layout=Layout(height='25px', width='50%'),…"
      ]
     },
     "metadata": {},
     "output_type": "display_data"
    },
    {
     "name": "stdout",
     "output_type": "stream",
     "text": [
      "+--------------------+--------------------+-----+\n",
      "|         cleanTokens|                 idf|label|\n",
      "+--------------------+--------------------+-----+\n",
      "|                  []|       (20986,[],[])|  1.0|\n",
      "|[aaa, entir, seri...|(20986,[15,33,233...|  0.0|\n",
      "|[aaron, pilan, li...|(20986,[0,1,2,3,4...|  0.0|\n",
      "|[abandon, thi, bo...|(20986,[0,1,2,3,4...|  2.0|\n",
      "|[abbei, foxx, new...|(20986,[0,1,2,3,4...|  0.0|\n",
      "|[abigail, conner,...|(20986,[0,2,4,7,8...|  0.0|\n",
      "|[abigail, darling...|(20986,[0,1,2,5,6...|  1.0|\n",
      "|[abl, read, whole...|(20986,[0,1,3,4,3...|  2.0|\n",
      "|[abort, privileg,...|(20986,[0,2,3,4,5...|  1.0|\n",
      "|[absolut, connect...|(20986,[0,1,2,4,1...|  2.0|\n",
      "+--------------------+--------------------+-----+\n",
      "only showing top 10 rows"
     ]
    }
   ],
   "source": [
    "\n",
    "(trainingData1_s, testData1_s) = dataset1_sample.select('cleanTokens','idf','label').randomSplit([0.7, 0.3], seed = 100)\n",
    "trainingData1_s.show(10)"
   ]
  },
  {
   "cell_type": "markdown",
   "metadata": {},
   "source": [
    "# Classification  Models"
   ]
  },
  {
   "cell_type": "markdown",
   "metadata": {},
   "source": [
    "## Logistic Regression"
   ]
  },
  {
   "cell_type": "code",
   "execution_count": 83,
   "metadata": {},
   "outputs": [
    {
     "data": {
      "application/vnd.jupyter.widget-view+json": {
       "model_id": "9cc98df8b91a4cfd8d0168211d36db02",
       "version_major": 2,
       "version_minor": 0
      },
      "text/plain": [
       "VBox()"
      ]
     },
     "metadata": {},
     "output_type": "display_data"
    },
    {
     "data": {
      "application/vnd.jupyter.widget-view+json": {
       "model_id": "",
       "version_major": 2,
       "version_minor": 0
      },
      "text/plain": [
       "FloatProgress(value=0.0, bar_style='info', description='Progress:', layout=Layout(height='25px', width='50%'),…"
      ]
     },
     "metadata": {},
     "output_type": "display_data"
    },
    {
     "name": "stdout",
     "output_type": "stream",
     "text": [
      "+--------------------+--------------------+-----+--------------------+--------------------+----------+\n",
      "|         cleanTokens|                 idf|label|       rawPrediction|         probability|prediction|\n",
      "+--------------------+--------------------+-----+--------------------+--------------------+----------+\n",
      "|   [aaa, five, star]|(46803,[35,113,15...|  0.0|[2.00421324194879...|[0.90853388993045...|       0.0|\n",
      "|[aaron, pilan, li...|(46803,[0,1,2,3,4...|  0.0|[2.15162365736807...|[0.92261930845848...|       0.0|\n",
      "|[aaron, tucker, r...|(46803,[0,2,4,5,7...|  0.0|[2.39013965031372...|[0.94466693148352...|       0.0|\n",
      "|[abandon, hope, j...|(46803,[0,3,4,5,6...|  0.0|[2.54824895952945...|[0.95197730120651...|       0.0|\n",
      "|[abandon, hope, l...|(46803,[0,1,2,3,4...|  0.0|[2.02562496800121...|[0.89687958017802...|       0.0|\n",
      "|[abbi, blake, tog...|(46803,[4,5,7,11,...|  0.0|[1.95691294134048...|[0.89949857781712...|       0.0|\n",
      "|[abbi, gline, fab...|(46803,[35,113,79...|  0.0|[1.94411417052431...|[0.90031978114037...|       0.0|\n",
      "|[abbi, zander, wr...|(46803,[1,3,4,6,1...|  0.0|[1.98722809823914...|[0.90659366493801...|       0.0|\n",
      "|[abigail, darling...|(46803,[0,1,2,5,6...|  1.0|[0.68165161828458...|[0.50931188982258...|       0.0|\n",
      "|[abigail, mean, r...|(46803,[0,3,4,11,...|  0.0|[1.77238250039086...|[0.87382152925982...|       0.0|\n",
      "|[abigail, twenti,...|(46803,[4,8,14,19...|  0.0|[1.78480537318549...|[0.87060062350385...|       0.0|\n",
      "|[abit, predict, g...|(46803,[4,6,28,36...|  0.0|[1.42846973245092...|[0.79860907841268...|       0.0|\n",
      "|[abl, complet, gr...|(46803,[3,5,9,23,...|  1.0|[1.47021560154728...|[0.81628149794572...|       0.0|\n",
      "|[abl, read, teach...|(46803,[3,7,8,14,...|  0.0|[2.11921765431431...|[0.92154268013885...|       0.0|\n",
      "|[abl, read, thi, ...|(46803,[0,1,2,3,4...|  0.0|[2.58418412394557...|[0.95756518615719...|       0.0|\n",
      "|[absolut, addict,...|(46803,[0,1,3,6,1...|  0.0|[2.22754504235459...|[0.93233590204437...|       0.0|\n",
      "|[absolut, ador, e...|(46803,[0,1,3,4,5...|  0.0|[2.24124701269289...|[0.93464858076664...|       0.0|\n",
      "|[absolut, ador, t...|(46803,[0,1,3,5,7...|  0.0|[2.78921148045124...|[0.96904119305924...|       0.0|\n",
      "|[absolut, ador, t...|(46803,[0,1,5,11,...|  0.0|[2.10750321597553...|[0.91973858625028...|       0.0|\n",
      "|[absolut, ador, t...|(46803,[0,1,3,5,1...|  0.0|[2.06770188094740...|[0.91508260032910...|       0.0|\n",
      "+--------------------+--------------------+-----+--------------------+--------------------+----------+\n",
      "only showing top 20 rows"
     ]
    }
   ],
   "source": [
    "from pyspark.ml.classification import LogisticRegression\n",
    "lr1 = LogisticRegression(featuresCol = 'idf', labelCol = 'label',maxIter=20, regParam=0.3, elasticNetParam=0   )\n",
    "lrModel1 = lr1.fit(trainingData1 )\n",
    "predictions1 = lrModel1.transform(testData1)\n",
    "predictions1.show()"
   ]
  },
  {
   "cell_type": "code",
   "execution_count": 84,
   "metadata": {},
   "outputs": [
    {
     "data": {
      "application/vnd.jupyter.widget-view+json": {
       "model_id": "544c106cb67e4759acd7f9380dae3290",
       "version_major": 2,
       "version_minor": 0
      },
      "text/plain": [
       "VBox()"
      ]
     },
     "metadata": {},
     "output_type": "display_data"
    },
    {
     "data": {
      "application/vnd.jupyter.widget-view+json": {
       "model_id": "",
       "version_major": 2,
       "version_minor": 0
      },
      "text/plain": [
       "FloatProgress(value=0.0, bar_style='info', description='Progress:', layout=Layout(height='25px', width='50%'),…"
      ]
     },
     "metadata": {},
     "output_type": "display_data"
    },
    {
     "name": "stdout",
     "output_type": "stream",
     "text": [
      "0.8288820468300311"
     ]
    }
   ],
   "source": [
    "from pyspark.ml.evaluation import MulticlassClassificationEvaluator\n",
    "evaluator1 = MulticlassClassificationEvaluator(predictionCol=\"prediction\")\n",
    "evaluator1.evaluate(predictions1)"
   ]
  },
  {
   "cell_type": "code",
   "execution_count": 85,
   "metadata": {},
   "outputs": [
    {
     "data": {
      "application/vnd.jupyter.widget-view+json": {
       "model_id": "ed4b311bd7724e85bb43a4fe6621d0bf",
       "version_major": 2,
       "version_minor": 0
      },
      "text/plain": [
       "VBox()"
      ]
     },
     "metadata": {},
     "output_type": "display_data"
    },
    {
     "data": {
      "application/vnd.jupyter.widget-view+json": {
       "model_id": "",
       "version_major": 2,
       "version_minor": 0
      },
      "text/plain": [
       "FloatProgress(value=0.0, bar_style='info', description='Progress:', layout=Layout(height='25px', width='50%'),…"
      ]
     },
     "metadata": {},
     "output_type": "display_data"
    },
    {
     "name": "stdout",
     "output_type": "stream",
     "text": [
      "Logistic Regression model with TF-IDF\n",
      "Accuracy : 0.8716029341029341\n",
      "f1 : 0.8288820468300311\n",
      "Precision : 0.8452056361557285\n",
      "Recall : 0.8716029341029341"
     ]
    }
   ],
   "source": [
    "print(\"Logistic Regression model with TF-IDF\")\n",
    "\n",
    "print(\"Accuracy :\" ,evaluator1.evaluate(predictions1,{evaluator1.metricName: \"accuracy\"}))\n",
    "print(\"f1 :\"       ,evaluator1.evaluate(predictions1,{evaluator1.metricName: \"f1\"}))\n",
    "print(\"Precision :\",evaluator1.evaluate(predictions1,{evaluator1.metricName: \"weightedPrecision\"}))\n",
    "print(\"Recall :\"   ,evaluator1.evaluate(predictions1,{evaluator1.metricName: \"weightedRecall\"}))"
   ]
  },
  {
   "cell_type": "code",
   "execution_count": 86,
   "metadata": {},
   "outputs": [
    {
     "data": {
      "application/vnd.jupyter.widget-view+json": {
       "model_id": "d1c109386a7c4479ac96e9c8fdc51902",
       "version_major": 2,
       "version_minor": 0
      },
      "text/plain": [
       "VBox()"
      ]
     },
     "metadata": {},
     "output_type": "display_data"
    },
    {
     "data": {
      "application/vnd.jupyter.widget-view+json": {
       "model_id": "",
       "version_major": 2,
       "version_minor": 0
      },
      "text/plain": [
       "FloatProgress(value=0.0, bar_style='info', description='Progress:', layout=Layout(height='25px', width='50%'),…"
      ]
     },
     "metadata": {},
     "output_type": "display_data"
    },
    {
     "name": "stdout",
     "output_type": "stream",
     "text": [
      "+--------------------+--------------------+-----+--------------------+--------------------+----------+\n",
      "|         cleanTokens|           Hashingtf|label|       rawPrediction|         probability|prediction|\n",
      "+--------------------+--------------------+-----+--------------------+--------------------+----------+\n",
      "|   [aaa, five, star]|(65536,[12710,167...|  0.0|[2.01032558100820...|[0.90939654936551...|       0.0|\n",
      "|[aaron, pilan, li...|(65536,[716,1433,...|  0.0|[2.19629705092497...|[0.92953976516600...|       0.0|\n",
      "|[aaron, tucker, r...|(65536,[44,139,17...|  0.0|[2.40622538879812...|[0.94595541639241...|       0.0|\n",
      "|[abandon, hope, j...|(65536,[44,2517,3...|  0.0|[2.54387758835219...|[0.95173889716810...|       0.0|\n",
      "|[abandon, hope, l...|(65536,[44,216,10...|  0.0|[2.04762645543777...|[0.90356610926070...|       0.0|\n",
      "|[abbi, blake, tog...|(65536,[44,1760,4...|  0.0|[1.95459840551172...|[0.89952681330236...|       0.0|\n",
      "|[abbi, gline, fab...|(65536,[12710,144...|  0.0|[1.96856586939648...|[0.90385425501063...|       0.0|\n",
      "|[abbi, zander, wr...|(65536,[4062,4114...|  0.0|[1.98945002320704...|[0.90699035851418...|       0.0|\n",
      "|[abigail, darling...|(65536,[2,44,361,...|  1.0|[0.71231716876487...|[0.52065147502492...|       0.0|\n",
      "|[abigail, mean, r...|(65536,[637,1218,...|  0.0|[1.77058773156483...|[0.87286831107050...|       0.0|\n",
      "|[abigail, twenti,...|(65536,[1198,3920...|  0.0|[1.83380808382356...|[0.87982039521890...|       0.0|\n",
      "|[abit, predict, g...|(65536,[1500,1688...|  0.0|[1.38764244699825...|[0.79100038649483...|       0.0|\n",
      "|[abl, complet, gr...|(65536,[2381,3924...|  1.0|[1.46686313586625...|[0.81584871385700...|       0.0|\n",
      "|[abl, read, teach...|(65536,[44,3053,4...|  0.0|[2.12451238437524...|[0.92224405663952...|       0.0|\n",
      "|[abl, read, thi, ...|(65536,[2692,3359...|  0.0|[2.65485039302044...|[0.96181351122511...|       0.0|\n",
      "|[absolut, addict,...|(65536,[7194,7772...|  0.0|[2.23541248594230...|[0.93323291269458...|       0.0|\n",
      "|[absolut, ador, e...|(65536,[44,1198,2...|  0.0|[2.18902768510286...|[0.92989712468546...|       0.0|\n",
      "|[absolut, ador, t...|(65536,[44,2437,3...|  0.0|[2.74786601602132...|[0.96764921507953...|       0.0|\n",
      "|[absolut, ador, t...|(65536,[216,7609,...|  0.0|[2.10218724141883...|[0.91930928356467...|       0.0|\n",
      "|[absolut, ador, t...|(65536,[7609,8371...|  0.0|[2.07325854843439...|[0.91590836676561...|       0.0|\n",
      "+--------------------+--------------------+-----+--------------------+--------------------+----------+\n",
      "only showing top 20 rows"
     ]
    }
   ],
   "source": [
    "from pyspark.ml.classification import LogisticRegression\n",
    "lr = LogisticRegression(featuresCol = 'Hashingtf', labelCol = 'label',maxIter=20, regParam=0.3, elasticNetParam=0 )\n",
    "lrModel = lr.fit(trainingData)\n",
    "predictions = lrModel.transform(testData)\n",
    "predictions.show()"
   ]
  },
  {
   "cell_type": "code",
   "execution_count": 87,
   "metadata": {},
   "outputs": [
    {
     "data": {
      "application/vnd.jupyter.widget-view+json": {
       "model_id": "dad94d0f75d44f64910caf518eddd74e",
       "version_major": 2,
       "version_minor": 0
      },
      "text/plain": [
       "VBox()"
      ]
     },
     "metadata": {},
     "output_type": "display_data"
    },
    {
     "data": {
      "application/vnd.jupyter.widget-view+json": {
       "model_id": "",
       "version_major": 2,
       "version_minor": 0
      },
      "text/plain": [
       "FloatProgress(value=0.0, bar_style='info', description='Progress:', layout=Layout(height='25px', width='50%'),…"
      ]
     },
     "metadata": {},
     "output_type": "display_data"
    },
    {
     "name": "stdout",
     "output_type": "stream",
     "text": [
      "0.8271584604683104"
     ]
    }
   ],
   "source": [
    "from pyspark.ml.evaluation import MulticlassClassificationEvaluator\n",
    "evaluator = MulticlassClassificationEvaluator(predictionCol=\"prediction\")\n",
    "evaluator.evaluate(predictions)"
   ]
  },
  {
   "cell_type": "code",
   "execution_count": 88,
   "metadata": {},
   "outputs": [
    {
     "data": {
      "application/vnd.jupyter.widget-view+json": {
       "model_id": "4824413227f7452495393a602e71f911",
       "version_major": 2,
       "version_minor": 0
      },
      "text/plain": [
       "VBox()"
      ]
     },
     "metadata": {},
     "output_type": "display_data"
    },
    {
     "data": {
      "application/vnd.jupyter.widget-view+json": {
       "model_id": "",
       "version_major": 2,
       "version_minor": 0
      },
      "text/plain": [
       "FloatProgress(value=0.0, bar_style='info', description='Progress:', layout=Layout(height='25px', width='50%'),…"
      ]
     },
     "metadata": {},
     "output_type": "display_data"
    },
    {
     "name": "stdout",
     "output_type": "stream",
     "text": [
      "Logistic Regression model with Hashing TF\n",
      "Accuracy : 0.8707596801346801\n",
      "f1 : 0.8271584604683104\n",
      "Precision : 0.8437480958333341\n",
      "Recall : 0.8707596801346801"
     ]
    }
   ],
   "source": [
    "print(\"Logistic Regression model with Hashing TF\")\n",
    "\n",
    "print(\"Accuracy :\" ,evaluator.evaluate(predictions,{evaluator.metricName: \"accuracy\"}))\n",
    "print(\"f1 :\"       ,evaluator.evaluate(predictions,{evaluator.metricName: \"f1\"}))\n",
    "print(\"Precision :\",evaluator.evaluate(predictions,{evaluator.metricName: \"weightedPrecision\"}))\n",
    "print(\"Recall :\"   ,evaluator.evaluate(predictions,{evaluator.metricName: \"weightedRecall\"}))"
   ]
  },
  {
   "cell_type": "markdown",
   "metadata": {},
   "source": [
    "## Naive Bayes"
   ]
  },
  {
   "cell_type": "code",
   "execution_count": 89,
   "metadata": {},
   "outputs": [
    {
     "data": {
      "application/vnd.jupyter.widget-view+json": {
       "model_id": "aed4bff328b64ed0ba67467b0566fdf0",
       "version_major": 2,
       "version_minor": 0
      },
      "text/plain": [
       "VBox()"
      ]
     },
     "metadata": {},
     "output_type": "display_data"
    },
    {
     "data": {
      "application/vnd.jupyter.widget-view+json": {
       "model_id": "",
       "version_major": 2,
       "version_minor": 0
      },
      "text/plain": [
       "FloatProgress(value=0.0, bar_style='info', description='Progress:', layout=Layout(height='25px', width='50%'),…"
      ]
     },
     "metadata": {},
     "output_type": "display_data"
    },
    {
     "name": "stdout",
     "output_type": "stream",
     "text": [
      "+--------------------+--------------------+-----+--------------------+--------------------+----------+\n",
      "|         cleanTokens|           Hashingtf|label|       rawPrediction|         probability|prediction|\n",
      "+--------------------+--------------------+-----+--------------------+--------------------+----------+\n",
      "|   [aaa, five, star]|(65536,[12710,167...|  0.0|[-25.696435332148...|[0.98761938125323...|       0.0|\n",
      "|[aaron, pilan, li...|(65536,[716,1433,...|  0.0|[-690.15281210504...|[0.99999984203226...|       0.0|\n",
      "|[aaron, tucker, r...|(65536,[44,139,17...|  0.0|[-298.07005091194...|[0.99968098399669...|       0.0|\n",
      "|[abandon, hope, j...|(65536,[44,2517,3...|  0.0|[-745.55807936640...|[0.99999901973490...|       0.0|\n",
      "|[abandon, hope, l...|(65536,[44,216,10...|  0.0|[-875.52398198830...|[0.99058883687748...|       0.0|\n",
      "|[abbi, blake, tog...|(65536,[44,1760,4...|  0.0|[-184.81998161923...|[0.99565049244025...|       0.0|\n",
      "|[abbi, gline, fab...|(65536,[12710,144...|  0.0|[-43.821767521848...|[0.99559337983577...|       0.0|\n",
      "|[abbi, zander, wr...|(65536,[4062,4114...|  0.0|[-179.88385198185...|[0.99950188856262...|       0.0|\n",
      "|[abigail, darling...|(65536,[2,44,361,...|  1.0|[-1149.3620801395...|[0.00247879872827...|       1.0|\n",
      "|[abigail, mean, r...|(65536,[637,1218,...|  0.0|[-255.37613366570...|[0.99444971382074...|       0.0|\n",
      "|[abigail, twenti,...|(65536,[1198,3920...|  0.0|[-293.59366124455...|[0.99637473276646...|       0.0|\n",
      "|[abit, predict, g...|(65536,[1500,1688...|  0.0|[-54.541098355901...|[0.52136444190212...|       0.0|\n",
      "|[abl, complet, gr...|(65536,[2381,3924...|  1.0|[-125.47423257185...|[0.70299187992663...|       0.0|\n",
      "|[abl, read, teach...|(65536,[44,3053,4...|  0.0|[-161.07126111855...|[0.99986163257634...|       0.0|\n",
      "|[abl, read, thi, ...|(65536,[2692,3359...|  0.0|[-320.65559259151...|[0.99999281974934...|       0.0|\n",
      "|[absolut, addict,...|(65536,[7194,7772...|  0.0|[-96.128840087530...|[0.99988804853374...|       0.0|\n",
      "|[absolut, ador, e...|(65536,[44,1198,2...|  0.0|[-327.56739576959...|[0.99862591341167...|       0.0|\n",
      "|[absolut, ador, t...|(65536,[44,2437,3...|  0.0|[-676.29070258503...|[0.99999999972092...|       0.0|\n",
      "|[absolut, ador, t...|(65536,[216,7609,...|  0.0|[-83.316260021847...|[0.99942608918488...|       0.0|\n",
      "|[absolut, ador, t...|(65536,[7609,8371...|  0.0|[-87.012543450165...|[0.99936801702514...|       0.0|\n",
      "+--------------------+--------------------+-----+--------------------+--------------------+----------+\n",
      "only showing top 20 rows"
     ]
    }
   ],
   "source": [
    "# Naive Bayes model - Hashing\n",
    "from pyspark.ml.classification import NaiveBayes\n",
    "nb = NaiveBayes(featuresCol = 'Hashingtf', labelCol='label',modelType='multinomial')\n",
    "nbModel = nb.fit(trainingData) \n",
    "nb_predictions = nbModel.transform(testData)\n",
    "nb_predictions.show()\n",
    "\n"
   ]
  },
  {
   "cell_type": "code",
   "execution_count": 90,
   "metadata": {},
   "outputs": [
    {
     "data": {
      "application/vnd.jupyter.widget-view+json": {
       "model_id": "fc1a135e53074ee1b2fdfb28dc930dd3",
       "version_major": 2,
       "version_minor": 0
      },
      "text/plain": [
       "VBox()"
      ]
     },
     "metadata": {},
     "output_type": "display_data"
    },
    {
     "data": {
      "application/vnd.jupyter.widget-view+json": {
       "model_id": "",
       "version_major": 2,
       "version_minor": 0
      },
      "text/plain": [
       "FloatProgress(value=0.0, bar_style='info', description='Progress:', layout=Layout(height='25px', width='50%'),…"
      ]
     },
     "metadata": {},
     "output_type": "display_data"
    },
    {
     "name": "stdout",
     "output_type": "stream",
     "text": [
      "0.8666053869512577"
     ]
    }
   ],
   "source": [
    "from pyspark.ml.evaluation import MulticlassClassificationEvaluator\n",
    "evaluator_nb = MulticlassClassificationEvaluator(predictionCol=\"prediction\")\n",
    "evaluator_nb.evaluate(nb_predictions)"
   ]
  },
  {
   "cell_type": "code",
   "execution_count": null,
   "metadata": {},
   "outputs": [
    {
     "data": {
      "application/vnd.jupyter.widget-view+json": {
       "model_id": "92e5d704b3e64a1ca5ae50c3295a6ffd",
       "version_major": 2,
       "version_minor": 0
      },
      "text/plain": [
       "VBox()"
      ]
     },
     "metadata": {},
     "output_type": "display_data"
    },
    {
     "data": {
      "application/vnd.jupyter.widget-view+json": {
       "model_id": "",
       "version_major": 2,
       "version_minor": 0
      },
      "text/plain": [
       "FloatProgress(value=0.0, bar_style='info', description='Progress:', layout=Layout(height='25px', width='50%'),…"
      ]
     },
     "metadata": {},
     "output_type": "display_data"
    },
    {
     "name": "stdout",
     "output_type": "stream",
     "text": [
      "Naive Bayes model with Hashing TF\n",
      "Accuracy : 0.8595328282828283\n",
      "f1 : 0.8666053869512577\n",
      "Precision : 0.8755673100870511\n",
      "Recall : 0.8595328282828283"
     ]
    }
   ],
   "source": [
    "print(\"Naive Bayes model with Hashing TF\")\n",
    "print(\"Accuracy :\" ,evaluator_nb.evaluate(nb_predictions,{evaluator_nb.metricName: \"accuracy\"}))\n",
    "print(\"f1 :\"       ,evaluator_nb.evaluate(nb_predictions,{evaluator_nb.metricName: \"f1\"}))\n",
    "print(\"Precision :\",evaluator_nb.evaluate(nb_predictions,{evaluator_nb.metricName: \"weightedPrecision\"}))\n",
    "print(\"Recall :\"   ,evaluator_nb.evaluate(nb_predictions,{evaluator_nb.metricName: \"weightedRecall\"}))"
   ]
  },
  {
   "cell_type": "code",
   "execution_count": null,
   "metadata": {},
   "outputs": [
    {
     "data": {
      "application/vnd.jupyter.widget-view+json": {
       "model_id": "bb85729211354b08a4cd215d04e33c25",
       "version_major": 2,
       "version_minor": 0
      },
      "text/plain": [
       "VBox()"
      ]
     },
     "metadata": {},
     "output_type": "display_data"
    },
    {
     "data": {
      "application/vnd.jupyter.widget-view+json": {
       "model_id": "",
       "version_major": 2,
       "version_minor": 0
      },
      "text/plain": [
       "FloatProgress(value=0.0, bar_style='info', description='Progress:', layout=Layout(height='25px', width='50%'),…"
      ]
     },
     "metadata": {},
     "output_type": "display_data"
    },
    {
     "name": "stdout",
     "output_type": "stream",
     "text": [
      "+--------------------+--------------------+-----+--------------------+--------------------+----------+\n",
      "|         cleanTokens|                 idf|label|       rawPrediction|         probability|prediction|\n",
      "+--------------------+--------------------+-----+--------------------+--------------------+----------+\n",
      "|   [aaa, five, star]|(46803,[35,113,15...|  0.0|[-148.62937308576...|[0.99999934185369...|       0.0|\n",
      "|[aaron, pilan, li...|(46803,[0,1,2,3,4...|  0.0|[-3057.7363371239...|[1.0,2.9594463863...|       0.0|\n",
      "|[aaron, tucker, r...|(46803,[0,2,4,5,7...|  0.0|[-1260.1214786739...|[0.99999999591506...|       0.0|\n",
      "|[abandon, hope, j...|(46803,[0,3,4,5,6...|  0.0|[-3014.4697122284...|[1.0,1.0072001098...|       0.0|\n",
      "|[abandon, hope, l...|(46803,[0,1,2,3,4...|  0.0|[-3268.5772506667...|[0.05266277130041...|       1.0|\n",
      "|[abbi, blake, tog...|(46803,[4,5,7,11,...|  0.0|[-578.22067516633...|[0.99998542655607...|       0.0|\n",
      "|[abbi, gline, fab...|(46803,[35,113,79...|  0.0|[-248.94342784957...|[0.99999981445508...|       0.0|\n",
      "|[abbi, zander, wr...|(46803,[1,3,4,6,1...|  0.0|[-675.72601588831...|[0.99999999805202...|       0.0|\n",
      "|[abigail, darling...|(46803,[0,1,2,5,6...|  1.0|[-4921.5654410484...|[1.20163547756818...|       1.0|\n",
      "|[abigail, mean, r...|(46803,[0,3,4,11,...|  0.0|[-935.16613698674...|[0.99999878958504...|       0.0|\n",
      "|[abigail, twenti,...|(46803,[4,8,14,19...|  0.0|[-1214.0359563364...|[0.99999302749504...|       0.0|\n",
      "|[abit, predict, g...|(46803,[4,6,28,36...|  0.0|[-271.17568530460...|[4.65394283863336...|       1.0|\n",
      "|[abl, complet, gr...|(46803,[3,5,9,23,...|  1.0|[-459.76413276217...|[1.08634174280050...|       2.0|\n",
      "|[abl, read, teach...|(46803,[3,7,8,14,...|  0.0|[-601.13123975454...|[0.99999999906305...|       0.0|\n",
      "|[abl, read, thi, ...|(46803,[0,1,2,3,4...|  0.0|[-1752.0440285761...|[1.0,9.2813560496...|       0.0|\n",
      "|[absolut, addict,...|(46803,[0,1,3,6,1...|  0.0|[-244.91935679573...|[0.99999999401788...|       0.0|\n",
      "|[absolut, ador, e...|(46803,[0,1,3,4,5...|  0.0|[-869.04518324056...|[0.99998496801018...|       0.0|\n",
      "|[absolut, ador, t...|(46803,[0,1,3,5,7...|  0.0|[-2672.7345564804...|[1.0,1.5457586467...|       0.0|\n",
      "|[absolut, ador, t...|(46803,[0,1,5,11,...|  0.0|[-269.24492630609...|[0.99999999908593...|       0.0|\n",
      "|[absolut, ador, t...|(46803,[0,1,3,5,1...|  0.0|[-269.11687291077...|[0.99999999441461...|       0.0|\n",
      "+--------------------+--------------------+-----+--------------------+--------------------+----------+\n",
      "only showing top 20 rows"
     ]
    }
   ],
   "source": [
    "# Naive Bayes model - TF-IDF\n",
    "from pyspark.ml.classification import NaiveBayes\n",
    "nb1 = NaiveBayes(featuresCol = 'idf', labelCol='label',modelType='multinomial')\n",
    "nbModel1 = nb1.fit(trainingData1) \n",
    "nb_predictions1 = nbModel1.transform(testData1)\n",
    "nb_predictions1.show()"
   ]
  },
  {
   "cell_type": "code",
   "execution_count": null,
   "metadata": {},
   "outputs": [
    {
     "data": {
      "application/vnd.jupyter.widget-view+json": {
       "model_id": "c9946d0f2dd5452689e77c8ee58c09a5",
       "version_major": 2,
       "version_minor": 0
      },
      "text/plain": [
       "VBox()"
      ]
     },
     "metadata": {},
     "output_type": "display_data"
    },
    {
     "data": {
      "application/vnd.jupyter.widget-view+json": {
       "model_id": "",
       "version_major": 2,
       "version_minor": 0
      },
      "text/plain": [
       "FloatProgress(value=0.0, bar_style='info', description='Progress:', layout=Layout(height='25px', width='50%'),…"
      ]
     },
     "metadata": {},
     "output_type": "display_data"
    },
    {
     "name": "stdout",
     "output_type": "stream",
     "text": [
      "0.8282583544048864"
     ]
    }
   ],
   "source": [
    "from pyspark.ml.evaluation import MulticlassClassificationEvaluator\n",
    "evaluator_nb1 = MulticlassClassificationEvaluator(predictionCol=\"prediction\")\n",
    "evaluator_nb1.evaluate(nb_predictions1)"
   ]
  },
  {
   "cell_type": "code",
   "execution_count": null,
   "metadata": {},
   "outputs": [
    {
     "data": {
      "application/vnd.jupyter.widget-view+json": {
       "model_id": "ad8c5a45c36148e688ba78f599501dbf",
       "version_major": 2,
       "version_minor": 0
      },
      "text/plain": [
       "VBox()"
      ]
     },
     "metadata": {},
     "output_type": "display_data"
    },
    {
     "data": {
      "application/vnd.jupyter.widget-view+json": {
       "model_id": "",
       "version_major": 2,
       "version_minor": 0
      },
      "text/plain": [
       "FloatProgress(value=0.0, bar_style='info', description='Progress:', layout=Layout(height='25px', width='50%'),…"
      ]
     },
     "metadata": {},
     "output_type": "display_data"
    },
    {
     "name": "stdout",
     "output_type": "stream",
     "text": [
      "Naive Bayes model with TF-IDF\n",
      "Accuracy : 0.8000390812890813\n",
      "f1 : 0.8282583544048864\n",
      "Precision : 0.8784361584517387\n",
      "Recall : 0.8000390812890812"
     ]
    }
   ],
   "source": [
    "print(\"Naive Bayes model with TF-IDF\")\n",
    "\n",
    "print(\"Accuracy :\" ,evaluator_nb1.evaluate(nb_predictions1,{evaluator_nb1.metricName: \"accuracy\"}))\n",
    "print(\"f1 :\"       ,evaluator_nb1.evaluate(nb_predictions1,{evaluator_nb1.metricName: \"f1\"}))\n",
    "print(\"Precision :\",evaluator_nb1.evaluate(nb_predictions1,{evaluator_nb1.metricName: \"weightedPrecision\"}))\n",
    "print(\"Recall :\"   ,evaluator_nb1.evaluate(nb_predictions1,{evaluator_nb1.metricName: \"weightedRecall\"}))"
   ]
  },
  {
   "cell_type": "markdown",
   "metadata": {},
   "source": [
    "# Linear SVC "
   ]
  },
  {
   "cell_type": "code",
   "execution_count": null,
   "metadata": {},
   "outputs": [
    {
     "data": {
      "application/vnd.jupyter.widget-view+json": {
       "model_id": "2145c885ec604677b4af258f84a0399a",
       "version_major": 2,
       "version_minor": 0
      },
      "text/plain": [
       "VBox()"
      ]
     },
     "metadata": {},
     "output_type": "display_data"
    },
    {
     "data": {
      "application/vnd.jupyter.widget-view+json": {
       "model_id": "",
       "version_major": 2,
       "version_minor": 0
      },
      "text/plain": [
       "FloatProgress(value=0.0, bar_style='info', description='Progress:', layout=Layout(height='25px', width='50%'),…"
      ]
     },
     "metadata": {},
     "output_type": "display_data"
    },
    {
     "name": "stdout",
     "output_type": "stream",
     "text": [
      "+--------------------+--------------------+-----+--------------------+----------+\n",
      "|         cleanTokens|           Hashingtf|label|       rawPrediction|prediction|\n",
      "+--------------------+--------------------+-----+--------------------+----------+\n",
      "|   [aaa, five, star]|(65536,[12710,167...|  0.0|[1.46607749552191...|       0.0|\n",
      "|[aaron, pilan, li...|(65536,[716,1433,...|  0.0|[2.58715080617521...|       0.0|\n",
      "|[aaron, tucker, r...|(65536,[44,139,17...|  0.0|[3.05221700745961...|       0.0|\n",
      "|[abandon, hope, j...|(65536,[44,2517,3...|  0.0|[3.18566273553675...|       0.0|\n",
      "|[abandon, hope, l...|(65536,[44,216,10...|  0.0|[1.76445796424057...|       0.0|\n",
      "|[abbi, blake, tog...|(65536,[44,1760,4...|  0.0|[1.87941216990167...|       0.0|\n",
      "|[abbi, gline, fab...|(65536,[12710,144...|  0.0|[1.32185963920248...|       0.0|\n",
      "|[abbi, zander, wr...|(65536,[4062,4114...|  0.0|[1.63614658263362...|       0.0|\n",
      "|[abigail, darling...|(65536,[2,44,361,...|  1.0|[-2.0559034633602...|       1.0|\n",
      "|[abigail, mean, r...|(65536,[637,1218,...|  0.0|[1.20874229356927...|       0.0|\n",
      "|[abigail, twenti,...|(65536,[1198,3920...|  0.0|[1.44061538084899...|       0.0|\n",
      "|[abit, predict, g...|(65536,[1500,1688...|  0.0|[0.39717084062691...|       0.0|\n",
      "|[abl, complet, gr...|(65536,[2381,3924...|  1.0|[0.43430090175396...|       0.0|\n",
      "|[abl, read, teach...|(65536,[44,3053,4...|  0.0|[2.18894017050267...|       0.0|\n",
      "|[abl, read, thi, ...|(65536,[2692,3359...|  0.0|[3.69346464459279...|       0.0|\n",
      "|[absolut, addict,...|(65536,[7194,7772...|  0.0|[2.20207852411972...|       0.0|\n",
      "|[absolut, ador, e...|(65536,[44,1198,2...|  0.0|[2.68914181303923...|       0.0|\n",
      "|[absolut, ador, t...|(65536,[44,2437,3...|  0.0|[3.60854132806579...|       0.0|\n",
      "|[absolut, ador, t...|(65536,[216,7609,...|  0.0|[1.91158448958734...|       0.0|\n",
      "|[absolut, ador, t...|(65536,[7609,8371...|  0.0|[1.86614736006497...|       0.0|\n",
      "+--------------------+--------------------+-----+--------------------+----------+\n",
      "only showing top 20 rows"
     ]
    }
   ],
   "source": [
    "# Linear SVC model -Hashing TF \n",
    "from pyspark.ml.classification import OneVsRest,LinearSVC\n",
    "lsvc = LinearSVC(featuresCol = 'Hashingtf', labelCol = 'label',maxIter=5)\n",
    "onevsrest = OneVsRest(classifier=lsvc,featuresCol = 'Hashingtf', labelCol = 'label')\n",
    "lsvcModel = onevsrest.fit(trainingData)\n",
    "lsvc_predictions = lsvcModel.transform(testData)\n",
    "lsvc_predictions.show()"
   ]
  },
  {
   "cell_type": "code",
   "execution_count": null,
   "metadata": {},
   "outputs": [
    {
     "data": {
      "application/vnd.jupyter.widget-view+json": {
       "model_id": "ea57d433a43242b9a2bd528b265e7ab0",
       "version_major": 2,
       "version_minor": 0
      },
      "text/plain": [
       "VBox()"
      ]
     },
     "metadata": {},
     "output_type": "display_data"
    },
    {
     "data": {
      "application/vnd.jupyter.widget-view+json": {
       "model_id": "",
       "version_major": 2,
       "version_minor": 0
      },
      "text/plain": [
       "FloatProgress(value=0.0, bar_style='info', description='Progress:', layout=Layout(height='25px', width='50%'),…"
      ]
     },
     "metadata": {},
     "output_type": "display_data"
    },
    {
     "name": "stdout",
     "output_type": "stream",
     "text": [
      "0.8711893265369006"
     ]
    }
   ],
   "source": [
    "from pyspark.ml.evaluation import MulticlassClassificationEvaluator\n",
    "evaluator_lsvc = MulticlassClassificationEvaluator(predictionCol=\"prediction\")\n",
    "evaluator_lsvc.evaluate(lsvc_predictions)"
   ]
  },
  {
   "cell_type": "code",
   "execution_count": null,
   "metadata": {},
   "outputs": [
    {
     "data": {
      "application/vnd.jupyter.widget-view+json": {
       "model_id": "e9ebb7277aed48fa901afd9676176e2a",
       "version_major": 2,
       "version_minor": 0
      },
      "text/plain": [
       "VBox()"
      ]
     },
     "metadata": {},
     "output_type": "display_data"
    },
    {
     "data": {
      "application/vnd.jupyter.widget-view+json": {
       "model_id": "",
       "version_major": 2,
       "version_minor": 0
      },
      "text/plain": [
       "FloatProgress(value=0.0, bar_style='info', description='Progress:', layout=Layout(height='25px', width='50%'),…"
      ]
     },
     "metadata": {},
     "output_type": "display_data"
    },
    {
     "name": "stdout",
     "output_type": "stream",
     "text": [
      "Linear SVC model with Hashing TF\n",
      "Accuracy : 0.8865034271284271\n",
      "f1 : 0.8711893265369006\n",
      "Precision : 0.8659671522647858\n",
      "Recall : 0.8865034271284271"
     ]
    }
   ],
   "source": [
    "print(\"Linear SVC model with Hashing TF\")\n",
    "print(\"Accuracy :\" ,evaluator_lsvc.evaluate(lsvc_predictions,{evaluator_lsvc.metricName: \"accuracy\"}))\n",
    "print(\"f1 :\"       ,evaluator_lsvc.evaluate(lsvc_predictions,{evaluator_lsvc.metricName: \"f1\"}))\n",
    "print(\"Precision :\",evaluator_lsvc.evaluate(lsvc_predictions,{evaluator_lsvc.metricName: \"weightedPrecision\"}))\n",
    "print(\"Recall :\"   ,evaluator_lsvc.evaluate(lsvc_predictions,{evaluator_lsvc.metricName: \"weightedRecall\"}))"
   ]
  },
  {
   "cell_type": "code",
   "execution_count": null,
   "metadata": {
    "scrolled": true
   },
   "outputs": [
    {
     "data": {
      "application/vnd.jupyter.widget-view+json": {
       "model_id": "d1bcc253a928445b9371907051fcfdc9",
       "version_major": 2,
       "version_minor": 0
      },
      "text/plain": [
       "VBox()"
      ]
     },
     "metadata": {},
     "output_type": "display_data"
    },
    {
     "data": {
      "application/vnd.jupyter.widget-view+json": {
       "model_id": "",
       "version_major": 2,
       "version_minor": 0
      },
      "text/plain": [
       "FloatProgress(value=0.0, bar_style='info', description='Progress:', layout=Layout(height='25px', width='50%'),…"
      ]
     },
     "metadata": {},
     "output_type": "display_data"
    },
    {
     "name": "stdout",
     "output_type": "stream",
     "text": [
      "+--------------------+--------------------+-----+--------------------+----------+\n",
      "|         cleanTokens|                 idf|label|       rawPrediction|prediction|\n",
      "+--------------------+--------------------+-----+--------------------+----------+\n",
      "|   [aaa, five, star]|(46803,[35,113,15...|  0.0|[1.44569060723490...|       0.0|\n",
      "|[aaron, pilan, li...|(46803,[0,1,2,3,4...|  0.0|[2.46602855278043...|       0.0|\n",
      "|[aaron, tucker, r...|(46803,[0,2,4,5,7...|  0.0|[2.92320421151173...|       0.0|\n",
      "|[abandon, hope, j...|(46803,[0,3,4,5,6...|  0.0|[2.63617653913506...|       0.0|\n",
      "|[abandon, hope, l...|(46803,[0,1,2,3,4...|  0.0|[1.46018138879798...|       0.0|\n",
      "|[abbi, blake, tog...|(46803,[4,5,7,11,...|  0.0|[1.74357459413831...|       0.0|\n",
      "|[abbi, gline, fab...|(46803,[35,113,79...|  0.0|[1.30489982321802...|       0.0|\n",
      "|[abbi, zander, wr...|(46803,[1,3,4,6,1...|  0.0|[1.61254980954291...|       0.0|\n",
      "|[abigail, darling...|(46803,[0,1,2,5,6...|  1.0|[-2.2448775920825...|       1.0|\n",
      "|[abigail, mean, r...|(46803,[0,3,4,11,...|  0.0|[1.22480851298275...|       0.0|\n",
      "|[abigail, twenti,...|(46803,[4,8,14,19...|  0.0|[1.21269130311693...|       0.0|\n",
      "|[abit, predict, g...|(46803,[4,6,28,36...|  0.0|[0.66707639305560...|       0.0|\n",
      "|[abl, complet, gr...|(46803,[3,5,9,23,...|  1.0|[0.57128726357865...|       0.0|\n",
      "|[abl, read, teach...|(46803,[3,7,8,14,...|  0.0|[2.02867654407052...|       0.0|\n",
      "|[abl, read, thi, ...|(46803,[0,1,2,3,4...|  0.0|[3.06764990790666...|       0.0|\n",
      "|[absolut, addict,...|(46803,[0,1,3,6,1...|  0.0|[2.11627048748794...|       0.0|\n",
      "|[absolut, ador, e...|(46803,[0,1,3,4,5...|  0.0|[2.6607538456807,...|       0.0|\n",
      "|[absolut, ador, t...|(46803,[0,1,3,5,7...|  0.0|[3.19175096949468...|       0.0|\n",
      "|[absolut, ador, t...|(46803,[0,1,5,11,...|  0.0|[1.92327563509527...|       0.0|\n",
      "|[absolut, ador, t...|(46803,[0,1,3,5,1...|  0.0|[1.82612814483112...|       0.0|\n",
      "+--------------------+--------------------+-----+--------------------+----------+\n",
      "only showing top 20 rows"
     ]
    }
   ],
   "source": [
    "# Linear SVC model - TF-IDF\n",
    "from pyspark.ml.classification import OneVsRest,LinearSVC\n",
    "lsvc1 = LinearSVC(featuresCol = 'idf', labelCol = 'label',maxIter=5)\n",
    "onevsrest1 = OneVsRest(classifier=lsvc1,featuresCol = 'idf', labelCol = 'label')\n",
    "lsvcModel1 = onevsrest1.fit(trainingData1)\n",
    "lsvc_predictions1 = lsvcModel1.transform(testData1)\n",
    "lsvc_predictions1.show()"
   ]
  },
  {
   "cell_type": "code",
   "execution_count": null,
   "metadata": {},
   "outputs": [
    {
     "data": {
      "application/vnd.jupyter.widget-view+json": {
       "model_id": "d235036d49b1425abb4698abd332ecf9",
       "version_major": 2,
       "version_minor": 0
      },
      "text/plain": [
       "VBox()"
      ]
     },
     "metadata": {},
     "output_type": "display_data"
    },
    {
     "data": {
      "application/vnd.jupyter.widget-view+json": {
       "model_id": "",
       "version_major": 2,
       "version_minor": 0
      },
      "text/plain": [
       "FloatProgress(value=0.0, bar_style='info', description='Progress:', layout=Layout(height='25px', width='50%'),…"
      ]
     },
     "metadata": {},
     "output_type": "display_data"
    },
    {
     "name": "stdout",
     "output_type": "stream",
     "text": [
      "0.8713975696613668"
     ]
    }
   ],
   "source": [
    "from pyspark.ml.evaluation import MulticlassClassificationEvaluator\n",
    "evaluator_lsvc1 = MulticlassClassificationEvaluator(predictionCol=\"prediction\")\n",
    "evaluator_lsvc1.evaluate(lsvc_predictions1)"
   ]
  },
  {
   "cell_type": "code",
   "execution_count": null,
   "metadata": {},
   "outputs": [
    {
     "data": {
      "application/vnd.jupyter.widget-view+json": {
       "model_id": "b346384681cb45b394db40fc79ea9b49",
       "version_major": 2,
       "version_minor": 0
      },
      "text/plain": [
       "VBox()"
      ]
     },
     "metadata": {},
     "output_type": "display_data"
    },
    {
     "data": {
      "application/vnd.jupyter.widget-view+json": {
       "model_id": "",
       "version_major": 2,
       "version_minor": 0
      },
      "text/plain": [
       "FloatProgress(value=0.0, bar_style='info', description='Progress:', layout=Layout(height='25px', width='50%'),…"
      ]
     },
     "metadata": {},
     "output_type": "display_data"
    },
    {
     "name": "stdout",
     "output_type": "stream",
     "text": [
      "Linear SVC model with TF-IDF\n",
      "Accuracy : 0.8878757816257816\n",
      "f1 : 0.8713975696613668\n",
      "Precision : 0.8675509250675701\n",
      "Recall : 0.8878757816257816"
     ]
    }
   ],
   "source": [
    "print(\"Linear SVC model with TF-IDF\")\n",
    "print(\"Accuracy :\" ,evaluator_lsvc1.evaluate(lsvc_predictions1,{evaluator_lsvc1.metricName: \"accuracy\"}))\n",
    "print(\"f1 :\"       ,evaluator_lsvc1.evaluate(lsvc_predictions1,{evaluator_lsvc1.metricName: \"f1\"}))\n",
    "print(\"Precision :\",evaluator_lsvc1.evaluate(lsvc_predictions1,{evaluator_lsvc1.metricName: \"weightedPrecision\"}))\n",
    "print(\"Recall :\"   ,evaluator_lsvc1.evaluate(lsvc_predictions1,{evaluator_lsvc1.metricName: \"weightedRecall\"}))"
   ]
  },
  {
   "cell_type": "markdown",
   "metadata": {},
   "source": [
    "# Classification Models with Sampling"
   ]
  },
  {
   "cell_type": "markdown",
   "metadata": {},
   "source": [
    "# Logistic Regression"
   ]
  },
  {
   "cell_type": "code",
   "execution_count": 101,
   "metadata": {},
   "outputs": [
    {
     "data": {
      "application/vnd.jupyter.widget-view+json": {
       "model_id": "5b974fbf1fe44007b309af013ad0207d",
       "version_major": 2,
       "version_minor": 0
      },
      "text/plain": [
       "VBox()"
      ]
     },
     "metadata": {},
     "output_type": "display_data"
    },
    {
     "data": {
      "application/vnd.jupyter.widget-view+json": {
       "model_id": "",
       "version_major": 2,
       "version_minor": 0
      },
      "text/plain": [
       "FloatProgress(value=0.0, bar_style='info', description='Progress:', layout=Layout(height='25px', width='50%'),…"
      ]
     },
     "metadata": {},
     "output_type": "display_data"
    },
    {
     "name": "stdout",
     "output_type": "stream",
     "text": [
      "+--------------------+--------------------+-----+--------------------+--------------------+----------+\n",
      "|         cleanTokens|                 idf|label|       rawPrediction|         probability|prediction|\n",
      "+--------------------+--------------------+-----+--------------------+--------------------+----------+\n",
      "|[abandon, thi, bo...|(20986,[0,1,2,3,4...|  2.0|[-3.6806662160138...|[3.54824154146157...|       2.0|\n",
      "|[absolut, connect...|(20986,[0,1,2,4,1...|  2.0|[-0.7581190040391...|[0.12312040005389...|       2.0|\n",
      "|[absolut, disappo...|(20986,[0,1,2,3,7...|  2.0|[-1.8310215676955...|[0.02249683466869...|       2.0|\n",
      "|[absolut, love, a...|(20986,[0,4,6,10,...|  0.0|[1.46265028998125...|[0.81000172496429...|       0.0|\n",
      "|[absolut, love, b...|(20986,[1,2,4,6,7...|  0.0|[1.04175665259980...|[0.70002192045034...|       0.0|\n",
      "|[absolut, love, r...|(20986,[0,1,3,4,6...|  0.0|[1.85105872520227...|[0.87904399572420...|       0.0|\n",
      "|[absolut, love, r...|(20986,[2,4,6,24,...|  0.0|[1.37775098519728...|[0.79370187169142...|       0.0|\n",
      "|[absolut, love, t...|(20986,[0,1,4,6,8...|  1.0|[-0.0085585260167...|[0.32134117241130...|       2.0|\n",
      "|[absolut, love, t...|(20986,[0,1,3,4,5...|  0.0|[0.38189757691782...|[0.46995069662467...|       0.0|\n",
      "|[absolut, love, t...|(20986,[0,1,4,6,7...|  0.0|[0.53162631346369...|[0.52014793771283...|       0.0|\n",
      "|[absolut, love, t...|(20986,[0,1,2,4,6...|  0.0|[1.13669259387170...|[0.73313952681676...|       0.0|\n",
      "|[absolut, love, t...|(20986,[0,1,2,3,5...|  0.0|[2.16214463219051...|[0.91609236808553...|       0.0|\n",
      "|[absolut, love, t...|(20986,[0,1,6,9,1...|  0.0|[1.75401511490041...|[0.87387494428181...|       0.0|\n",
      "|[absolut, love, t...|(20986,[0,1,4,6,1...|  0.0|[0.44117128034752...|[0.49085781411764...|       0.0|\n",
      "|[absolut, love, t...|(20986,[0,1,2,3,6...|  0.0|[2.03873251894716...|[0.91408582086521...|       0.0|\n",
      "|[absolut, love, t...|(20986,[0,3,6,9,1...|  0.0|[1.46558163385633...|[0.81718113652149...|       0.0|\n",
      "|[absolut, love, t...|(20986,[0,3,6,9,3...|  0.0|[0.71501489152648...|[0.59369405546146...|       0.0|\n",
      "|[absolut, love, w...|(20986,[6,9,34,42...|  0.0|[1.22648741163995...|[0.75101351656690...|       0.0|\n",
      "|[absolut, ne, pur...|(20986,[0,1,15,21...|  0.0|[0.61406029539894...|[0.55584735198733...|       0.0|\n",
      "|[absolut, tear, r...|(20986,[0,1,2,3,4...|  1.0|[-0.7729569925560...|[0.12084714366160...|       1.0|\n",
      "+--------------------+--------------------+-----+--------------------+--------------------+----------+\n",
      "only showing top 20 rows"
     ]
    }
   ],
   "source": [
    "from pyspark.ml.classification import LogisticRegression\n",
    "lr1_s = LogisticRegression(featuresCol = 'idf', labelCol = 'label',maxIter=20, regParam=0.3, elasticNetParam=0   )\n",
    "lrModel1_s = lr1.fit(trainingData1_s )\n",
    "predictions1_s = lrModel1_s.transform(testData1_s)\n",
    "predictions1_s.show()"
   ]
  },
  {
   "cell_type": "code",
   "execution_count": 102,
   "metadata": {},
   "outputs": [
    {
     "data": {
      "application/vnd.jupyter.widget-view+json": {
       "model_id": "e94f431cf1f14275be39e7f8f3f81ffa",
       "version_major": 2,
       "version_minor": 0
      },
      "text/plain": [
       "VBox()"
      ]
     },
     "metadata": {},
     "output_type": "display_data"
    },
    {
     "data": {
      "application/vnd.jupyter.widget-view+json": {
       "model_id": "",
       "version_major": 2,
       "version_minor": 0
      },
      "text/plain": [
       "FloatProgress(value=0.0, bar_style='info', description='Progress:', layout=Layout(height='25px', width='50%'),…"
      ]
     },
     "metadata": {},
     "output_type": "display_data"
    },
    {
     "name": "stdout",
     "output_type": "stream",
     "text": [
      "0.7444823816870154"
     ]
    }
   ],
   "source": [
    "from pyspark.ml.evaluation import MulticlassClassificationEvaluator\n",
    "evaluator1_s = MulticlassClassificationEvaluator(predictionCol=\"prediction\")\n",
    "evaluator1_s.evaluate(predictions1_s)"
   ]
  },
  {
   "cell_type": "code",
   "execution_count": 103,
   "metadata": {},
   "outputs": [
    {
     "data": {
      "application/vnd.jupyter.widget-view+json": {
       "model_id": "2506a486211d43a9bed089722030b222",
       "version_major": 2,
       "version_minor": 0
      },
      "text/plain": [
       "VBox()"
      ]
     },
     "metadata": {},
     "output_type": "display_data"
    },
    {
     "data": {
      "application/vnd.jupyter.widget-view+json": {
       "model_id": "",
       "version_major": 2,
       "version_minor": 0
      },
      "text/plain": [
       "FloatProgress(value=0.0, bar_style='info', description='Progress:', layout=Layout(height='25px', width='50%'),…"
      ]
     },
     "metadata": {},
     "output_type": "display_data"
    },
    {
     "name": "stdout",
     "output_type": "stream",
     "text": [
      "Logistic Regression model with TF-IDF with Sampling\n",
      "Accuracy : 0.7498422522063082\n",
      "f1 : 0.749235861172328\n",
      "Precision : 0.7472344276357595\n",
      "Recall : 0.7461716616543952"
     ]
    }
   ],
   "source": [
    "print(\"Logistic Regression model with TF-IDF with Sampling\")\n",
    "\n",
    "print(\"Accuracy :\" ,evaluator1_s.evaluate(predictions1_s,{evaluator1_s.metricName: \"accuracy\"}))\n",
    "print(\"f1 :\"       ,evaluator1_s.evaluate(predictions1_s,{evaluator1_s.metricName: \"f1\"}))\n",
    "print(\"Precision :\",evaluator1_s.evaluate(predictions1_s,{evaluator1_s.metricName: \"weightedPrecision\"}))\n",
    "print(\"Recall :\"   ,evaluator1_s.evaluate(predictions1_s,{evaluator1_s.metricName: \"weightedRecall\"}))"
   ]
  },
  {
   "cell_type": "code",
   "execution_count": 104,
   "metadata": {},
   "outputs": [
    {
     "data": {
      "application/vnd.jupyter.widget-view+json": {
       "model_id": "8d6fc9ff98774a27929f8de928cfef14",
       "version_major": 2,
       "version_minor": 0
      },
      "text/plain": [
       "VBox()"
      ]
     },
     "metadata": {},
     "output_type": "display_data"
    },
    {
     "data": {
      "application/vnd.jupyter.widget-view+json": {
       "model_id": "",
       "version_major": 2,
       "version_minor": 0
      },
      "text/plain": [
       "FloatProgress(value=0.0, bar_style='info', description='Progress:', layout=Layout(height='25px', width='50%'),…"
      ]
     },
     "metadata": {},
     "output_type": "display_data"
    },
    {
     "name": "stdout",
     "output_type": "stream",
     "text": [
      "+--------------------+--------------------+-----+--------------------+--------------------+----------+\n",
      "|         cleanTokens|           Hashingtf|label|       rawPrediction|         probability|prediction|\n",
      "+--------------------+--------------------+-----+--------------------+--------------------+----------+\n",
      "|[abigail, conner,...|(65536,[892,3191,...|  1.0|[0.22849281707891...|[0.24603735215315...|       1.0|\n",
      "|[absolut, awesom,...|(65536,[1542,2408...|  1.0|[-0.3737211056638...|[0.12480650768473...|       1.0|\n",
      "|[absolut, connect...|(65536,[44,1696,2...|  2.0|[-0.0067519201578...|[0.24794033757148...|       2.0|\n",
      "|[absolut, hate, w...|(65536,[7173,8371...|  2.0|[-0.1980434339323...|[0.27081626708069...|       1.0|\n",
      "|[absolut, love, a...|(65536,[44,8371,8...|  1.0|[-0.3697418216559...|[0.19674311245430...|       1.0|\n",
      "|[absolut, love, m...|(65536,[2517,5765...|  1.0|[-0.4441312073552...|[0.12696230385767...|       1.0|\n",
      "|[absolut, love, p...|(65536,[6783,8371...|  1.0|[-0.3285348345430...|[0.19217191787990...|       1.0|\n",
      "|[absolut, love, s...|(65536,[7269,8371...|  1.0|[-0.4325183684509...|[0.18247157216053...|       1.0|\n",
      "|[absolut, love, t...|(65536,[8371,1526...|  1.0|[-0.3121291894821...|[0.22614668242560...|       1.0|\n",
      "|[absolut, love, t...|(65536,[2171,2381...|  1.0|[-9.9559796307765...|[0.32147952601769...|       1.0|\n",
      "|[absolut, love, t...|(65536,[1587,2692...|  1.0|[-0.6027023366470...|[0.13616063470928...|       1.0|\n",
      "|[absolut, love, t...|(65536,[4310,8371...|  1.0|[-0.6594791609178...|[0.11574230139993...|       1.0|\n",
      "|[absolut, love, t...|(65536,[2517,5462...|  1.0|[-0.5297523824463...|[0.12351115028568...|       1.0|\n",
      "|[absolut, love, t...|(65536,[8371,8926...|  1.0|[-0.1866485814755...|[0.24974374006497...|       1.0|\n",
      "|[absolut, love, t...|(65536,[8371,8475...|  1.0|[-0.2418352571745...|[0.21505245979741...|       1.0|\n",
      "|[absolut, love, w...|(65536,[4114,8371...|  1.0|[-0.6183349874866...|[0.14054195725493...|       1.0|\n",
      "|[accept, blind, w...|(65536,[637,3225,...|  1.0|[0.01277277853553...|[0.30771370291135...|       1.0|\n",
      "|[acknowledg, must...|(65536,[5377,5462...|  2.0|[-0.3436509192636...|[0.22880226008239...|       2.0|\n",
      "|[action, aplenti,...|(65536,[14308,221...|  1.0|[0.08225548211630...|[0.34172036648262...|       1.0|\n",
      "|[action, pack, fu...|(65536,[3924,8371...|  1.0|[-0.3629771873770...|[0.13282267174804...|       1.0|\n",
      "+--------------------+--------------------+-----+--------------------+--------------------+----------+\n",
      "only showing top 20 rows"
     ]
    }
   ],
   "source": [
    "from pyspark.ml.classification import LogisticRegression\n",
    "lr_s = LogisticRegression(featuresCol = 'Hashingtf', labelCol = 'label',maxIter=20, regParam=0.3, elasticNetParam=0 )\n",
    "lrModel_s = lr_s.fit(trainingData_s)\n",
    "predictions_s = lrModel_s.transform(testData_s)\n",
    "predictions_s.show()"
   ]
  },
  {
   "cell_type": "code",
   "execution_count": 105,
   "metadata": {},
   "outputs": [
    {
     "data": {
      "application/vnd.jupyter.widget-view+json": {
       "model_id": "b6b539a9aee54edb86bd92387e817b0b",
       "version_major": 2,
       "version_minor": 0
      },
      "text/plain": [
       "VBox()"
      ]
     },
     "metadata": {},
     "output_type": "display_data"
    },
    {
     "data": {
      "application/vnd.jupyter.widget-view+json": {
       "model_id": "",
       "version_major": 2,
       "version_minor": 0
      },
      "text/plain": [
       "FloatProgress(value=0.0, bar_style='info', description='Progress:', layout=Layout(height='25px', width='50%'),…"
      ]
     },
     "metadata": {},
     "output_type": "display_data"
    },
    {
     "name": "stdout",
     "output_type": "stream",
     "text": [
      "0.7516890853720156"
     ]
    }
   ],
   "source": [
    "from pyspark.ml.evaluation import MulticlassClassificationEvaluator\n",
    "evaluator_s = MulticlassClassificationEvaluator(predictionCol=\"prediction\")\n",
    "evaluator_s.evaluate(predictions_s)"
   ]
  },
  {
   "cell_type": "code",
   "execution_count": 106,
   "metadata": {},
   "outputs": [
    {
     "data": {
      "application/vnd.jupyter.widget-view+json": {
       "model_id": "bbe2e39ae43c4d269a501e8222ba3a33",
       "version_major": 2,
       "version_minor": 0
      },
      "text/plain": [
       "VBox()"
      ]
     },
     "metadata": {},
     "output_type": "display_data"
    },
    {
     "data": {
      "application/vnd.jupyter.widget-view+json": {
       "model_id": "",
       "version_major": 2,
       "version_minor": 0
      },
      "text/plain": [
       "FloatProgress(value=0.0, bar_style='info', description='Progress:', layout=Layout(height='25px', width='50%'),…"
      ]
     },
     "metadata": {},
     "output_type": "display_data"
    },
    {
     "name": "stdout",
     "output_type": "stream",
     "text": [
      "Logistic Regression model with Hashing TF with Sampling\n",
      "Accuracy : 0.7531571218795888\n",
      "f1 : 0.7494865077217701\n",
      "Precision : 0.7516564221668667\n",
      "Recall : 0.7517445676581338"
     ]
    }
   ],
   "source": [
    "print(\"Logistic Regression model with Hashing TF with Sampling\")\n",
    "\n",
    "print(\"Accuracy :\" ,evaluator_s.evaluate(predictions_s,{evaluator_s.metricName: \"accuracy\"}))\n",
    "print(\"f1 :\"       ,evaluator_s.evaluate(predictions_s,{evaluator_s.metricName: \"f1\"}))\n",
    "print(\"Precision :\",evaluator_s.evaluate(predictions_s,{evaluator_s.metricName: \"weightedPrecision\"}))\n",
    "print(\"Recall :\"   ,evaluator_s.evaluate(predictions_s,{evaluator_s.metricName: \"weightedRecall\"}))"
   ]
  },
  {
   "cell_type": "markdown",
   "metadata": {},
   "source": [
    "# Naive Bayes"
   ]
  },
  {
   "cell_type": "code",
   "execution_count": 107,
   "metadata": {},
   "outputs": [
    {
     "data": {
      "application/vnd.jupyter.widget-view+json": {
       "model_id": "4bd8ae5dbd394bdab30e96794db139d0",
       "version_major": 2,
       "version_minor": 0
      },
      "text/plain": [
       "VBox()"
      ]
     },
     "metadata": {},
     "output_type": "display_data"
    },
    {
     "data": {
      "application/vnd.jupyter.widget-view+json": {
       "model_id": "",
       "version_major": 2,
       "version_minor": 0
      },
      "text/plain": [
       "FloatProgress(value=0.0, bar_style='info', description='Progress:', layout=Layout(height='25px', width='50%'),…"
      ]
     },
     "metadata": {},
     "output_type": "display_data"
    },
    {
     "name": "stdout",
     "output_type": "stream",
     "text": [
      "+--------------------+--------------------+-----+--------------------+--------------------+----------+\n",
      "|         cleanTokens|           Hashingtf|label|       rawPrediction|         probability|prediction|\n",
      "+--------------------+--------------------+-----+--------------------+--------------------+----------+\n",
      "|[abbi, love, joe,...|(65536,[1163,1198...|  1.0|[-335.15310319054...|[0.01322757532015...|       1.0|\n",
      "|[absolut, disappo...|(65536,[44,716,26...|  2.0|[-453.80446645713...|[1.66585881642897...|       2.0|\n",
      "|[absolut, fall, l...|(65536,[12,44,106...|  1.0|[-1649.2835003607...|[6.03361004898656...|       1.0|\n",
      "|[absolut, hate, w...|(65536,[7173,8371...|  2.0|[-35.587062380394...|[0.06328718188687...|       1.0|\n",
      "|[absolut, highli,...|(65536,[44,484,26...|  1.0|[-333.98917466774...|[6.57728148916824...|       1.0|\n",
      "|[absolut, love, b...|(65536,[44,2692,4...|  1.0|[-143.99138453714...|[0.00166611874911...|       1.0|\n",
      "|[absolut, love, b...|(65536,[44,216,40...|  1.0|[-465.01555246250...|[0.26100795904798...|       1.0|\n",
      "|[absolut, love, h...|(65536,[2517,8371...|  0.0|[-279.65141097056...|[0.13733362884867...|       1.0|\n",
      "|[absolut, love, r...|(65536,[8371,1221...|  1.0|[-121.90982055652...|[0.00180969268477...|       1.0|\n",
      "|[absolut, love, t...|(65536,[8371,9859...|  0.0|[-117.59385160391...|[0.03065119745047...|       2.0|\n",
      "|[absolut, love, t...|(65536,[4529,6783...|  1.0|[-175.67393686068...|[0.00414608900316...|       1.0|\n",
      "|[absolut, love, t...|(65536,[8371,1327...|  1.0|[-82.322460395334...|[0.01316621999088...|       1.0|\n",
      "|[absolut, love, t...|(65536,[44,2692,8...|  1.0|[-111.48278098583...|[4.89648591275803...|       1.0|\n",
      "|[absolut, love, t...|(65536,[44,1061,3...|  1.0|[-240.81071263083...|[9.83006046397019...|       1.0|\n",
      "|[absolut, love, t...|(65536,[8371,1061...|  1.0|[-134.80531818503...|[1.42788122707439...|       1.0|\n",
      "|[absolut, love, t...|(65536,[8371,1245...|  1.0|[-100.71100085241...|[6.65503434137655...|       1.0|\n",
      "|[absolut, love, w...|(65536,[4114,8371...|  1.0|[-47.244945193952...|[0.00684103409267...|       1.0|\n",
      "|[accident, hero, ...|(65536,[2464,4218...|  2.0|[-246.40650355735...|[0.17978307323402...|       2.0|\n",
      "|[accur, call, thi...|(65536,[2841,6416...|  2.0|[-324.76490649004...|[0.02097690696857...|       2.0|\n",
      "|[action, pack, ad...|(65536,[4167,6218...|  1.0|[-145.74112985842...|[4.87858334957127...|       1.0|\n",
      "+--------------------+--------------------+-----+--------------------+--------------------+----------+\n",
      "only showing top 20 rows"
     ]
    }
   ],
   "source": [
    "# Naive Bayes model - Hashing\n",
    "from pyspark.ml.classification import NaiveBayes\n",
    "nb_s = NaiveBayes(featuresCol = 'Hashingtf', labelCol='label',modelType='multinomial')\n",
    "nbModel_s = nb_s.fit(trainingData_s) \n",
    "nb_predictions_s = nbModel_s.transform(testData_s)\n",
    "nb_predictions_s.show()\n"
   ]
  },
  {
   "cell_type": "code",
   "execution_count": 108,
   "metadata": {},
   "outputs": [
    {
     "data": {
      "application/vnd.jupyter.widget-view+json": {
       "model_id": "2ce335b623924e009ecf7bdfd2f10d24",
       "version_major": 2,
       "version_minor": 0
      },
      "text/plain": [
       "VBox()"
      ]
     },
     "metadata": {},
     "output_type": "display_data"
    },
    {
     "data": {
      "application/vnd.jupyter.widget-view+json": {
       "model_id": "",
       "version_major": 2,
       "version_minor": 0
      },
      "text/plain": [
       "FloatProgress(value=0.0, bar_style='info', description='Progress:', layout=Layout(height='25px', width='50%'),…"
      ]
     },
     "metadata": {},
     "output_type": "display_data"
    },
    {
     "name": "stdout",
     "output_type": "stream",
     "text": [
      "0.7188113870761607"
     ]
    }
   ],
   "source": [
    "from pyspark.ml.evaluation import MulticlassClassificationEvaluator\n",
    "evaluator_nb_s = MulticlassClassificationEvaluator(predictionCol=\"prediction\")\n",
    "evaluator_nb_s.evaluate(nb_predictions_s)"
   ]
  },
  {
   "cell_type": "code",
   "execution_count": 109,
   "metadata": {},
   "outputs": [
    {
     "data": {
      "application/vnd.jupyter.widget-view+json": {
       "model_id": "2147f7f1a72c499780c2058801316d56",
       "version_major": 2,
       "version_minor": 0
      },
      "text/plain": [
       "VBox()"
      ]
     },
     "metadata": {},
     "output_type": "display_data"
    },
    {
     "data": {
      "application/vnd.jupyter.widget-view+json": {
       "model_id": "",
       "version_major": 2,
       "version_minor": 0
      },
      "text/plain": [
       "FloatProgress(value=0.0, bar_style='info', description='Progress:', layout=Layout(height='25px', width='50%'),…"
      ]
     },
     "metadata": {},
     "output_type": "display_data"
    },
    {
     "name": "stdout",
     "output_type": "stream",
     "text": [
      "Naive Bayes model with Hashing TF - with Sampling\n",
      "Accuracy : 0.717037575003026\n",
      "f1 : 0.7164522311737662\n",
      "Precision : 0.7190989384603774\n",
      "Recall : 0.7179400904165373"
     ]
    }
   ],
   "source": [
    "print(\"Naive Bayes model with Hashing TF - with Sampling\")\n",
    "print(\"Accuracy :\" ,evaluator_nb_s.evaluate(nb_predictions_s,{evaluator_nb_s.metricName: \"accuracy\"}))\n",
    "print(\"f1 :\"       ,evaluator_nb_s.evaluate(nb_predictions_s,{evaluator_nb_s.metricName: \"f1\"}))\n",
    "print(\"Precision :\",evaluator_nb_s.evaluate(nb_predictions_s,{evaluator_nb_s.metricName: \"weightedPrecision\"}))\n",
    "print(\"Recall :\"   ,evaluator_nb_s.evaluate(nb_predictions_s,{evaluator_nb_s.metricName: \"weightedRecall\"}))"
   ]
  },
  {
   "cell_type": "code",
   "execution_count": 110,
   "metadata": {},
   "outputs": [
    {
     "data": {
      "application/vnd.jupyter.widget-view+json": {
       "model_id": "5a9eed7bc54e43478f074f2ee3ccd5bb",
       "version_major": 2,
       "version_minor": 0
      },
      "text/plain": [
       "VBox()"
      ]
     },
     "metadata": {},
     "output_type": "display_data"
    },
    {
     "data": {
      "application/vnd.jupyter.widget-view+json": {
       "model_id": "",
       "version_major": 2,
       "version_minor": 0
      },
      "text/plain": [
       "FloatProgress(value=0.0, bar_style='info', description='Progress:', layout=Layout(height='25px', width='50%'),…"
      ]
     },
     "metadata": {},
     "output_type": "display_data"
    },
    {
     "name": "stdout",
     "output_type": "stream",
     "text": [
      "+--------------------+--------------------+-----+--------------------+--------------------+----------+\n",
      "|         cleanTokens|                 idf|label|       rawPrediction|         probability|prediction|\n",
      "+--------------------+--------------------+-----+--------------------+--------------------+----------+\n",
      "|[abandon, thi, bo...|(20986,[0,1,2,3,4...|  2.0|[-12109.751088070...|[2.78252439064165...|       2.0|\n",
      "|[absolut, ador, f...|(20986,[0,1,2,5,6...|  2.0|[-1893.1834163358...|[1.65715653128254...|       1.0|\n",
      "|[absolut, ador, f...|(20986,[0,3,4,5,1...|  0.0|[-910.49271094868...|[0.99999999999921...|       0.0|\n",
      "|[absolut, big, pu...|(20986,[0,1,2,3,5...|  0.0|[-6809.6681249137...|[1.0,6.5924307517...|       0.0|\n",
      "|[absolut, cannot,...|(20986,[0,4,15,33...|  0.0|[-114.33041657309...|[0.99978001684327...|       0.0|\n",
      "|[absolut, love, a...|(20986,[0,1,2,4,5...|  0.0|[-2453.4511345811...|[1.0,1.7778168520...|       0.0|\n",
      "|[absolut, love, b...|(20986,[0,1,2,3,6...|  1.0|[-2379.5145151822...|[5.54455359551183...|       1.0|\n",
      "|[absolut, love, k...|(20986,[0,1,3,4,6...|  0.0|[-985.67999519792...|[0.99999999999999...|       0.0|\n",
      "|[absolut, love, t...|(20986,[0,1,6,8,1...|  0.0|[-497.77900231628...|[1.0,1.1344608863...|       0.0|\n",
      "|[absolut, love, t...|(20986,[0,1,2,6,3...|  0.0|[-257.52832300049...|[0.99891595701191...|       0.0|\n",
      "|[absolut, love, t...|(20986,[0,1,2,3,4...|  0.0|[-1152.5820813207...|[0.99999999999987...|       0.0|\n",
      "|[absolut, love, t...|(20986,[0,1,2,3,4...|  0.0|[-1253.6545328753...|[1.0,2.3082933551...|       0.0|\n",
      "|[absolut, love, t...|(20986,[0,1,2,6,8...|  0.0|[-662.34132323809...|[1.0,4.9801026964...|       0.0|\n",
      "|[absolut, love, t...|(20986,[0,1,4,6,1...|  0.0|[-1971.1803566577...|[1.0,2.9228640682...|       0.0|\n",
      "|[absolut, love, t...|(20986,[0,6,15,18...|  0.0|[-310.73500260165...|[0.99999999999950...|       0.0|\n",
      "|[absolut, love, t...|(20986,[0,1,2,3,4...|  1.0|[-12340.473861971...|[5.11382021692978...|       1.0|\n",
      "|[absolut, wa, glu...|(20986,[0,1,2,3,4...|  0.0|[-495.57955179493...|[1.0,4.8803999552...|       0.0|\n",
      "|[acclaim, scienc,...|(20986,[0,1,3,4,7...|  0.0|[-7420.5839704877...|[1.0,2.5998569653...|       0.0|\n",
      "|[accur, call, thi...|(20986,[0,1,4,5,1...|  2.0|[-1295.0138403026...|[1.37476109895617...|       2.0|\n",
      "|[action, never, s...|(20986,[0,1,4,8,1...|  0.0|[-1087.9010155631...|[1.0,1.5753107736...|       0.0|\n",
      "+--------------------+--------------------+-----+--------------------+--------------------+----------+\n",
      "only showing top 20 rows"
     ]
    }
   ],
   "source": [
    "# Naive Bayes model - TF-IDF\n",
    "from pyspark.ml.classification import NaiveBayes\n",
    "nb1_s = NaiveBayes(featuresCol = 'idf', labelCol='label',modelType='multinomial')\n",
    "nbModel1_s = nb1_s.fit(trainingData1_s) \n",
    "nb_predictions1_s = nbModel1_s.transform(testData1_s)\n",
    "nb_predictions1_s.show()"
   ]
  },
  {
   "cell_type": "code",
   "execution_count": 111,
   "metadata": {},
   "outputs": [
    {
     "data": {
      "application/vnd.jupyter.widget-view+json": {
       "model_id": "ab13f67dd03d4376bca729fb1ad4d395",
       "version_major": 2,
       "version_minor": 0
      },
      "text/plain": [
       "VBox()"
      ]
     },
     "metadata": {},
     "output_type": "display_data"
    },
    {
     "data": {
      "application/vnd.jupyter.widget-view+json": {
       "model_id": "",
       "version_major": 2,
       "version_minor": 0
      },
      "text/plain": [
       "FloatProgress(value=0.0, bar_style='info', description='Progress:', layout=Layout(height='25px', width='50%'),…"
      ]
     },
     "metadata": {},
     "output_type": "display_data"
    },
    {
     "name": "stdout",
     "output_type": "stream",
     "text": [
      "0.6938176763531975"
     ]
    }
   ],
   "source": [
    "from pyspark.ml.evaluation import MulticlassClassificationEvaluator\n",
    "evaluator_nb1_s = MulticlassClassificationEvaluator(predictionCol=\"prediction\")\n",
    "evaluator_nb1_s.evaluate(nb_predictions1_s)"
   ]
  },
  {
   "cell_type": "code",
   "execution_count": 112,
   "metadata": {},
   "outputs": [
    {
     "data": {
      "application/vnd.jupyter.widget-view+json": {
       "model_id": "d5d63a55e3bf4877afbc22a04add028b",
       "version_major": 2,
       "version_minor": 0
      },
      "text/plain": [
       "VBox()"
      ]
     },
     "metadata": {},
     "output_type": "display_data"
    },
    {
     "data": {
      "application/vnd.jupyter.widget-view+json": {
       "model_id": "",
       "version_major": 2,
       "version_minor": 0
      },
      "text/plain": [
       "FloatProgress(value=0.0, bar_style='info', description='Progress:', layout=Layout(height='25px', width='50%'),…"
      ]
     },
     "metadata": {},
     "output_type": "display_data"
    },
    {
     "name": "stdout",
     "output_type": "stream",
     "text": [
      "Naive Bayes model with TF-IDF\n",
      "Accuracy : 0.6936067968297595\n",
      "f1 : 0.6926962742744494\n",
      "Precision : 0.6952295628668833\n",
      "Recall : 0.6966014596018483"
     ]
    }
   ],
   "source": [
    "print(\"Naive Bayes model with TF-IDF\")\n",
    "\n",
    "print(\"Accuracy :\" ,evaluator_nb1_s.evaluate(nb_predictions1_s,{evaluator_nb1_s.metricName: \"accuracy\"}))\n",
    "print(\"f1 :\"       ,evaluator_nb1_s.evaluate(nb_predictions1_s,{evaluator_nb1_s.metricName: \"f1\"}))\n",
    "print(\"Precision :\",evaluator_nb1_s.evaluate(nb_predictions1_s,{evaluator_nb1_s.metricName: \"weightedPrecision\"}))\n",
    "print(\"Recall :\"   ,evaluator_nb1_s.evaluate(nb_predictions1_s,{evaluator_nb1_s.metricName: \"weightedRecall\"}))"
   ]
  },
  {
   "cell_type": "markdown",
   "metadata": {},
   "source": [
    "# Linear SVC "
   ]
  },
  {
   "cell_type": "code",
   "execution_count": 113,
   "metadata": {},
   "outputs": [
    {
     "data": {
      "application/vnd.jupyter.widget-view+json": {
       "model_id": "10748a2544ab47e5a143fad786ef9841",
       "version_major": 2,
       "version_minor": 0
      },
      "text/plain": [
       "VBox()"
      ]
     },
     "metadata": {},
     "output_type": "display_data"
    },
    {
     "data": {
      "application/vnd.jupyter.widget-view+json": {
       "model_id": "",
       "version_major": 2,
       "version_minor": 0
      },
      "text/plain": [
       "FloatProgress(value=0.0, bar_style='info', description='Progress:', layout=Layout(height='25px', width='50%'),…"
      ]
     },
     "metadata": {},
     "output_type": "display_data"
    },
    {
     "name": "stdout",
     "output_type": "stream",
     "text": [
      "+--------------------+--------------------+-----+--------------------+----------+\n",
      "|         cleanTokens|           Hashingtf|label|       rawPrediction|prediction|\n",
      "+--------------------+--------------------+-----+--------------------+----------+\n",
      "|[abandon, thi, bo...|(65536,[12,44,672...|  2.0|[-4.0772093039551...|       2.0|\n",
      "|[absolut, ador, f...|(65536,[88,1433,1...|  2.0|[1.20614482435136...|       0.0|\n",
      "|[absolut, ador, t...|(65536,[6425,8371...|  1.0|[-1.5571168147768...|       1.0|\n",
      "|[absolut, disappo...|(65536,[44,716,26...|  2.0|[-0.7679124333021...|       2.0|\n",
      "|[absolut, enjoi, ...|(65536,[3628,3920...|  1.0|[-0.7090226716535...|       1.0|\n",
      "|[absolut, love, c...|(65536,[8371,1271...|  1.0|[-1.2983765107856...|       1.0|\n",
      "|[absolut, love, c...|(65536,[5381,8371...|  0.0|[-1.0909432467226...|       1.0|\n",
      "|[absolut, love, s...|(65536,[1303,2495...|  1.0|[-1.2748021265116...|       1.0|\n",
      "|[absolut, love, t...|(65536,[1198,2206...|  1.0|[-2.5523205327544...|       1.0|\n",
      "|[absolut, love, t...|(65536,[1587,2437...|  1.0|[-0.9256945461654...|       1.0|\n",
      "|[absolut, love, t...|(65536,[518,2171,...|  1.0|[-0.8352244622968...|       1.0|\n",
      "|[absolut, love, t...|(65536,[506,1061,...|  1.0|[-3.2814512475493...|       1.0|\n",
      "|[absolut, love, t...|(65536,[8371,9739...|  1.0|[-1.8572046042902...|       1.0|\n",
      "|[absolut, love, t...|(65536,[44,2381,8...|  1.0|[-1.4339140509596...|       1.0|\n",
      "|[absolut, love, t...|(65536,[2171,8371...|  1.0|[-1.0044143920532...|       1.0|\n",
      "|[ac, jare, moment...|(65536,[1064,1433...|  1.0|[-0.9716761348580...|       1.0|\n",
      "|[accur, call, thi...|(65536,[2841,6416...|  2.0|[-0.9650533020859...|       2.0|\n",
      "|[action, wa, veri...|(65536,[1889,2896...|  1.0|[-1.7539625909051...|       1.0|\n",
      "|[actual, end, dec...|(65536,[3329,3539...|  1.0|[0.37489574152483...|       1.0|\n",
      "|[actual, expect, ...|(65536,[1303,2171...|  2.0|[0.11920992542485...|       0.0|\n",
      "+--------------------+--------------------+-----+--------------------+----------+\n",
      "only showing top 20 rows"
     ]
    }
   ],
   "source": [
    "# Linear SVC model -Hashing TF \n",
    "from pyspark.ml.classification import OneVsRest,LinearSVC\n",
    "lsvc_s = LinearSVC(featuresCol = 'Hashingtf', labelCol = 'label',maxIter=5)\n",
    "onevsrest_s = OneVsRest(classifier=lsvc_s,featuresCol = 'Hashingtf', labelCol = 'label')\n",
    "lsvcModel_s = onevsrest_s.fit(trainingData_s)\n",
    "lsvc_predictions_s = lsvcModel_s.transform(testData_s)\n",
    "lsvc_predictions_s.show()"
   ]
  },
  {
   "cell_type": "code",
   "execution_count": 114,
   "metadata": {},
   "outputs": [
    {
     "data": {
      "application/vnd.jupyter.widget-view+json": {
       "model_id": "6deefb8845d34f00a6567ba0316e2c92",
       "version_major": 2,
       "version_minor": 0
      },
      "text/plain": [
       "VBox()"
      ]
     },
     "metadata": {},
     "output_type": "display_data"
    },
    {
     "data": {
      "application/vnd.jupyter.widget-view+json": {
       "model_id": "",
       "version_major": 2,
       "version_minor": 0
      },
      "text/plain": [
       "FloatProgress(value=0.0, bar_style='info', description='Progress:', layout=Layout(height='25px', width='50%'),…"
      ]
     },
     "metadata": {},
     "output_type": "display_data"
    },
    {
     "name": "stdout",
     "output_type": "stream",
     "text": [
      "0.7433128052117389"
     ]
    }
   ],
   "source": [
    "from pyspark.ml.evaluation import MulticlassClassificationEvaluator\n",
    "evaluator_lsvc_s = MulticlassClassificationEvaluator(predictionCol=\"prediction\")\n",
    "evaluator_lsvc_s.evaluate(lsvc_predictions_s)"
   ]
  },
  {
   "cell_type": "code",
   "execution_count": 115,
   "metadata": {},
   "outputs": [
    {
     "data": {
      "application/vnd.jupyter.widget-view+json": {
       "model_id": "aecabc3568354fd9be0412deb719467b",
       "version_major": 2,
       "version_minor": 0
      },
      "text/plain": [
       "VBox()"
      ]
     },
     "metadata": {},
     "output_type": "display_data"
    },
    {
     "data": {
      "application/vnd.jupyter.widget-view+json": {
       "model_id": "",
       "version_major": 2,
       "version_minor": 0
      },
      "text/plain": [
       "FloatProgress(value=0.0, bar_style='info', description='Progress:', layout=Layout(height='25px', width='50%'),…"
      ]
     },
     "metadata": {},
     "output_type": "display_data"
    },
    {
     "name": "stdout",
     "output_type": "stream",
     "text": [
      "Linear SVC model with Hashing TF\n",
      "Accuracy : 0.7451621271076524\n",
      "f1 : 0.7433493235274405\n",
      "Precision : 0.7404572988330357\n",
      "Recall : 0.7453952997916973"
     ]
    }
   ],
   "source": [
    "print(\"Linear SVC model with Hashing TF\")\n",
    "print(\"Accuracy :\" ,evaluator_lsvc_s.evaluate(lsvc_predictions_s,{evaluator_lsvc_s.metricName: \"accuracy\"}))\n",
    "print(\"f1 :\"       ,evaluator_lsvc_s.evaluate(lsvc_predictions_s,{evaluator_lsvc_s.metricName: \"f1\"}))\n",
    "print(\"Precision :\",evaluator_lsvc_s.evaluate(lsvc_predictions_s,{evaluator_lsvc_s.metricName: \"weightedPrecision\"}))\n",
    "print(\"Recall :\"   ,evaluator_lsvc_s.evaluate(lsvc_predictions_s,{evaluator_lsvc_s.metricName: \"weightedRecall\"}))"
   ]
  },
  {
   "cell_type": "code",
   "execution_count": 116,
   "metadata": {},
   "outputs": [
    {
     "data": {
      "application/vnd.jupyter.widget-view+json": {
       "model_id": "9910d71419fe415d9ffc013da21a33a5",
       "version_major": 2,
       "version_minor": 0
      },
      "text/plain": [
       "VBox()"
      ]
     },
     "metadata": {},
     "output_type": "display_data"
    },
    {
     "data": {
      "application/vnd.jupyter.widget-view+json": {
       "model_id": "",
       "version_major": 2,
       "version_minor": 0
      },
      "text/plain": [
       "FloatProgress(value=0.0, bar_style='info', description='Progress:', layout=Layout(height='25px', width='50%'),…"
      ]
     },
     "metadata": {},
     "output_type": "display_data"
    },
    {
     "name": "stdout",
     "output_type": "stream",
     "text": [
      "+--------------------+--------------------+-----+--------------------+----------+\n",
      "|         cleanTokens|                 idf|label|       rawPrediction|prediction|\n",
      "+--------------------+--------------------+-----+--------------------+----------+\n",
      "|[abandon, thi, bo...|(20986,[0,1,2,3,4...|  2.0|[-6.2293156418395...|       2.0|\n",
      "|[absolut, ador, f...|(20986,[0,1,2,5,6...|  2.0|[-4.1656602064260...|       1.0|\n",
      "|[absolut, ador, t...|(20986,[0,1,4,6,9...|  0.0|[1.22073856568915...|       0.0|\n",
      "|[absolut, cannot,...|(20986,[0,4,15,33...|  0.0|[0.68020632299533...|       0.0|\n",
      "|[absolut, connect...|(20986,[0,1,2,4,1...|  2.0|[-1.7902152255116...|       2.0|\n",
      "|[absolut, love, b...|(20986,[0,1,2,3,6...|  1.0|[-4.5086593626763...|       1.0|\n",
      "|[absolut, love, b...|(20986,[1,4,6,12,...|  0.0|[1.52147370183550...|       0.0|\n",
      "|[absolut, love, k...|(20986,[3,6,18,72...|  0.0|[2.05755460736725...|       0.0|\n",
      "|[absolut, love, t...|(20986,[0,1,4,6,8...|  1.0|[-0.2192580035289...|       2.0|\n",
      "|[absolut, love, t...|(20986,[0,1,2,3,4...|  0.0|[3.33863110916850...|       0.0|\n",
      "|[absolut, love, t...|(20986,[0,1,2,3,4...|  0.0|[1.16035803437046...|       0.0|\n",
      "|[absolut, love, t...|(20986,[0,1,4,6,2...|  0.0|[1.81589573617932...|       0.0|\n",
      "|[absolut, love, t...|(20986,[0,1,4,6,1...|  0.0|[-0.0886247631856...|       2.0|\n",
      "|[absolut, love, t...|(20986,[0,1,3,4,6...|  0.0|[1.28448254176177...|       0.0|\n",
      "|[absolut, love, t...|(20986,[0,3,6,9,1...|  0.0|[1.39893515782478...|       0.0|\n",
      "|[absolut, wonder,...|(20986,[0,3,4,6,9...|  0.0|[3.16442533697961...|       0.0|\n",
      "|[acknowledg, must...|(20986,[0,1,17,25...|  2.0|[-0.3848388406002...|       2.0|\n",
      "|[action, thi, ser...|(20986,[0,2,3,5,6...|  0.0|[4.86857352250520...|       0.0|\n",
      "|[actual, end, dec...|(20986,[4,5,7,8,1...|  0.0|[0.74618803103451...|       0.0|\n",
      "|[actual, find, re...|(20986,[0,1,5,28,...|  1.0|[-0.5726290239477...|       2.0|\n",
      "+--------------------+--------------------+-----+--------------------+----------+\n",
      "only showing top 20 rows"
     ]
    }
   ],
   "source": [
    "# Linear SVC model - TF-IDF\n",
    "from pyspark.ml.classification import OneVsRest,LinearSVC\n",
    "lsvc1_s = LinearSVC(featuresCol = 'idf', labelCol = 'label',maxIter=5)\n",
    "onevsrest1_s = OneVsRest(classifier=lsvc1_s,featuresCol = 'idf', labelCol = 'label')\n",
    "lsvcModel1_s = onevsrest1_s.fit(trainingData1_s)\n",
    "lsvc_predictions1_s = lsvcModel1_s.transform(testData1_s)\n",
    "lsvc_predictions1_s.show()"
   ]
  },
  {
   "cell_type": "code",
   "execution_count": 117,
   "metadata": {},
   "outputs": [
    {
     "data": {
      "application/vnd.jupyter.widget-view+json": {
       "model_id": "d0f5f1faccf242c18a47e1b3c0e1e637",
       "version_major": 2,
       "version_minor": 0
      },
      "text/plain": [
       "VBox()"
      ]
     },
     "metadata": {},
     "output_type": "display_data"
    },
    {
     "data": {
      "application/vnd.jupyter.widget-view+json": {
       "model_id": "",
       "version_major": 2,
       "version_minor": 0
      },
      "text/plain": [
       "FloatProgress(value=0.0, bar_style='info', description='Progress:', layout=Layout(height='25px', width='50%'),…"
      ]
     },
     "metadata": {},
     "output_type": "display_data"
    },
    {
     "name": "stdout",
     "output_type": "stream",
     "text": [
      "0.739857749996891"
     ]
    }
   ],
   "source": [
    "from pyspark.ml.evaluation import MulticlassClassificationEvaluator\n",
    "evaluator_lsvc1_s = MulticlassClassificationEvaluator(predictionCol=\"prediction\")\n",
    "evaluator_lsvc1_s.evaluate(lsvc_predictions1_s)"
   ]
  },
  {
   "cell_type": "code",
   "execution_count": 118,
   "metadata": {},
   "outputs": [
    {
     "data": {
      "application/vnd.jupyter.widget-view+json": {
       "model_id": "b60569ee3b2a4412a4176a0e01393529",
       "version_major": 2,
       "version_minor": 0
      },
      "text/plain": [
       "VBox()"
      ]
     },
     "metadata": {},
     "output_type": "display_data"
    },
    {
     "data": {
      "application/vnd.jupyter.widget-view+json": {
       "model_id": "",
       "version_major": 2,
       "version_minor": 0
      },
      "text/plain": [
       "FloatProgress(value=0.0, bar_style='info', description='Progress:', layout=Layout(height='25px', width='50%'),…"
      ]
     },
     "metadata": {},
     "output_type": "display_data"
    },
    {
     "name": "stdout",
     "output_type": "stream",
     "text": [
      "Linear SVC model with TF-IDF\n",
      "Accuracy : 0.7422198003701974\n",
      "f1 : 0.7406096208001899\n",
      "Precision : 0.738021494637489\n",
      "Recall : 0.7414235705950991"
     ]
    }
   ],
   "source": [
    "print(\"Linear SVC model with TF-IDF\")\n",
    "print(\"Accuracy :\" ,evaluator_lsvc1_s.evaluate(lsvc_predictions1_s,{evaluator_lsvc1_s.metricName: \"accuracy\"}))\n",
    "print(\"f1 :\"       ,evaluator_lsvc1_s.evaluate(lsvc_predictions1_s,{evaluator_lsvc1_s.metricName: \"f1\"}))\n",
    "print(\"Precision :\",evaluator_lsvc1_s.evaluate(lsvc_predictions1_s,{evaluator_lsvc1_s.metricName: \"weightedPrecision\"}))\n",
    "print(\"Recall :\"   ,evaluator_lsvc1_s.evaluate(lsvc_predictions1_s,{evaluator_lsvc1_s.metricName: \"weightedRecall\"}))"
   ]
  },
  {
   "cell_type": "code",
   "execution_count": null,
   "metadata": {},
   "outputs": [],
   "source": []
  }
 ],
 "metadata": {
  "kernelspec": {
   "display_name": "Python 3",
   "language": "python",
   "name": "python3"
  },
  "language_info": {
   "codemirror_mode": {
    "name": "ipython",
    "version": 3
   },
   "file_extension": ".py",
   "mimetype": "text/x-python",
   "name": "python",
   "nbconvert_exporter": "python",
   "pygments_lexer": "ipython3",
   "version": "3.8.3"
  }
 },
 "nbformat": 4,
 "nbformat_minor": 5
}
